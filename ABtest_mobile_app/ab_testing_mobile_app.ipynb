{
 "cells": [
  {
   "cell_type": "markdown",
   "metadata": {
    "id": "mDdfnsU77KLZ"
   },
   "source": [
    "# **Анализ маркетинговых метрик и результатов A/В теста для мобильного приложения по продаже продуктов питания**"
   ]
  },
  {
   "cell_type": "markdown",
   "metadata": {
    "id": "Ym-PHJc6URR8"
   },
   "source": [
    "## **Цели исследования**"
   ]
  },
  {
   "cell_type": "markdown",
   "metadata": {
    "id": "5FPsONdZUVlA"
   },
   "source": [
    "+ Изучить поведение пользователей мобильного приложения, проанализировать воронку продаж, узнать, как пользователи доходят до покупки. \n",
    "+ Выяснить, сколько пользователей доходит до покупки, а сколько — «застревает» на предыдущих шагах и на каких именно\n",
    "+ Исследовать результаты A/A/B-эксперимента"
   ]
  },
  {
   "cell_type": "markdown",
   "metadata": {},
   "source": [
    "## **Краткое описание проекта и план работ**"
   ]
  },
  {
   "cell_type": "markdown",
   "metadata": {},
   "source": [
    "Руководство стартапа, который продаёт продукты питания, поставило задачу изучить воронку продаж и разобраться, как ведут себя пользователи мобильного приложения.\n",
    "\n",
    "Кроме того, необходимо исследовать результаты A/A/B-эксперимента. Дизайнеры захотели поменять шрифты во всем приложении, однако окончательное решение по поводу их внедрения договорились принять по результатам A/A/B-теста. Пользователей разбили на 3 группы: 2 контрольные со старыми шрифтами и одну экспериментальную — с новыми. Нужно выяснить, какой шрифт лучше.\n",
    "\n",
    "**Описание данных**\n",
    "\n",
    "Датасет содержит информацию о действиях пользователей в приложении. Описание столбцов:\n",
    "\n",
    "+ EventName — название события;\n",
    "+ DeviceIDHash — уникальный идентификатор пользователя;\n",
    "+ EventTimestamp — время события;\n",
    "+ ExpId — номер эксперимента: 246 и 247 — контрольные группы, а 248 — экспериментальная.\n",
    "\n",
    "**План работ**\n",
    "\n",
    "+ Исследовать данные, представленные в датасете: за какой период данные представлены, есть ли дубликаты, пропуски, аномальные значения, как распределены наблюдения по группам и т.д.\n",
    "+ Построить и изучить воронку продаж, определить, сколько пользователей доходит до покупки, а сколько \"застревает\" на предыдущих шагах.\n",
    "+ Проанализировать результаты A/A/B-теста. Выяснить, корректно ли распределены пользователи по контрольным группами. Провести статистическую оценку различий маркетинговых метрик в контрольных группах, и отдельно в каждой из контрольных групп и экспериментальной группе.\n",
    "\n"
   ]
  },
  {
   "cell_type": "markdown",
   "metadata": {
    "id": "ApYgOBeX8M1F"
   },
   "source": [
    "## **1. Загрузка данных**"
   ]
  },
  {
   "cell_type": "code",
   "execution_count": 1,
   "metadata": {
    "id": "hK4dml6hPIzG"
   },
   "outputs": [],
   "source": [
    "import pandas as pd\n",
    "import numpy as np\n",
    "import seaborn as sns"
   ]
  },
  {
   "cell_type": "code",
   "execution_count": 2,
   "metadata": {
    "id": "Gtxzn4X2PUA1"
   },
   "outputs": [],
   "source": [
    "import matplotlib.pyplot as plt"
   ]
  },
  {
   "cell_type": "code",
   "execution_count": 3,
   "metadata": {
    "id": "y-GlzAObPRjm"
   },
   "outputs": [],
   "source": [
    "from scipy import stats as st\n",
    "from statsmodels.stats.proportion import proportions_ztest\n",
    "import math as mth\n",
    "import datetime as dt"
   ]
  },
  {
   "cell_type": "code",
   "execution_count": 4,
   "metadata": {
    "id": "MjuEzSqnPWnW"
   },
   "outputs": [],
   "source": [
    "sns.set()"
   ]
  },
  {
   "cell_type": "code",
   "execution_count": 7,
   "metadata": {
    "id": "roqQ8ZVOPfLI"
   },
   "outputs": [],
   "source": [
    "logs = pd.read_csv('C:/Rabota/IT/Datasets/final2/logs_exp.csv', sep='\\t')"
   ]
  },
  {
   "cell_type": "code",
   "execution_count": 8,
   "metadata": {
    "colab": {
     "base_uri": "https://localhost:8080/",
     "height": 206
    },
    "id": "nSnioz0wPou-",
    "outputId": "ae8efbdf-d966-4d81-aab7-a786af5b3b9d"
   },
   "outputs": [
    {
     "data": {
      "text/html": [
       "<div>\n",
       "<style scoped>\n",
       "    .dataframe tbody tr th:only-of-type {\n",
       "        vertical-align: middle;\n",
       "    }\n",
       "\n",
       "    .dataframe tbody tr th {\n",
       "        vertical-align: top;\n",
       "    }\n",
       "\n",
       "    .dataframe thead th {\n",
       "        text-align: right;\n",
       "    }\n",
       "</style>\n",
       "<table border=\"1\" class=\"dataframe\">\n",
       "  <thead>\n",
       "    <tr style=\"text-align: right;\">\n",
       "      <th></th>\n",
       "      <th>EventName</th>\n",
       "      <th>DeviceIDHash</th>\n",
       "      <th>EventTimestamp</th>\n",
       "      <th>ExpId</th>\n",
       "    </tr>\n",
       "  </thead>\n",
       "  <tbody>\n",
       "    <tr>\n",
       "      <th>0</th>\n",
       "      <td>MainScreenAppear</td>\n",
       "      <td>4575588528974610257</td>\n",
       "      <td>1564029816</td>\n",
       "      <td>246</td>\n",
       "    </tr>\n",
       "    <tr>\n",
       "      <th>1</th>\n",
       "      <td>MainScreenAppear</td>\n",
       "      <td>7416695313311560658</td>\n",
       "      <td>1564053102</td>\n",
       "      <td>246</td>\n",
       "    </tr>\n",
       "    <tr>\n",
       "      <th>2</th>\n",
       "      <td>PaymentScreenSuccessful</td>\n",
       "      <td>3518123091307005509</td>\n",
       "      <td>1564054127</td>\n",
       "      <td>248</td>\n",
       "    </tr>\n",
       "    <tr>\n",
       "      <th>3</th>\n",
       "      <td>CartScreenAppear</td>\n",
       "      <td>3518123091307005509</td>\n",
       "      <td>1564054127</td>\n",
       "      <td>248</td>\n",
       "    </tr>\n",
       "    <tr>\n",
       "      <th>4</th>\n",
       "      <td>PaymentScreenSuccessful</td>\n",
       "      <td>6217807653094995999</td>\n",
       "      <td>1564055322</td>\n",
       "      <td>248</td>\n",
       "    </tr>\n",
       "  </tbody>\n",
       "</table>\n",
       "</div>"
      ],
      "text/plain": [
       "                 EventName         DeviceIDHash  EventTimestamp  ExpId\n",
       "0         MainScreenAppear  4575588528974610257      1564029816    246\n",
       "1         MainScreenAppear  7416695313311560658      1564053102    246\n",
       "2  PaymentScreenSuccessful  3518123091307005509      1564054127    248\n",
       "3         CartScreenAppear  3518123091307005509      1564054127    248\n",
       "4  PaymentScreenSuccessful  6217807653094995999      1564055322    248"
      ]
     },
     "execution_count": 8,
     "metadata": {},
     "output_type": "execute_result"
    }
   ],
   "source": [
    "logs.head()"
   ]
  },
  {
   "cell_type": "markdown",
   "metadata": {
    "id": "V1L0Rnnd5seT"
   },
   "source": [
    "## **2. Подготовка данных**"
   ]
  },
  {
   "cell_type": "markdown",
   "metadata": {
    "id": "RZVXFC8j6L3k"
   },
   "source": [
    "### **2.1. Общая информация. Пропуски и дубликаты**"
   ]
  },
  {
   "cell_type": "code",
   "execution_count": 9,
   "metadata": {
    "colab": {
     "base_uri": "https://localhost:8080/"
    },
    "id": "PLWB7LZ5RE9K",
    "outputId": "d94b983a-2904-4c03-dbc1-e72174f2a569"
   },
   "outputs": [
    {
     "name": "stdout",
     "output_type": "stream",
     "text": [
      "<class 'pandas.core.frame.DataFrame'>\n",
      "RangeIndex: 244126 entries, 0 to 244125\n",
      "Data columns (total 4 columns):\n",
      " #   Column          Non-Null Count   Dtype \n",
      "---  ------          --------------   ----- \n",
      " 0   EventName       244126 non-null  object\n",
      " 1   DeviceIDHash    244126 non-null  int64 \n",
      " 2   EventTimestamp  244126 non-null  int64 \n",
      " 3   ExpId           244126 non-null  int64 \n",
      "dtypes: int64(3), object(1)\n",
      "memory usage: 7.5+ MB\n"
     ]
    }
   ],
   "source": [
    "logs.info()"
   ]
  },
  {
   "cell_type": "code",
   "execution_count": 10,
   "metadata": {
    "colab": {
     "base_uri": "https://localhost:8080/"
    },
    "id": "2P4CITVC-a4Q",
    "outputId": "e46990f9-a82a-4f2d-f9e6-7ec566353420"
   },
   "outputs": [
    {
     "data": {
      "text/plain": [
       "413"
      ]
     },
     "execution_count": 10,
     "metadata": {},
     "output_type": "execute_result"
    }
   ],
   "source": [
    "logs.duplicated().sum()"
   ]
  },
  {
   "cell_type": "markdown",
   "metadata": {
    "id": "p9IM2idV9FYR"
   },
   "source": [
    "Датасет содержит информацию о действиях пользователей в приложении. Всего в датасете 244126 строки и 4 столбца. \n",
    "Описание столбцов:\n",
    "+ EventName — название события;\n",
    "+ DeviceIDHash — уникальный идентификатор пользователя;\n",
    "+ EventTimestamp — время события;\n",
    "+ ExpId — номер эксперимента: 246 и 247 — контрольные группы, а 248 — экспериментальная.\n",
    "\n",
    "Пропуски в датасете отсутствуют, однако есть дубликаты, от которых нужно избавиться."
   ]
  },
  {
   "cell_type": "code",
   "execution_count": 11,
   "metadata": {
    "id": "FQQDVvS0e16T"
   },
   "outputs": [],
   "source": [
    "logs = logs.drop_duplicates()"
   ]
  },
  {
   "cell_type": "markdown",
   "metadata": {
    "id": "pcGzB34fUgcg"
   },
   "source": [
    "### **2.2. Названия столбцов. Формат данных**"
   ]
  },
  {
   "cell_type": "markdown",
   "metadata": {
    "id": "STxRumDYUjL3"
   },
   "source": [
    "Приведем названия столбцов к эталонному виду"
   ]
  },
  {
   "cell_type": "code",
   "execution_count": 12,
   "metadata": {
    "id": "DoDC20lnTzGP"
   },
   "outputs": [],
   "source": [
    "logs.columns = ['event_name', 'device_id_hash', 'event_timestamp', 'exp_id']"
   ]
  },
  {
   "cell_type": "markdown",
   "metadata": {
    "id": "JwmOmb2t_K3i"
   },
   "source": [
    "Поменяем формат столбца с датами с object на datetime, имея в виду, что все даты в столбце у нас указаны в формате unix time."
   ]
  },
  {
   "cell_type": "code",
   "execution_count": 13,
   "metadata": {
    "id": "l4-XEEyORoeX"
   },
   "outputs": [],
   "source": [
    "logs['event_timestamp'] = pd.to_datetime(logs['event_timestamp'], unit='s')"
   ]
  },
  {
   "cell_type": "markdown",
   "metadata": {
    "id": "5_eKE0m9_yyz"
   },
   "source": [
    "Создадим отдельный столбец с датой в формате YYYY-MM-DD"
   ]
  },
  {
   "cell_type": "code",
   "execution_count": 14,
   "metadata": {
    "id": "QK1Ku6sQUuaZ"
   },
   "outputs": [],
   "source": [
    "logs['dt'] = logs['event_timestamp'].dt.date"
   ]
  },
  {
   "cell_type": "code",
   "execution_count": 15,
   "metadata": {
    "id": "m-PNR-1ikpBs"
   },
   "outputs": [],
   "source": [
    "logs['dt'] = pd.to_datetime(logs['dt'], format='%Y-%m-%d')"
   ]
  },
  {
   "cell_type": "code",
   "execution_count": 16,
   "metadata": {
    "colab": {
     "base_uri": "https://localhost:8080/"
    },
    "id": "eBsS3M4ckylD",
    "outputId": "022b4f9f-8b39-48a7-925f-26fd20ac8ac9"
   },
   "outputs": [
    {
     "name": "stdout",
     "output_type": "stream",
     "text": [
      "<class 'pandas.core.frame.DataFrame'>\n",
      "Int64Index: 243713 entries, 0 to 244125\n",
      "Data columns (total 5 columns):\n",
      " #   Column           Non-Null Count   Dtype         \n",
      "---  ------           --------------   -----         \n",
      " 0   event_name       243713 non-null  object        \n",
      " 1   device_id_hash   243713 non-null  int64         \n",
      " 2   event_timestamp  243713 non-null  datetime64[ns]\n",
      " 3   exp_id           243713 non-null  int64         \n",
      " 4   dt               243713 non-null  datetime64[ns]\n",
      "dtypes: datetime64[ns](2), int64(2), object(1)\n",
      "memory usage: 11.2+ MB\n"
     ]
    }
   ],
   "source": [
    "logs.info()"
   ]
  },
  {
   "cell_type": "markdown",
   "metadata": {
    "id": "vD0XipNTAXpe"
   },
   "source": [
    "## **3. Предварительный анализ данных**"
   ]
  },
  {
   "cell_type": "markdown",
   "metadata": {
    "id": "_MpekS6vcw_7"
   },
   "source": [
    "### **3.1 Сколько всего событий в логе**"
   ]
  },
  {
   "cell_type": "code",
   "execution_count": 17,
   "metadata": {
    "colab": {
     "base_uri": "https://localhost:8080/"
    },
    "id": "m2UyO5dXn1et",
    "outputId": "7112dc95-5f89-4734-ea35-870e078f694e"
   },
   "outputs": [
    {
     "data": {
      "text/plain": [
       "MainScreenAppear           0.488694\n",
       "OffersScreenAppear         0.192062\n",
       "CartScreenAppear           0.175075\n",
       "PaymentScreenSuccessful    0.139993\n",
       "Tutorial                   0.004177\n",
       "Name: event_name, dtype: float64"
      ]
     },
     "execution_count": 17,
     "metadata": {},
     "output_type": "execute_result"
    }
   ],
   "source": [
    "logs.event_name.value_counts(normalize=True, ascending=False)"
   ]
  },
  {
   "cell_type": "code",
   "execution_count": 18,
   "metadata": {
    "colab": {
     "base_uri": "https://localhost:8080/",
     "height": 355
    },
    "id": "vJU4Bon-CPth",
    "outputId": "19f96cfe-ca4a-4ba3-bcaf-e7e2243247c0"
   },
   "outputs": [
    {
     "data": {
      "image/png": "[encoded data removed]",
      "text/plain": [
       "<Figure size 576x360 with 1 Axes>"
      ]
     },
     "metadata": {},
     "output_type": "display_data"
    }
   ],
   "source": [
    "fig, ax = plt.subplots(figsize=(8,5))\n",
    "logs.event_name.value_counts(ascending=True).plot(kind='barh', color='#00B4D2', width=0.7)\n",
    "\n",
    "for p in ax.patches:\n",
    "    ax.annotate(\"%.0f\" % p.get_width(), (p.get_x() + p.get_width(), p.get_y() + 0.0),\n",
    "                xytext=(5, 10), textcoords='offset points')\n",
    "    \n",
    "plt.title(\"Распределение записей по событиям\", loc='left')\n",
    "plt.xlabel(\"число записей\")\n",
    "plt.xlim(0,140000);"
   ]
  },
  {
   "cell_type": "markdown",
   "metadata": {
    "id": "OBhFztFvC2GP"
   },
   "source": [
    "Всего у нас пять событий: показ пользователю главного экрана, показ экрана с предложением, показ экрана с корзиной, показ экрана об успешной оплате и экрана с обучением. Судя по статистике, опция с обучением не пользуется популярностью у пользователей и явно не является обязательной - на ее долю приходится меньше половины процента всех записей. Чаще всего в датасете фигугирует показ главного экрана (почти половина всех наблюдений), что вполне логично, поскольку именно главный экран в большинстве случаев является стартовой площадкой для дальнейшего перемещения пользователя по приложению."
   ]
  },
  {
   "cell_type": "markdown",
   "metadata": {
    "id": "ZHHYvPMFgT0U"
   },
   "source": [
    "### **3.2. Сколько в среднем событий приходится на пользователя**"
   ]
  },
  {
   "cell_type": "code",
   "execution_count": 19,
   "metadata": {
    "colab": {
     "base_uri": "https://localhost:8080/"
    },
    "id": "M6ZxP8Olgw3D",
    "outputId": "9af808dc-e0d3-4c10-b3c9-27597a534eaf"
   },
   "outputs": [
    {
     "data": {
      "text/plain": [
       "2.6744802012978415"
      ]
     },
     "execution_count": 19,
     "metadata": {},
     "output_type": "execute_result"
    }
   ],
   "source": [
    "# Сколько в среднем уникальных событий приходится на пользователя\n",
    "logs.groupby('device_id_hash')['event_name'].agg('nunique').mean()"
   ]
  },
  {
   "cell_type": "code",
   "execution_count": 20,
   "metadata": {
    "colab": {
     "base_uri": "https://localhost:8080/"
    },
    "id": "ldCyc5sphlvE",
    "outputId": "45357957-104f-483e-98a0-78e8a304f78c"
   },
   "outputs": [
    {
     "data": {
      "text/plain": [
       "32.27559263673685"
      ]
     },
     "execution_count": 20,
     "metadata": {},
     "output_type": "execute_result"
    }
   ],
   "source": [
    "# Сколько в среднем всех событий приходится на пользователя\n",
    "logs.groupby('device_id_hash')['event_name'].agg('count').mean()"
   ]
  },
  {
   "cell_type": "markdown",
   "metadata": {
    "id": "chuXX5xpFZUL"
   },
   "source": [
    "Мы видим, что на одного пользователя в среднем приходится 2,7 уникальных события. Грубо говоря, это значит, что пользователи в среднем, как минимум, открывают главную страницу и, к примеру, переходят на страницу с предложением. При этом повторяющихся событий на каждого пользователя приходится в среднем 32. "
   ]
  },
  {
   "cell_type": "code",
   "execution_count": 21,
   "metadata": {
    "colab": {
     "base_uri": "https://localhost:8080/",
     "height": 301
    },
    "id": "N4sIJhomGBMH",
    "outputId": "82225dd5-fa14-41ce-e0fc-c1b6468fd469"
   },
   "outputs": [
    {
     "data": {
      "image/png": "[encoded data removed]",
      "text/plain": [
       "<Figure size 1152x288 with 2 Axes>"
      ]
     },
     "metadata": {},
     "output_type": "display_data"
    }
   ],
   "source": [
    "user_activity = logs.groupby('device_id_hash')['event_name'].agg('count').reset_index()\n",
    "\n",
    "fig, ax = plt.subplots(1,2,figsize=(16,4))\n",
    "sns.histplot(user_activity.event_name, kde=False, color=\"limegreen\", ax=ax[0], bins=20)\n",
    "sns.histplot(np.log(user_activity.event_name), ax=ax[1], bins=20, color=\"limegreen\", kde=False)\n",
    "ax[0].set_title(\"Распределение кол-ва событий на уникального пользователя\")\n",
    "ax[1].set_title(\"Лог-распределение кол-ва событий на уникального пользователя\")\n",
    "ax[0].set_ylabel('')\n",
    "ax[1].set_ylabel('');"
   ]
  },
  {
   "cell_type": "code",
   "execution_count": 22,
   "metadata": {
    "colab": {
     "base_uri": "https://localhost:8080/"
    },
    "id": "MuPjpoH1IB9q",
    "outputId": "751ca964-94d3-428c-9da3-bd14844334fa"
   },
   "outputs": [
    {
     "data": {
      "text/plain": [
       "298.8674009670603"
      ]
     },
     "execution_count": 22,
     "metadata": {},
     "output_type": "execute_result"
    }
   ],
   "source": [
    "np.exp(5.7)"
   ]
  },
  {
   "cell_type": "code",
   "execution_count": 23,
   "metadata": {
    "colab": {
     "base_uri": "https://localhost:8080/"
    },
    "id": "UVLjYuwbJKaI",
    "outputId": "1577228e-f078-49ad-d119-d0723a3c1efc"
   },
   "outputs": [
    {
     "data": {
      "text/plain": [
       "24.532530197109352"
      ]
     },
     "execution_count": 23,
     "metadata": {},
     "output_type": "execute_result"
    }
   ],
   "source": [
    "np.exp(3.2)"
   ]
  },
  {
   "cell_type": "code",
   "execution_count": 24,
   "metadata": {
    "colab": {
     "base_uri": "https://localhost:8080/"
    },
    "id": "pU_f7vDkIjBU",
    "outputId": "67ee5998-f3a5-465a-c6f9-45ae27a59e69"
   },
   "outputs": [
    {
     "data": {
      "text/plain": [
       "0.9957621507085155"
      ]
     },
     "execution_count": 24,
     "metadata": {},
     "output_type": "execute_result"
    }
   ],
   "source": [
    "(user_activity['event_name'] < 300).mean()"
   ]
  },
  {
   "cell_type": "markdown",
   "metadata": {
    "id": "sfXnrpnVJVcS"
   },
   "source": [
    "По графику видно, что распределение событий сильно перекошено и близко к логнормальному. У 99,6% пользователей кол-во событий не превышает 300, а в среднем находится в районе 24. При этом есть единичные выбросы, доходящие до 2000 событий и более.\n",
    "\n",
    "Посмотрим на точечном графике, как распределяются данные о кол-ве событий на каждого пользователя между разными группами."
   ]
  },
  {
   "cell_type": "code",
   "execution_count": 25,
   "metadata": {
    "colab": {
     "base_uri": "https://localhost:8080/",
     "height": 355
    },
    "id": "-qZI7SiC-5cB",
    "outputId": "25645190-5cb5-461a-9f3f-b8d14c55b5e2"
   },
   "outputs": [
    {
     "data": {
      "image/png": "[encoded data removed]",
      "text/plain": [
       "<Figure size 1152x360 with 2 Axes>"
      ]
     },
     "metadata": {},
     "output_type": "display_data"
    }
   ],
   "source": [
    "# Создадим переменную events_per_user с данными о кол-ве событий, сгруппированными по пользователям и группам\n",
    "events_per_user = logs.groupby(['device_id_hash', 'exp_id'])['event_name'].agg('count').reset_index()\n",
    "\n",
    "# Посмотрим два точечных графика: со всеми событиями и укрупненный график с пользователями, совершившими не более 500 событий\n",
    "fig, ax = plt.subplots(1,2, figsize=(16,5))\n",
    "sns.scatterplot(x=events_per_user.index, y=events_per_user['event_name'], hue=events_per_user['exp_id'], ax=ax[0], s=70)\n",
    "sns.scatterplot(x=events_per_user.query('event_name < 500').index, \\\n",
    "                y=events_per_user.query('event_name < 500')['event_name'], \\\n",
    "                hue=events_per_user.query('event_name < 500')['exp_id'], ax=ax[1], s=70)\n",
    "ax[0].set_xlabel('порядковый номер пользователя')\n",
    "ax[1].set_xlabel('порядковый номер пользователя')\n",
    "ax[0].set_ylabel('кол-во событий')\n",
    "ax[1].set_ylabel('кол-во событий')\n",
    "ax[0].legend()\n",
    "ax[1].legend()\n",
    "ax[0].set_title(\"Точечный график кол-ва событий в расчете на пользователя\")\n",
    "ax[1].set_title(\"Точечный график по пользователям с кол-вом событий менее 500\");"
   ]
  },
  {
   "cell_type": "markdown",
   "metadata": {
    "id": "ojnsMJlaNGoS"
   },
   "source": [
    "На первом графике хорошо видны единичные выбросы, причем аномальных выбросов явно больше в тестовой группе 248 и чуть меньше в контрольных группах 246 и 247. Это может исказить результаты анализа A/В теста, поэтому от аномальных выбросов целесообразно будет избавиться на этапе фильтрации данных. За уровень отсечки возьмем 300 событий на пользователя. Как мы выяснили выше, потеря в данных при такой фильтрации составит менее 0,5%."
   ]
  },
  {
   "cell_type": "code",
   "execution_count": 26,
   "metadata": {
    "id": "u0DkXdsgRwHs"
   },
   "outputs": [],
   "source": [
    "# Создадим переменную abnomal_users с id пользователей, совершивших 300 событий и более, для последующей фильтрации\n",
    "abnormal_users = events_per_user.query('event_name >=300')['device_id_hash'].values"
   ]
  },
  {
   "cell_type": "markdown",
   "metadata": {
    "id": "TToT5cHic8Ra"
   },
   "source": [
    "### **3.3. Сколько всего пользователей в логе**"
   ]
  },
  {
   "cell_type": "code",
   "execution_count": 27,
   "metadata": {
    "colab": {
     "base_uri": "https://localhost:8080/"
    },
    "id": "kRtEzyJOc9x6",
    "outputId": "aca1aa68-cd8a-44ed-8f51-32c308e22ebf"
   },
   "outputs": [
    {
     "data": {
      "text/plain": [
       "7551"
      ]
     },
     "execution_count": 27,
     "metadata": {},
     "output_type": "execute_result"
    }
   ],
   "source": [
    "# Подсчитаем число уникальных пользователей\n",
    "logs.device_id_hash.nunique()"
   ]
  },
  {
   "cell_type": "markdown",
   "metadata": {
    "id": "6IIhaKWBK0_G"
   },
   "source": [
    "Проверим, чтобы у нас не было пересечений по уникальным пользователям между группами."
   ]
  },
  {
   "cell_type": "code",
   "execution_count": 28,
   "metadata": {
    "colab": {
     "base_uri": "https://localhost:8080/"
    },
    "id": "06LJo-PwdM3c",
    "outputId": "97085a18-5382-40c9-a6cf-0f08e8aec079"
   },
   "outputs": [
    {
     "data": {
      "text/plain": [
       "device_id_hash\n",
       "6888746892508752       1\n",
       "6207768971558512760    1\n",
       "6217807653094995999    1\n",
       "6217295124800833842    1\n",
       "6216080220799726690    1\n",
       "                      ..\n",
       "3175239243679501019    1\n",
       "3171891164497446149    1\n",
       "3171454373076660766    1\n",
       "3170212200647575044    1\n",
       "9222603179720523844    1\n",
       "Name: exp_id, Length: 7551, dtype: int64"
      ]
     },
     "execution_count": 28,
     "metadata": {},
     "output_type": "execute_result"
    }
   ],
   "source": [
    "logs.groupby('device_id_hash')['exp_id'].agg('nunique').sort_values(ascending=False)"
   ]
  },
  {
   "cell_type": "markdown",
   "metadata": {
    "id": "6AmaDU0CLKgM"
   },
   "source": [
    "У нас нет пользователей, попавших сразу в несколько групп. Теперь посмотрим, как распределены пользователи между группами."
   ]
  },
  {
   "cell_type": "code",
   "execution_count": 29,
   "metadata": {
    "colab": {
     "base_uri": "https://localhost:8080/"
    },
    "id": "JqgcknXXnXM8",
    "outputId": "d5895898-5a8e-48c5-c9af-67e7cac9e474"
   },
   "outputs": [
    {
     "data": {
      "text/plain": [
       "exp_id\n",
       "246    2489\n",
       "247    2520\n",
       "248    2542\n",
       "Name: device_id_hash, dtype: int64"
      ]
     },
     "execution_count": 29,
     "metadata": {},
     "output_type": "execute_result"
    }
   ],
   "source": [
    "logs.groupby('exp_id')['device_id_hash'].agg('nunique')"
   ]
  },
  {
   "cell_type": "code",
   "execution_count": 30,
   "metadata": {
    "colab": {
     "base_uri": "https://localhost:8080/",
     "height": 301
    },
    "id": "2Ppjehi9fNYA",
    "outputId": "021fdb7f-c1ec-41d2-d493-90c9a6489fc9"
   },
   "outputs": [
    {
     "data": {
      "image/png": "[encoded data removed]",
      "text/plain": [
       "<Figure size 504x288 with 1 Axes>"
      ]
     },
     "metadata": {},
     "output_type": "display_data"
    }
   ],
   "source": [
    "groups = logs.groupby('exp_id')['device_id_hash'].agg('nunique')\n",
    "\n",
    "fig, ax = plt.subplots(figsize=(7,4))\n",
    "\n",
    "sns.barplot(x=groups.index, y=groups.values, palette=\"Greens_r\")\n",
    "plt.title(\"Распределение пользователей по группам\")\n",
    "plt.xlabel(\"номер группы\")\n",
    "plt.ylabel(\"кол-во пользователей в группе\");"
   ]
  },
  {
   "cell_type": "markdown",
   "metadata": {
    "id": "Nhbj0014LYls"
   },
   "source": [
    "В целом, распределение довольно равномерное. Есть небольшая разница между двумя контрольными группами (246 и 247): в первой 2489 человек, во второй несколько больше - 2520 человек. Больше всего пользователей в тестовой группе 248 - 2542 человека. "
   ]
  },
  {
   "cell_type": "markdown",
   "metadata": {
    "id": "x_lkOEvWh8Y-"
   },
   "source": [
    "### **3.4. Данными за какой период мы располагаем** "
   ]
  },
  {
   "cell_type": "code",
   "execution_count": 31,
   "metadata": {
    "colab": {
     "base_uri": "https://localhost:8080/",
     "height": 112
    },
    "id": "Z3LmvfWlh9Hp",
    "outputId": "2f2f8f08-eeae-49f3-f0ce-43ed7baaeff7"
   },
   "outputs": [
    {
     "data": {
      "text/html": [
       "<div>\n",
       "<style scoped>\n",
       "    .dataframe tbody tr th:only-of-type {\n",
       "        vertical-align: middle;\n",
       "    }\n",
       "\n",
       "    .dataframe tbody tr th {\n",
       "        vertical-align: top;\n",
       "    }\n",
       "\n",
       "    .dataframe thead th {\n",
       "        text-align: right;\n",
       "    }\n",
       "</style>\n",
       "<table border=\"1\" class=\"dataframe\">\n",
       "  <thead>\n",
       "    <tr style=\"text-align: right;\">\n",
       "      <th></th>\n",
       "      <th>index</th>\n",
       "      <th>event_timestamp</th>\n",
       "    </tr>\n",
       "  </thead>\n",
       "  <tbody>\n",
       "    <tr>\n",
       "      <th>0</th>\n",
       "      <td>min</td>\n",
       "      <td>2019-07-25 04:43:36</td>\n",
       "    </tr>\n",
       "    <tr>\n",
       "      <th>1</th>\n",
       "      <td>max</td>\n",
       "      <td>2019-08-07 21:15:17</td>\n",
       "    </tr>\n",
       "  </tbody>\n",
       "</table>\n",
       "</div>"
      ],
      "text/plain": [
       "  index     event_timestamp\n",
       "0   min 2019-07-25 04:43:36\n",
       "1   max 2019-08-07 21:15:17"
      ]
     },
     "execution_count": 31,
     "metadata": {},
     "output_type": "execute_result"
    }
   ],
   "source": [
    "logs.event_timestamp.apply(['min', 'max']).reset_index()"
   ]
  },
  {
   "cell_type": "markdown",
   "metadata": {
    "id": "yS_UBdTJMNMV"
   },
   "source": [
    "Самые ранние записи относятся к 25 июля 2019 года, самые поздние - к 7 августа 2019 года, т.е. у нас данные за полные две недели. Проверим, как распределяются записи по датам."
   ]
  },
  {
   "cell_type": "code",
   "execution_count": 32,
   "metadata": {
    "colab": {
     "base_uri": "https://localhost:8080/",
     "height": 343
    },
    "id": "VWda92JxiMHu",
    "outputId": "37f07566-ba0f-494d-aa4e-259614c4a885"
   },
   "outputs": [
    {
     "data": {
      "image/png": "[encoded data removed]",
      "text/plain": [
       "<Figure size 432x288 with 1 Axes>"
      ]
     },
     "metadata": {},
     "output_type": "display_data"
    }
   ],
   "source": [
    "sns.histplot(logs['dt'], bins=14, color='#9B5028')\n",
    "plt.xlim(dt.datetime(2019, 7, 25), dt.datetime(2019, 8, 7))\n",
    "plt.title(\"Распределение записей по датам\")\n",
    "plt.xlabel('дата')\n",
    "plt.ylabel('кол-во записей')\n",
    "plt.xticks(rotation=45);"
   ]
  },
  {
   "cell_type": "code",
   "execution_count": 33,
   "metadata": {
    "colab": {
     "base_uri": "https://localhost:8080/"
    },
    "id": "8wlzYRQtM-6J",
    "outputId": "a386f1a6-079e-4bd0-96fd-b60f293bc653"
   },
   "outputs": [
    {
     "data": {
      "text/plain": [
       "0.988404393692581"
      ]
     },
     "execution_count": 33,
     "metadata": {},
     "output_type": "execute_result"
    }
   ],
   "source": [
    "(logs['dt'] > \"2019-07-31\").mean()"
   ]
  },
  {
   "cell_type": "markdown",
   "metadata": {
    "id": "jD90IeugMg8-"
   },
   "source": [
    "Мы видим, что по времени записи распределены крайне неравномерно. Наиболее полные данные, пригодные к анализу, у нас имеются с 1 августа, то есть за одну неделю. На этот период приходится почти 99% всех наблюдений. Более ранние записи необходимо исключить из анализа как неполные и непригодные для сравнительных исследований."
   ]
  },
  {
   "cell_type": "code",
   "execution_count": 34,
   "metadata": {
    "id": "sK0p-2MkmEyv"
   },
   "outputs": [],
   "source": [
    "df = logs.query('dt > \"2019-07-31\"')"
   ]
  },
  {
   "cell_type": "markdown",
   "metadata": {
    "id": "F9YzUbeDmk1n"
   },
   "source": [
    "Проверим, сколько событий и пользователей мы потеряли, отбросив старые данные."
   ]
  },
  {
   "cell_type": "code",
   "execution_count": 35,
   "metadata": {
    "colab": {
     "base_uri": "https://localhost:8080/"
    },
    "id": "UiNqPLvT2UTD",
    "outputId": "d382265a-3472-4fd1-84de-a220b07d1b9a"
   },
   "outputs": [
    {
     "data": {
      "text/plain": [
       "7534"
      ]
     },
     "execution_count": 35,
     "metadata": {},
     "output_type": "execute_result"
    }
   ],
   "source": [
    "# Сколько уникальных пользователей в отфильтрованном датафрейме\n",
    "df.device_id_hash.nunique()"
   ]
  },
  {
   "cell_type": "code",
   "execution_count": 36,
   "metadata": {
    "colab": {
     "base_uri": "https://localhost:8080/"
    },
    "id": "KrqnpYojmpm-",
    "outputId": "a39653ff-61b0-4905-bc8d-dc834afa2e0b"
   },
   "outputs": [
    {
     "data": {
      "text/plain": [
       "17"
      ]
     },
     "execution_count": 36,
     "metadata": {},
     "output_type": "execute_result"
    }
   ],
   "source": [
    "# Сколько уникальных пользователей мы потеряли при фильтрации\n",
    "logs.device_id_hash.nunique() - df.device_id_hash.nunique()"
   ]
  },
  {
   "cell_type": "code",
   "execution_count": 37,
   "metadata": {
    "colab": {
     "base_uri": "https://localhost:8080/"
    },
    "id": "yUdOYJVzOhnu",
    "outputId": "45280443-e639-4ea6-e4aa-4ce151affd60"
   },
   "outputs": [
    {
     "data": {
      "text/plain": [
       "2826"
      ]
     },
     "execution_count": 37,
     "metadata": {},
     "output_type": "execute_result"
    }
   ],
   "source": [
    "# Сколько событий мы потеряли\n",
    "logs.event_name.count() - df.event_name.count()"
   ]
  },
  {
   "cell_type": "markdown",
   "metadata": {
    "id": "fDmzp9VeOBCt"
   },
   "source": [
    "При фильтрации мы \"потеряли\" всего 17 уникальных пользователей (это менее одного процента от общего числа) и примерно 2800 событий (около 1% от общего числа). \n",
    "\n",
    "Удалим также аномальных пользователей, совершивших 300 и более событий."
   ]
  },
  {
   "cell_type": "code",
   "execution_count": 38,
   "metadata": {
    "id": "NTiHAoBdS9-O"
   },
   "outputs": [],
   "source": [
    "df = df[~df['device_id_hash'].isin(abnormal_users)]"
   ]
  },
  {
   "cell_type": "markdown",
   "metadata": {
    "id": "dFlM-l9SnFtO"
   },
   "source": [
    "Проверим распределение пользователей по группам после фильтрации. "
   ]
  },
  {
   "cell_type": "code",
   "execution_count": 39,
   "metadata": {
    "colab": {
     "base_uri": "https://localhost:8080/"
    },
    "id": "VQHt-Ef8nadz",
    "outputId": "bee2f9fc-5cdb-4fac-cf98-dcea271cf692"
   },
   "outputs": [
    {
     "data": {
      "text/plain": [
       "exp_id\n",
       "246    2474\n",
       "247    2506\n",
       "248    2522\n",
       "Name: device_id_hash, dtype: int64"
      ]
     },
     "execution_count": 39,
     "metadata": {},
     "output_type": "execute_result"
    }
   ],
   "source": [
    "df.groupby('exp_id')['device_id_hash'].agg('nunique')"
   ]
  },
  {
   "cell_type": "code",
   "execution_count": 40,
   "metadata": {
    "colab": {
     "base_uri": "https://localhost:8080/",
     "height": 319
    },
    "id": "6HH0JUqEnGZ1",
    "outputId": "757e5f8e-3cd0-483e-88ab-56ac45bbbda3"
   },
   "outputs": [
    {
     "data": {
      "text/plain": [
       "Text(0, 0.5, 'кол-во пользователей в группе')"
      ]
     },
     "execution_count": 40,
     "metadata": {},
     "output_type": "execute_result"
    },
    {
     "data": {
      "image/png": "[encoded data removed]",
      "text/plain": [
       "<Figure size 504x288 with 1 Axes>"
      ]
     },
     "metadata": {},
     "output_type": "display_data"
    }
   ],
   "source": [
    "df_groups = df.groupby('exp_id')['device_id_hash'].agg('nunique')\n",
    "\n",
    "fig, ax = plt.subplots(figsize=(7,4))\n",
    "\n",
    "sns.barplot(x=groups.index, y=groups.values, palette=\"Oranges_r\")\n",
    "plt.title(\"Распределение пользователей по группам\")\n",
    "plt.xlabel(\"номер группы\")\n",
    "plt.ylabel(\"кол-во пользователей в группе\")"
   ]
  },
  {
   "cell_type": "markdown",
   "metadata": {
    "id": "GLcGJ3E8PN_r"
   },
   "source": [
    "На распределении пользователей по группам фильтрация особо не сказалась: группы по-прежнему примерно одинаковые."
   ]
  },
  {
   "cell_type": "markdown",
   "metadata": {
    "id": "miQ2cV2-nls7"
   },
   "source": [
    "## **4. Воронка событий**"
   ]
  },
  {
   "cell_type": "markdown",
   "metadata": {
    "id": "04x8jfkknp8Z"
   },
   "source": [
    "### **4.1. Частота появления событий в логах**"
   ]
  },
  {
   "cell_type": "code",
   "execution_count": 98,
   "metadata": {
    "colab": {
     "base_uri": "https://localhost:8080/",
     "height": 338
    },
    "id": "uql0hrDrm1Tr",
    "outputId": "adeab4a0-6ef9-4d9f-ebc3-7a82a7eec1cd"
   },
   "outputs": [
    {
     "data": {
      "image/png": "[encoded data removed]",
      "text/plain": [
       "<Figure size 576x360 with 1 Axes>"
      ]
     },
     "metadata": {},
     "output_type": "display_data"
    }
   ],
   "source": [
    "# Визуализируем, как распределяются записи по событиям в датасете\n",
    "fig, ax = plt.subplots(figsize=(8,5))\n",
    "df.event_name.value_counts(normalize=True, ascending=True).plot(kind='barh', color='#E1A05A', width=0.7)\n",
    "\n",
    "for p in ax.patches:\n",
    "    ax.annotate('{:.1f}%'.format(100*p.get_width()), (p.get_x() + p.get_width(), p.get_y() + 0.0),\n",
    "                xytext=(5, 10), textcoords='offset points')\n",
    "    ax.set_xticks(ax.get_xticks().tolist())\n",
    "    _ = ax.set_xticklabels(map('{:.0f}%'.format, 100*ax.xaxis.get_majorticklocs()))\n",
    "    \n",
    "plt.title(\"Распределение наблюдений по событиям\", loc='left')\n",
    "plt.xlim(0,0.6);"
   ]
  },
  {
   "cell_type": "markdown",
   "metadata": {
    "id": "tlbU-Wm6QRBv"
   },
   "source": [
    "Наиболее часто в логах появляются записи о показе пользователям главного экрана - на них приходится более половины всех наблюдений (53,3%). На втором месте - экран с предложением (20.1%) и далее с небольшим отрывом идет экран с корзиной (14,8%). Примерно 11.3% записей посвящены успешным платежам и, наконец, реже всего фигурирует экран с обучением (0,5%). Судя по всему, подавляющая часть пользователей достачно уверенно чувствует себя в приложении и не ощущает необходимость в дополнительных разъяснениях. "
   ]
  },
  {
   "cell_type": "markdown",
   "metadata": {
    "id": "BCHYznaRRjDY"
   },
   "source": [
    "### **4.2. Сколько пользователей совершает какое событие**"
   ]
  },
  {
   "cell_type": "markdown",
   "metadata": {
    "id": "vKihi2j1ziwi"
   },
   "source": [
    "Подсчитаем, сколько уникальных пользователей совершали каждое из событий и долю пользователей, которые хоть раз совершали событие."
   ]
  },
  {
   "cell_type": "code",
   "execution_count": 42,
   "metadata": {
    "colab": {
     "base_uri": "https://localhost:8080/"
    },
    "id": "RnxBfav8nq3g",
    "outputId": "80ef6c2b-1c71-4918-a030-259e3e8d6f59"
   },
   "outputs": [
    {
     "data": {
      "text/plain": [
       "event_name\n",
       "MainScreenAppear           7387\n",
       "OffersScreenAppear         4561\n",
       "CartScreenAppear           3702\n",
       "PaymentScreenSuccessful    3507\n",
       "Tutorial                    835\n",
       "Name: device_id_hash, dtype: int64"
      ]
     },
     "execution_count": 42,
     "metadata": {},
     "output_type": "execute_result"
    }
   ],
   "source": [
    "# Сколько уникальных пользователей совершали каждое событие\n",
    "df.groupby('event_name')['device_id_hash'].agg('nunique').sort_values(ascending=False)"
   ]
  },
  {
   "cell_type": "code",
   "execution_count": 96,
   "metadata": {
    "colab": {
     "base_uri": "https://localhost:8080/",
     "height": 338
    },
    "id": "0KH3_S872gn_",
    "outputId": "f2ead4f2-1e7d-45fd-a026-8eaf71560bb1"
   },
   "outputs": [
    {
     "data": {
      "image/png": "[encoded data removed]",
      "text/plain": [
       "<Figure size 576x360 with 1 Axes>"
      ]
     },
     "metadata": {},
     "output_type": "display_data"
    }
   ],
   "source": [
    "fig, ax = plt.subplots(figsize=(8,5))\n",
    "(\n",
    "    df.groupby('event_name')['device_id_hash'] .agg('nunique')\n",
    "    .apply(lambda x: x/df.device_id_hash.nunique())\n",
    "    .sort_values(ascending=True).plot(kind='barh', color='#9B5028', width=0.7)\n",
    ")\n",
    "\n",
    "for p in ax.patches:\n",
    "    ax.annotate('{:.1f}%'.format(100*p.get_width()), (p.get_x() + p.get_width(), p.get_y() + 0.0),\n",
    "                xytext=(5, 10), textcoords='offset points')\n",
    "    ax.set_xticks([0, 0.2, 0.4, 0.6, 0.8, 1])\n",
    "    _ = ax.set_xticklabels(map('{:.0f}%'.format, 100*ax.xaxis.get_majorticklocs()))\n",
    "\n",
    "plt.title(\"Доля пользователей, совершивших событие хотя бы раз\", loc='left')\n",
    "plt.ylabel('');"
   ]
  },
  {
   "cell_type": "markdown",
   "metadata": {
    "id": "-XZgc7yESUgx"
   },
   "source": [
    "На главный экран приложения выходят, так или иначе, практически все пользователи (98,5%). 61% из них доходит по странички с предложением. Почти половина (49,3%) переходят к корзине и, наконец, 47% доходят до успешной оплаты. Страничку с обучением открывает 11% уникальных пользователей."
   ]
  },
  {
   "cell_type": "markdown",
   "metadata": {
    "id": "gis7VjR138Nk"
   },
   "source": [
    "### **4.3. В каком порядке предположительно происходят события**"
   ]
  },
  {
   "cell_type": "markdown",
   "metadata": {
    "id": "dUvEo-DIeMnL"
   },
   "source": [
    "Исходя из построенной выше гистограммы, можно предположить, что последовательность событий плюс-минсу выглядит следующим образом: пользователь сначала заходит на главный экран, затем выходит на страницу с предложением/товаром, кладет товар в корзину и, наконец, оплачивает товар. У небольшого числа пользователей на одном из первых этапов фигугирует также заход на страничку с обучением (возможно, это происходит до или после захода на главную страницу). Полный цикл проходит, как мы уже выяснили около 47% пользователей, а в среднем пользователи доходят, как минимум, до второго этапа (просмотр товара).\n",
    "\n",
    "Изучим для примера последовательность событий для случайного пользователя. Выберем его из числа пользователей, которые проходят в том числе этап обучения."
   ]
  },
  {
   "cell_type": "code",
   "execution_count": 44,
   "metadata": {
    "colab": {
     "base_uri": "https://localhost:8080/",
     "height": 206
    },
    "id": "dcDzrXcf2Zbe",
    "outputId": "d2762cf9-250d-46be-f52f-3d8b2d2698df"
   },
   "outputs": [
    {
     "data": {
      "text/html": [
       "<div>\n",
       "<style scoped>\n",
       "    .dataframe tbody tr th:only-of-type {\n",
       "        vertical-align: middle;\n",
       "    }\n",
       "\n",
       "    .dataframe tbody tr th {\n",
       "        vertical-align: top;\n",
       "    }\n",
       "\n",
       "    .dataframe thead th {\n",
       "        text-align: right;\n",
       "    }\n",
       "</style>\n",
       "<table border=\"1\" class=\"dataframe\">\n",
       "  <thead>\n",
       "    <tr style=\"text-align: right;\">\n",
       "      <th></th>\n",
       "      <th>event_name</th>\n",
       "      <th>device_id_hash</th>\n",
       "      <th>event_timestamp</th>\n",
       "      <th>exp_id</th>\n",
       "      <th>dt</th>\n",
       "    </tr>\n",
       "  </thead>\n",
       "  <tbody>\n",
       "    <tr>\n",
       "      <th>2828</th>\n",
       "      <td>Tutorial</td>\n",
       "      <td>3737462046622621720</td>\n",
       "      <td>2019-08-01 00:07:28</td>\n",
       "      <td>246</td>\n",
       "      <td>2019-08-01</td>\n",
       "    </tr>\n",
       "    <tr>\n",
       "      <th>2841</th>\n",
       "      <td>Tutorial</td>\n",
       "      <td>3737462046622621720</td>\n",
       "      <td>2019-08-01 00:12:18</td>\n",
       "      <td>246</td>\n",
       "      <td>2019-08-01</td>\n",
       "    </tr>\n",
       "    <tr>\n",
       "      <th>3353</th>\n",
       "      <td>Tutorial</td>\n",
       "      <td>5587388800188073787</td>\n",
       "      <td>2019-08-01 02:19:41</td>\n",
       "      <td>247</td>\n",
       "      <td>2019-08-01</td>\n",
       "    </tr>\n",
       "    <tr>\n",
       "      <th>3433</th>\n",
       "      <td>Tutorial</td>\n",
       "      <td>2988069914968447512</td>\n",
       "      <td>2019-08-01 02:35:04</td>\n",
       "      <td>246</td>\n",
       "      <td>2019-08-01</td>\n",
       "    </tr>\n",
       "    <tr>\n",
       "      <th>3590</th>\n",
       "      <td>Tutorial</td>\n",
       "      <td>1884616937397676465</td>\n",
       "      <td>2019-08-01 03:01:11</td>\n",
       "      <td>247</td>\n",
       "      <td>2019-08-01</td>\n",
       "    </tr>\n",
       "  </tbody>\n",
       "</table>\n",
       "</div>"
      ],
      "text/plain": [
       "     event_name       device_id_hash     event_timestamp  exp_id         dt\n",
       "2828   Tutorial  3737462046622621720 2019-08-01 00:07:28     246 2019-08-01\n",
       "2841   Tutorial  3737462046622621720 2019-08-01 00:12:18     246 2019-08-01\n",
       "3353   Tutorial  5587388800188073787 2019-08-01 02:19:41     247 2019-08-01\n",
       "3433   Tutorial  2988069914968447512 2019-08-01 02:35:04     246 2019-08-01\n",
       "3590   Tutorial  1884616937397676465 2019-08-01 03:01:11     247 2019-08-01"
      ]
     },
     "execution_count": 44,
     "metadata": {},
     "output_type": "execute_result"
    }
   ],
   "source": [
    "df.query('event_name == \"Tutorial\"').head()"
   ]
  },
  {
   "cell_type": "code",
   "execution_count": 45,
   "metadata": {
    "colab": {
     "base_uri": "https://localhost:8080/",
     "height": 1000
    },
    "id": "AnRVQ36s6EUV",
    "outputId": "17c250ef-e8f6-41ab-9240-cd3e0771045e"
   },
   "outputs": [
    {
     "data": {
      "text/html": [
       "<div>\n",
       "<style scoped>\n",
       "    .dataframe tbody tr th:only-of-type {\n",
       "        vertical-align: middle;\n",
       "    }\n",
       "\n",
       "    .dataframe tbody tr th {\n",
       "        vertical-align: top;\n",
       "    }\n",
       "\n",
       "    .dataframe thead th {\n",
       "        text-align: right;\n",
       "    }\n",
       "</style>\n",
       "<table border=\"1\" class=\"dataframe\">\n",
       "  <thead>\n",
       "    <tr style=\"text-align: right;\">\n",
       "      <th></th>\n",
       "      <th>event_name</th>\n",
       "      <th>event_timestamp</th>\n",
       "    </tr>\n",
       "  </thead>\n",
       "  <tbody>\n",
       "    <tr>\n",
       "      <th>2828</th>\n",
       "      <td>Tutorial</td>\n",
       "      <td>2019-08-01 00:07:28</td>\n",
       "    </tr>\n",
       "    <tr>\n",
       "      <th>2829</th>\n",
       "      <td>MainScreenAppear</td>\n",
       "      <td>2019-08-01 00:08:00</td>\n",
       "    </tr>\n",
       "    <tr>\n",
       "      <th>2830</th>\n",
       "      <td>MainScreenAppear</td>\n",
       "      <td>2019-08-01 00:08:55</td>\n",
       "    </tr>\n",
       "    <tr>\n",
       "      <th>2831</th>\n",
       "      <td>OffersScreenAppear</td>\n",
       "      <td>2019-08-01 00:08:58</td>\n",
       "    </tr>\n",
       "    <tr>\n",
       "      <th>2834</th>\n",
       "      <td>OffersScreenAppear</td>\n",
       "      <td>2019-08-01 00:10:26</td>\n",
       "    </tr>\n",
       "    <tr>\n",
       "      <th>2835</th>\n",
       "      <td>MainScreenAppear</td>\n",
       "      <td>2019-08-01 00:10:47</td>\n",
       "    </tr>\n",
       "    <tr>\n",
       "      <th>2836</th>\n",
       "      <td>MainScreenAppear</td>\n",
       "      <td>2019-08-01 00:11:10</td>\n",
       "    </tr>\n",
       "    <tr>\n",
       "      <th>2837</th>\n",
       "      <td>MainScreenAppear</td>\n",
       "      <td>2019-08-01 00:11:20</td>\n",
       "    </tr>\n",
       "    <tr>\n",
       "      <th>2841</th>\n",
       "      <td>Tutorial</td>\n",
       "      <td>2019-08-01 00:12:18</td>\n",
       "    </tr>\n",
       "    <tr>\n",
       "      <th>2842</th>\n",
       "      <td>MainScreenAppear</td>\n",
       "      <td>2019-08-01 00:12:34</td>\n",
       "    </tr>\n",
       "    <tr>\n",
       "      <th>14835</th>\n",
       "      <td>MainScreenAppear</td>\n",
       "      <td>2019-08-01 10:45:54</td>\n",
       "    </tr>\n",
       "    <tr>\n",
       "      <th>21428</th>\n",
       "      <td>MainScreenAppear</td>\n",
       "      <td>2019-08-01 13:30:04</td>\n",
       "    </tr>\n",
       "    <tr>\n",
       "      <th>21433</th>\n",
       "      <td>OffersScreenAppear</td>\n",
       "      <td>2019-08-01 13:30:12</td>\n",
       "    </tr>\n",
       "    <tr>\n",
       "      <th>21437</th>\n",
       "      <td>CartScreenAppear</td>\n",
       "      <td>2019-08-01 13:30:20</td>\n",
       "    </tr>\n",
       "    <tr>\n",
       "      <th>21456</th>\n",
       "      <td>PaymentScreenSuccessful</td>\n",
       "      <td>2019-08-01 13:30:37</td>\n",
       "    </tr>\n",
       "    <tr>\n",
       "      <th>21461</th>\n",
       "      <td>OffersScreenAppear</td>\n",
       "      <td>2019-08-01 13:30:41</td>\n",
       "    </tr>\n",
       "    <tr>\n",
       "      <th>21481</th>\n",
       "      <td>PaymentScreenSuccessful</td>\n",
       "      <td>2019-08-01 13:31:01</td>\n",
       "    </tr>\n",
       "    <tr>\n",
       "      <th>21483</th>\n",
       "      <td>CartScreenAppear</td>\n",
       "      <td>2019-08-01 13:31:02</td>\n",
       "    </tr>\n",
       "    <tr>\n",
       "      <th>21500</th>\n",
       "      <td>OffersScreenAppear</td>\n",
       "      <td>2019-08-01 13:31:27</td>\n",
       "    </tr>\n",
       "    <tr>\n",
       "      <th>21506</th>\n",
       "      <td>CartScreenAppear</td>\n",
       "      <td>2019-08-01 13:31:38</td>\n",
       "    </tr>\n",
       "    <tr>\n",
       "      <th>21515</th>\n",
       "      <td>CartScreenAppear</td>\n",
       "      <td>2019-08-01 13:32:05</td>\n",
       "    </tr>\n",
       "    <tr>\n",
       "      <th>21535</th>\n",
       "      <td>PaymentScreenSuccessful</td>\n",
       "      <td>2019-08-01 13:32:29</td>\n",
       "    </tr>\n",
       "    <tr>\n",
       "      <th>21536</th>\n",
       "      <td>CartScreenAppear</td>\n",
       "      <td>2019-08-01 13:32:30</td>\n",
       "    </tr>\n",
       "    <tr>\n",
       "      <th>26563</th>\n",
       "      <td>MainScreenAppear</td>\n",
       "      <td>2019-08-01 15:30:55</td>\n",
       "    </tr>\n",
       "    <tr>\n",
       "      <th>35881</th>\n",
       "      <td>MainScreenAppear</td>\n",
       "      <td>2019-08-01 19:23:59</td>\n",
       "    </tr>\n",
       "    <tr>\n",
       "      <th>35883</th>\n",
       "      <td>OffersScreenAppear</td>\n",
       "      <td>2019-08-01 19:24:03</td>\n",
       "    </tr>\n",
       "    <tr>\n",
       "      <th>54720</th>\n",
       "      <td>MainScreenAppear</td>\n",
       "      <td>2019-08-02 11:43:22</td>\n",
       "    </tr>\n",
       "    <tr>\n",
       "      <th>54724</th>\n",
       "      <td>OffersScreenAppear</td>\n",
       "      <td>2019-08-02 11:43:26</td>\n",
       "    </tr>\n",
       "    <tr>\n",
       "      <th>54786</th>\n",
       "      <td>OffersScreenAppear</td>\n",
       "      <td>2019-08-02 11:44:46</td>\n",
       "    </tr>\n",
       "    <tr>\n",
       "      <th>85397</th>\n",
       "      <td>MainScreenAppear</td>\n",
       "      <td>2019-08-03 10:13:58</td>\n",
       "    </tr>\n",
       "    <tr>\n",
       "      <th>95115</th>\n",
       "      <td>MainScreenAppear</td>\n",
       "      <td>2019-08-03 14:22:37</td>\n",
       "    </tr>\n",
       "    <tr>\n",
       "      <th>95133</th>\n",
       "      <td>PaymentScreenSuccessful</td>\n",
       "      <td>2019-08-03 14:22:49</td>\n",
       "    </tr>\n",
       "    <tr>\n",
       "      <th>95134</th>\n",
       "      <td>CartScreenAppear</td>\n",
       "      <td>2019-08-03 14:22:49</td>\n",
       "    </tr>\n",
       "    <tr>\n",
       "      <th>95149</th>\n",
       "      <td>OffersScreenAppear</td>\n",
       "      <td>2019-08-03 14:23:05</td>\n",
       "    </tr>\n",
       "    <tr>\n",
       "      <th>95981</th>\n",
       "      <td>OffersScreenAppear</td>\n",
       "      <td>2019-08-03 14:43:40</td>\n",
       "    </tr>\n",
       "    <tr>\n",
       "      <th>155623</th>\n",
       "      <td>MainScreenAppear</td>\n",
       "      <td>2019-08-05 11:53:16</td>\n",
       "    </tr>\n",
       "    <tr>\n",
       "      <th>155629</th>\n",
       "      <td>OffersScreenAppear</td>\n",
       "      <td>2019-08-05 11:53:19</td>\n",
       "    </tr>\n",
       "    <tr>\n",
       "      <th>155635</th>\n",
       "      <td>OffersScreenAppear</td>\n",
       "      <td>2019-08-05 11:53:28</td>\n",
       "    </tr>\n",
       "  </tbody>\n",
       "</table>\n",
       "</div>"
      ],
      "text/plain": [
       "                     event_name     event_timestamp\n",
       "2828                   Tutorial 2019-08-01 00:07:28\n",
       "2829           MainScreenAppear 2019-08-01 00:08:00\n",
       "2830           MainScreenAppear 2019-08-01 00:08:55\n",
       "2831         OffersScreenAppear 2019-08-01 00:08:58\n",
       "2834         OffersScreenAppear 2019-08-01 00:10:26\n",
       "2835           MainScreenAppear 2019-08-01 00:10:47\n",
       "2836           MainScreenAppear 2019-08-01 00:11:10\n",
       "2837           MainScreenAppear 2019-08-01 00:11:20\n",
       "2841                   Tutorial 2019-08-01 00:12:18\n",
       "2842           MainScreenAppear 2019-08-01 00:12:34\n",
       "14835          MainScreenAppear 2019-08-01 10:45:54\n",
       "21428          MainScreenAppear 2019-08-01 13:30:04\n",
       "21433        OffersScreenAppear 2019-08-01 13:30:12\n",
       "21437          CartScreenAppear 2019-08-01 13:30:20\n",
       "21456   PaymentScreenSuccessful 2019-08-01 13:30:37\n",
       "21461        OffersScreenAppear 2019-08-01 13:30:41\n",
       "21481   PaymentScreenSuccessful 2019-08-01 13:31:01\n",
       "21483          CartScreenAppear 2019-08-01 13:31:02\n",
       "21500        OffersScreenAppear 2019-08-01 13:31:27\n",
       "21506          CartScreenAppear 2019-08-01 13:31:38\n",
       "21515          CartScreenAppear 2019-08-01 13:32:05\n",
       "21535   PaymentScreenSuccessful 2019-08-01 13:32:29\n",
       "21536          CartScreenAppear 2019-08-01 13:32:30\n",
       "26563          MainScreenAppear 2019-08-01 15:30:55\n",
       "35881          MainScreenAppear 2019-08-01 19:23:59\n",
       "35883        OffersScreenAppear 2019-08-01 19:24:03\n",
       "54720          MainScreenAppear 2019-08-02 11:43:22\n",
       "54724        OffersScreenAppear 2019-08-02 11:43:26\n",
       "54786        OffersScreenAppear 2019-08-02 11:44:46\n",
       "85397          MainScreenAppear 2019-08-03 10:13:58\n",
       "95115          MainScreenAppear 2019-08-03 14:22:37\n",
       "95133   PaymentScreenSuccessful 2019-08-03 14:22:49\n",
       "95134          CartScreenAppear 2019-08-03 14:22:49\n",
       "95149        OffersScreenAppear 2019-08-03 14:23:05\n",
       "95981        OffersScreenAppear 2019-08-03 14:43:40\n",
       "155623         MainScreenAppear 2019-08-05 11:53:16\n",
       "155629       OffersScreenAppear 2019-08-05 11:53:19\n",
       "155635       OffersScreenAppear 2019-08-05 11:53:28"
      ]
     },
     "execution_count": 45,
     "metadata": {},
     "output_type": "execute_result"
    }
   ],
   "source": [
    "df.query('device_id_hash == 3737462046622621720')[['event_name', 'event_timestamp']].sort_values(by='event_timestamp')"
   ]
  },
  {
   "cell_type": "markdown",
   "metadata": {
    "id": "lVdaqfbCg3pr"
   },
   "source": [
    "Мы видим, что у пользователя с id девайса 3737462046622621720 посещение страницы с обучением предваряет все остальные события. После обучения пользователь заходит на главную страницу и затем на страницу товара. В следующую сессию в тот же день он опять начинает с главной страницы, переходит на страницу товара и далее уже добавляет товар в корзину и успешно осуществляет оплату. Далее мы видим еще несколько сессий в разные дни с разными цепочками событий: пользователь либо заходит на главную и далее на страницу товара, либо выполняет всю цепочку действий - главная, предложение, корзина, оплата. В целом, это подтверждает наши предположения о последовательности действий пользователей в приложении."
   ]
  },
  {
   "cell_type": "markdown",
   "metadata": {
    "id": "Z0Lb7XEOPav_"
   },
   "source": [
    "### **4.4. На каком шаге теряется больше всего пользователей? Какая доля доходит до каждого этапа?**"
   ]
  },
  {
   "cell_type": "markdown",
   "metadata": {
    "id": "wwDhf2YcYkGb"
   },
   "source": [
    "Посмотрим, на каком шаге теряется больше всего пользователей и какая доля пользователей доходит до каждого этапа. Сведем эти данные в одну таблицу."
   ]
  },
  {
   "cell_type": "code",
   "execution_count": 46,
   "metadata": {
    "colab": {
     "base_uri": "https://localhost:8080/",
     "height": 175
    },
    "id": "Ca4d477qC-nn",
    "outputId": "996fc063-d2c2-4ee0-d42d-c8f280ebaa9b"
   },
   "outputs": [
    {
     "data": {
      "text/html": [
       "<style type=\"text/css\">\n",
       "</style>\n",
       "<table id=\"T_c402f\">\n",
       "  <thead>\n",
       "    <tr>\n",
       "      <th class=\"blank level0\" >&nbsp;</th>\n",
       "      <th id=\"T_c402f_level0_col0\" class=\"col_heading level0 col0\" >event_name</th>\n",
       "      <th id=\"T_c402f_level0_col1\" class=\"col_heading level0 col1\" >users_cnt</th>\n",
       "      <th id=\"T_c402f_level0_col2\" class=\"col_heading level0 col2\" >next_stage</th>\n",
       "      <th id=\"T_c402f_level0_col3\" class=\"col_heading level0 col3\" >retention</th>\n",
       "    </tr>\n",
       "  </thead>\n",
       "  <tbody>\n",
       "    <tr>\n",
       "      <th id=\"T_c402f_level0_row0\" class=\"row_heading level0 row0\" >0</th>\n",
       "      <td id=\"T_c402f_row0_col0\" class=\"data row0 col0\" >MainScreenAppear</td>\n",
       "      <td id=\"T_c402f_row0_col1\" class=\"data row0 col1\" >7387</td>\n",
       "      <td id=\"T_c402f_row0_col2\" class=\"data row0 col2\" >100.0%</td>\n",
       "      <td id=\"T_c402f_row0_col3\" class=\"data row0 col3\" >100.0%</td>\n",
       "    </tr>\n",
       "    <tr>\n",
       "      <th id=\"T_c402f_level0_row1\" class=\"row_heading level0 row1\" >1</th>\n",
       "      <td id=\"T_c402f_row1_col0\" class=\"data row1 col0\" >OffersScreenAppear</td>\n",
       "      <td id=\"T_c402f_row1_col1\" class=\"data row1 col1\" >4561</td>\n",
       "      <td id=\"T_c402f_row1_col2\" class=\"data row1 col2\" >61.7%</td>\n",
       "      <td id=\"T_c402f_row1_col3\" class=\"data row1 col3\" >61.7%</td>\n",
       "    </tr>\n",
       "    <tr>\n",
       "      <th id=\"T_c402f_level0_row2\" class=\"row_heading level0 row2\" >2</th>\n",
       "      <td id=\"T_c402f_row2_col0\" class=\"data row2 col0\" >CartScreenAppear</td>\n",
       "      <td id=\"T_c402f_row2_col1\" class=\"data row2 col1\" >3702</td>\n",
       "      <td id=\"T_c402f_row2_col2\" class=\"data row2 col2\" >81.2%</td>\n",
       "      <td id=\"T_c402f_row2_col3\" class=\"data row2 col3\" >50.1%</td>\n",
       "    </tr>\n",
       "    <tr>\n",
       "      <th id=\"T_c402f_level0_row3\" class=\"row_heading level0 row3\" >3</th>\n",
       "      <td id=\"T_c402f_row3_col0\" class=\"data row3 col0\" >PaymentScreenSuccessful</td>\n",
       "      <td id=\"T_c402f_row3_col1\" class=\"data row3 col1\" >3507</td>\n",
       "      <td id=\"T_c402f_row3_col2\" class=\"data row3 col2\" >94.7%</td>\n",
       "      <td id=\"T_c402f_row3_col3\" class=\"data row3 col3\" >47.5%</td>\n",
       "    </tr>\n",
       "  </tbody>\n",
       "</table>\n"
      ],
      "text/plain": [
       "<pandas.io.formats.style.Styler at 0x21c801f5490>"
      ]
     },
     "execution_count": 46,
     "metadata": {},
     "output_type": "execute_result"
    }
   ],
   "source": [
    "funnel = (\n",
    "    df.query('event_name != \"Tutorial\"').groupby('event_name')\n",
    "    .agg(users_cnt=('device_id_hash','nunique'))\n",
    "    .reset_index().sort_values(by='users_cnt', ascending=False, ignore_index=True)\n",
    ")\n",
    "# Создадим столбец next_stage с долей пользователей, которая проходит на следующий этап воронки\n",
    "for i in range(len(funnel)):\n",
    "  if i == 0:\n",
    "    funnel.loc[i,'next_stage'] = funnel.loc[i,'users_cnt']/funnel.loc[i,'users_cnt']\n",
    "  else:\n",
    "    funnel.loc[i,'next_stage'] = funnel.loc[i,'users_cnt']/funnel.loc[i-1,'users_cnt']\n",
    "\n",
    "# Создадим столбец retention с долей пользователей на каждом этапе\n",
    "for i in range(len(funnel)):\n",
    "  funnel.loc[i,'retention'] = funnel.loc[i,'users_cnt']/funnel.loc[0,'users_cnt']\n",
    "\n",
    "funnel.style.format('{:.1%}', subset=['next_stage', 'retention'])"
   ]
  },
  {
   "cell_type": "code",
   "execution_count": 93,
   "metadata": {
    "colab": {
     "base_uri": "https://localhost:8080/",
     "height": 338
    },
    "id": "26yyZ1yZTqgc",
    "outputId": "ba3b5527-d165-44ba-d715-e9172f430d1a"
   },
   "outputs": [
    {
     "data": {
      "image/png": "[encoded data removed]",
      "text/plain": [
       "<Figure size 576x360 with 1 Axes>"
      ]
     },
     "metadata": {},
     "output_type": "display_data"
    }
   ],
   "source": [
    "# Визуализируем воронку событий\n",
    "fig, ax = plt.subplots(figsize=(8,5))\n",
    "h = funnel['retention'].sort_values()\n",
    "r = funnel['event_name'].sort_values()\n",
    "h = np.array(funnel['retention'].sort_values())\n",
    "colors = ['#14D21E', '#AAAAAA', '#00B4D2', '#2D82A5']\n",
    "\n",
    "plt.barh(r, width=h, left=(h.max() - h) / 2, align='center', color=colors)\n",
    "\n",
    "for p in ax.patches:\n",
    "    ax.annotate('{:.1f}%'.format(100*p.get_width()), (p.get_x() + p.get_width()/2 - 0.05, p.get_y() + 0.15),\n",
    "                xytext=(5, 10), textcoords='offset points')\n",
    "    ax.set_xticks([0, 0.2, 0.4, 0.6, 0.8, 1])\n",
    "    _ = ax.set_xticklabels(map('{:.0f}%'.format, 100*ax.xaxis.get_majorticklocs()))\n",
    "\n",
    "plt.title(\"Воронка событий\")\n",
    "plt.show();"
   ]
  },
  {
   "cell_type": "markdown",
   "metadata": {
    "id": "tha2sULTlgKO"
   },
   "source": [
    "Воронка событий выстраивается следующим образом: после открытия главной страницы 61,7% пользователей переходят на страницу с предложением, 50% - доходят до корзины и, наконец, 47,5% успешно оплачивают товар.\n",
    "\n",
    "Самые большие \"потери\" в пользователях мы видим при переходе с главной страницы на страницу товара: только 62% из зашедших на первую страницу переходят к следующему этапу. Из тех, кто посмотрел товар примерно 81% кладут его в корзину. И если товар уже в корзине, с вероятностью в 94,7% пользователь его оплачивает. \n",
    "\n",
    "Просядание почти в 40% при переходе с главной страницы на страницу товара выглядит довольно существенным. Это значит, что 40% пользователей не находит для себя ничего интересного и уходит без открытия странички с товаром. Возможно, нужно поработать с контентом предварительного представления товара, сделать его более привлекательным и броским, чтобы простимулировать пользователей к более подробному изучению представленных в приложении товаров.   "
   ]
  },
  {
   "cell_type": "markdown",
   "metadata": {
    "id": "Q0oWaArGny5c"
   },
   "source": [
    "## **5. Анализ результатов A/A/B тестирования**"
   ]
  },
  {
   "cell_type": "markdown",
   "metadata": {
    "id": "22bq1mIjoGL3"
   },
   "source": [
    "В ходе тестирования пользователи были разбиты на 3 группы: 2 контрольные со старыми шрифтами (группы номер 246 и 247) и одну экспериментальную — с новыми (группа номер 248). Цель теста - выяснить, какой шрифт лучше.\n",
    "\n",
    "При анализе результатов тестирования имеет смысл проверить две метрики. Во-первых, интересно посмотреть, изменилось ли соотношение числа уникальных пользователей, совершивших каждое отдельное событие. Если новый шрифт действительно работает на привлечение пользователей, то мы должны заметить увеличение числа пользователей, переходящих на каждый следующий этап. \n",
    "Во-вторых, стоит сопоставить среднее кол-во событий в расчете на одного пользователя в разных группах. Возможно, действие нового шрифта будет проявляться в том, что пользователи будут дольше задерживаться в приложении и, соответственно, среднее число событий на одного пользователя увеличится.  "
   ]
  },
  {
   "cell_type": "markdown",
   "metadata": {
    "id": "gstkUx0aoAkd"
   },
   "source": [
    "### **5.1. Оценка результатов А/А теста**"
   ]
  },
  {
   "cell_type": "markdown",
   "metadata": {
    "id": "zuJ828zwolXh"
   },
   "source": [
    "Проверим, исполняются ли у нас критерии успешности A/A-теста:\n",
    "+ количество пользователей в группах должно различаться не более, чем на 1%;\n",
    "+ для всех групп фиксируются сопоставимые данные о событиях;\n",
    "+ различие ключевых метрик по группам не имеет статистической значимости;"
   ]
  },
  {
   "cell_type": "code",
   "execution_count": 48,
   "metadata": {
    "id": "Cbl_7yvua393"
   },
   "outputs": [],
   "source": [
    "# Создадим переменную group_size и проверим кол-во уникальных пользователей в группах\n",
    "group_size = df.pivot_table(columns='exp_id', values='device_id_hash', aggfunc='nunique')"
   ]
  },
  {
   "cell_type": "code",
   "execution_count": 49,
   "metadata": {
    "colab": {
     "base_uri": "https://localhost:8080/",
     "height": 81
    },
    "id": "oizCWVYea6F1",
    "outputId": "b61a30d7-a51a-4a7f-8918-ebe79f49e98d"
   },
   "outputs": [
    {
     "data": {
      "text/html": [
       "<div>\n",
       "<style scoped>\n",
       "    .dataframe tbody tr th:only-of-type {\n",
       "        vertical-align: middle;\n",
       "    }\n",
       "\n",
       "    .dataframe tbody tr th {\n",
       "        vertical-align: top;\n",
       "    }\n",
       "\n",
       "    .dataframe thead th {\n",
       "        text-align: right;\n",
       "    }\n",
       "</style>\n",
       "<table border=\"1\" class=\"dataframe\">\n",
       "  <thead>\n",
       "    <tr style=\"text-align: right;\">\n",
       "      <th>exp_id</th>\n",
       "      <th>246</th>\n",
       "      <th>247</th>\n",
       "      <th>248</th>\n",
       "    </tr>\n",
       "  </thead>\n",
       "  <tbody>\n",
       "    <tr>\n",
       "      <th>device_id_hash</th>\n",
       "      <td>2474</td>\n",
       "      <td>2506</td>\n",
       "      <td>2522</td>\n",
       "    </tr>\n",
       "  </tbody>\n",
       "</table>\n",
       "</div>"
      ],
      "text/plain": [
       "exp_id           246   247   248\n",
       "device_id_hash  2474  2506  2522"
      ]
     },
     "execution_count": 49,
     "metadata": {},
     "output_type": "execute_result"
    }
   ],
   "source": [
    "group_size"
   ]
  },
  {
   "cell_type": "code",
   "execution_count": 50,
   "metadata": {
    "colab": {
     "base_uri": "https://localhost:8080/"
    },
    "id": "YZNpD5JMqUl-",
    "outputId": "839b3ac3-01d5-4de2-aeef-f7f67023d565"
   },
   "outputs": [
    {
     "data": {
      "text/plain": [
       "0.012934518997574777"
      ]
     },
     "execution_count": 50,
     "metadata": {},
     "output_type": "execute_result"
    }
   ],
   "source": [
    "(group_size[247].values[0] - group_size[246].values[0])/group_size[246].values[0]"
   ]
  },
  {
   "cell_type": "markdown",
   "metadata": {
    "id": "7qJDwIbhcJot"
   },
   "source": [
    "Контрольные группы 246 и 247 примерно равны по размерам (разница в 1.3% находится в допустимых пределах)."
   ]
  },
  {
   "cell_type": "code",
   "execution_count": 51,
   "metadata": {
    "colab": {
     "base_uri": "https://localhost:8080/",
     "height": 206
    },
    "id": "4bh9fmhOqoxs",
    "outputId": "62c9c73e-a2a5-4a12-bce8-073f04ccda4c"
   },
   "outputs": [
    {
     "data": {
      "text/html": [
       "<style type=\"text/css\">\n",
       "#T_1e09d_row0_col1, #T_1e09d_row0_col2, #T_1e09d_row0_col3 {\n",
       "  background-color: #6abf71;\n",
       "  color: #000000;\n",
       "  width: 80px;\n",
       "}\n",
       "#T_1e09d_row1_col1 {\n",
       "  background-color: #b1e0ab;\n",
       "  color: #000000;\n",
       "  width: 80px;\n",
       "}\n",
       "#T_1e09d_row1_col2, #T_1e09d_row1_col3 {\n",
       "  background-color: #b4e1ad;\n",
       "  color: #000000;\n",
       "  width: 80px;\n",
       "}\n",
       "#T_1e09d_row2_col1 {\n",
       "  background-color: #c3e7bc;\n",
       "  color: #000000;\n",
       "  width: 80px;\n",
       "}\n",
       "#T_1e09d_row2_col2 {\n",
       "  background-color: #c6e8bf;\n",
       "  color: #000000;\n",
       "  width: 80px;\n",
       "}\n",
       "#T_1e09d_row2_col3 {\n",
       "  background-color: #c7e9c0;\n",
       "  color: #000000;\n",
       "  width: 80px;\n",
       "}\n",
       "#T_1e09d_row3_col1 {\n",
       "  background-color: #c8e9c1;\n",
       "  color: #000000;\n",
       "  width: 80px;\n",
       "}\n",
       "#T_1e09d_row3_col2 {\n",
       "  background-color: #cbeac4;\n",
       "  color: #000000;\n",
       "  width: 80px;\n",
       "}\n",
       "#T_1e09d_row3_col3 {\n",
       "  background-color: #caeac3;\n",
       "  color: #000000;\n",
       "  width: 80px;\n",
       "}\n",
       "#T_1e09d_row4_col1, #T_1e09d_row4_col2, #T_1e09d_row4_col3 {\n",
       "  background-color: #f0f9ed;\n",
       "  color: #000000;\n",
       "  width: 80px;\n",
       "}\n",
       "</style>\n",
       "<table id=\"T_1e09d\">\n",
       "  <thead>\n",
       "    <tr>\n",
       "      <th class=\"index_name level0\" >exp_id</th>\n",
       "      <th id=\"T_1e09d_level0_col0\" class=\"col_heading level0 col0\" >event_name</th>\n",
       "      <th id=\"T_1e09d_level0_col1\" class=\"col_heading level0 col1\" >246</th>\n",
       "      <th id=\"T_1e09d_level0_col2\" class=\"col_heading level0 col2\" >247</th>\n",
       "      <th id=\"T_1e09d_level0_col3\" class=\"col_heading level0 col3\" >248</th>\n",
       "    </tr>\n",
       "  </thead>\n",
       "  <tbody>\n",
       "    <tr>\n",
       "      <th id=\"T_1e09d_level0_row0\" class=\"row_heading level0 row0\" >1</th>\n",
       "      <td id=\"T_1e09d_row0_col0\" class=\"data row0 col0\" >MainScreenAppear</td>\n",
       "      <td id=\"T_1e09d_row0_col1\" class=\"data row0 col1\" >2440</td>\n",
       "      <td id=\"T_1e09d_row0_col2\" class=\"data row0 col2\" >2469</td>\n",
       "      <td id=\"T_1e09d_row0_col3\" class=\"data row0 col3\" >2478</td>\n",
       "    </tr>\n",
       "    <tr>\n",
       "      <th id=\"T_1e09d_level0_row1\" class=\"row_heading level0 row1\" >2</th>\n",
       "      <td id=\"T_1e09d_row1_col0\" class=\"data row1 col0\" >OffersScreenAppear</td>\n",
       "      <td id=\"T_1e09d_row1_col1\" class=\"data row1 col1\" >1532</td>\n",
       "      <td id=\"T_1e09d_row1_col2\" class=\"data row1 col2\" >1513</td>\n",
       "      <td id=\"T_1e09d_row1_col3\" class=\"data row1 col3\" >1516</td>\n",
       "    </tr>\n",
       "    <tr>\n",
       "      <th id=\"T_1e09d_level0_row2\" class=\"row_heading level0 row2\" >0</th>\n",
       "      <td id=\"T_1e09d_row2_col0\" class=\"data row2 col0\" >CartScreenAppear</td>\n",
       "      <td id=\"T_1e09d_row2_col1\" class=\"data row2 col1\" >1256</td>\n",
       "      <td id=\"T_1e09d_row2_col2\" class=\"data row2 col2\" >1231</td>\n",
       "      <td id=\"T_1e09d_row2_col3\" class=\"data row2 col3\" >1215</td>\n",
       "    </tr>\n",
       "    <tr>\n",
       "      <th id=\"T_1e09d_level0_row3\" class=\"row_heading level0 row3\" >3</th>\n",
       "      <td id=\"T_1e09d_row3_col0\" class=\"data row3 col0\" >PaymentScreenSuccessful</td>\n",
       "      <td id=\"T_1e09d_row3_col1\" class=\"data row3 col1\" >1190</td>\n",
       "      <td id=\"T_1e09d_row3_col2\" class=\"data row3 col2\" >1151</td>\n",
       "      <td id=\"T_1e09d_row3_col3\" class=\"data row3 col3\" >1166</td>\n",
       "    </tr>\n",
       "    <tr>\n",
       "      <th id=\"T_1e09d_level0_row4\" class=\"row_heading level0 row4\" >4</th>\n",
       "      <td id=\"T_1e09d_row4_col0\" class=\"data row4 col0\" >Tutorial</td>\n",
       "      <td id=\"T_1e09d_row4_col1\" class=\"data row4 col1\" >275</td>\n",
       "      <td id=\"T_1e09d_row4_col2\" class=\"data row4 col2\" >283</td>\n",
       "      <td id=\"T_1e09d_row4_col3\" class=\"data row4 col3\" >277</td>\n",
       "    </tr>\n",
       "  </tbody>\n",
       "</table>\n"
      ],
      "text/plain": [
       "<pandas.io.formats.style.Styler at 0x21c804afe50>"
      ]
     },
     "execution_count": 51,
     "metadata": {},
     "output_type": "execute_result"
    }
   ],
   "source": [
    "# Подсчитаем, сколько уникальных пользователей совершает каждое событие в разбивке по группами\n",
    "(\n",
    "    df.pivot_table(index='event_name', columns='exp_id', \\\n",
    "                        values='device_id_hash', aggfunc='nunique')\n",
    "    .reset_index().sort_values(by=246, ascending=False)\n",
    "    .style.background_gradient(cmap='Greens', axis=0, low=0.1, high=1)\n",
    "    .set_properties(subset=[246, 247, 248], **{'width': '80px'})\n",
    ")"
   ]
  },
  {
   "cell_type": "markdown",
   "metadata": {
    "id": "79rLgDwAuXy1"
   },
   "source": [
    "Все наблюдаемые события фиксируются примерно равномерно во всех трех группах. Контрольные группы 246 и 247 имеют небольшие расхождения в частоте распределения событий, однако об их статистической значимости можно будет говорить после проведения z-теста для пропорций. "
   ]
  },
  {
   "cell_type": "markdown",
   "metadata": {
    "id": "WRB7AmVSdmj1"
   },
   "source": [
    "Сформулируем нулевую и альтернативную гипотезы.\n",
    "\n",
    "H0: различий в соотношении кол-ва уникальных пользователей, соверших каждое событие, между группой 246 и группой 247 нет. \n",
    "\n",
    "H1: различия в долях есть.\n",
    "\n",
    "Обозначим уровень статистической значимости: alpha=0.05. Однако учитывая, что нам предстоит провести тестирование по каждому показателю в трех подгруппах (246 и 247, 247 и 248, 246 и 248), применим к обозначенному уровню значимости поправку Бонферрони:\n",
    "apha = 0.05/3"
   ]
  },
  {
   "cell_type": "code",
   "execution_count": 52,
   "metadata": {
    "id": "VRKjUJxGt_C1"
   },
   "outputs": [],
   "source": [
    "from statsmodels.stats.proportion import proportions_ztest"
   ]
  },
  {
   "cell_type": "markdown",
   "metadata": {
    "id": "S6GCvBSnsnoi"
   },
   "source": [
    "Зададим функцию для оценки результатов z-теста для каждого отдельного события."
   ]
  },
  {
   "cell_type": "code",
   "execution_count": 80,
   "metadata": {
    "id": "AfN7BXzBF-G-"
   },
   "outputs": [],
   "source": [
    "def proportion_check(group1, group2):\n",
    "\n",
    "  # Создадим сводную таблицу test_results с результатами экспериментов по группам\n",
    "  test_results = (df.pivot_table(index='event_name', columns='exp_id', \\\n",
    "                          values='device_id_hash', aggfunc='nunique')\n",
    "    .sort_values(by=group1, ascending=False)\n",
    "  )\n",
    "\n",
    "  # Установим уровень статистической значимости\n",
    "  alpha = 0.05/3\n",
    "  \n",
    "  # Цикл для расчета уровня статистической значимости для каждого события\n",
    "  for index, row in test_results.iterrows():\n",
    "    _, p_val = (\n",
    "        proportions_ztest([row[group1], row[group2]], \\\n",
    "                          [group_size[group1].values[0], \\\n",
    "                          group_size[group2].values[0]])\n",
    "    )\n",
    "    print(f'Для события {index}:')\n",
    "    print(f'p-value: {p_val}')\n",
    "      \n",
    "    if (p_val < alpha):\n",
    "      print(\"Отвергаем нулевую гипотезу: между группами есть статистически значимая разница\")\n",
    "      print('')\n",
    "    else:\n",
    "      print(\"Не получилось отвергнуть нулевую гипотезу, нет оснований считать группы разными\")\n",
    "      print('')"
   ]
  },
  {
   "cell_type": "code",
   "execution_count": 81,
   "metadata": {
    "colab": {
     "base_uri": "https://localhost:8080/"
    },
    "id": "BGLNUJ_9G6Mf",
    "outputId": "689d9cf4-b780-4f63-d404-45b32d81a5e0"
   },
   "outputs": [
    {
     "name": "stdout",
     "output_type": "stream",
     "text": [
      "Для события MainScreenAppear:\n",
      "p-value: 0.7610729163957667\n",
      "Не получилось отвергнуть нулевую гипотезу, нет оснований считать группы разными\n",
      "\n",
      "Для события OffersScreenAppear:\n",
      "p-value: 0.26218736176825963\n",
      "Не получилось отвергнуть нулевую гипотезу, нет оснований считать группы разными\n",
      "\n",
      "Для события CartScreenAppear:\n",
      "p-value: 0.2454549210865865\n",
      "Не получилось отвергнуть нулевую гипотезу, нет оснований считать группы разными\n",
      "\n",
      "Для события PaymentScreenSuccessful:\n",
      "p-value: 0.12493072017288821\n",
      "Не получилось отвергнуть нулевую гипотезу, нет оснований считать группы разными\n",
      "\n",
      "Для события Tutorial:\n",
      "p-value: 0.8427918367072244\n",
      "Не получилось отвергнуть нулевую гипотезу, нет оснований считать группы разными\n",
      "\n"
     ]
    }
   ],
   "source": [
    "proportion_check(246, 247)"
   ]
  },
  {
   "cell_type": "markdown",
   "metadata": {
    "id": "9HNFcAwVfK6h"
   },
   "source": [
    "По всем событиям p-value превышает уровень статистической значимости, значит нулевую гипотезу не отвергаем и делаем вывод, что разбиение на контрольные группы сделано корректно.\n",
    "\n",
    "Проверим теперь, есть ли статистически значимые различия между группами по показателю среднего числа событий на одного пользователя. С помощью метода bootstrap посмотрим сначала на распределение средних выборок по всем трем группам. "
   ]
  },
  {
   "cell_type": "code",
   "execution_count": 55,
   "metadata": {},
   "outputs": [],
   "source": [
    "group246 = df.query('exp_id == 246').groupby('device_id_hash')['event_name'].agg('count')\n",
    "n = 1000\n",
    "res246 = []\n",
    "for _ in range(n):\n",
    "    res246.append(group246.sample(frac=1, replace=True).mean())\n",
    "    \n",
    "mean246 = pd.Series(res246)"
   ]
  },
  {
   "cell_type": "code",
   "execution_count": 56,
   "metadata": {},
   "outputs": [],
   "source": [
    "group247 = df.query('exp_id == 247').groupby('device_id_hash')['event_name'].agg('count')\n",
    "n = 1000\n",
    "res247 = []\n",
    "for _ in range(n):\n",
    "    res247.append(group247.sample(frac=1, replace=True).mean())\n",
    "    \n",
    "mean247 = pd.Series(res247)"
   ]
  },
  {
   "cell_type": "code",
   "execution_count": 57,
   "metadata": {},
   "outputs": [],
   "source": [
    "group248 = df.query('exp_id == 248').groupby('device_id_hash')['event_name'].agg('count')\n",
    "n = 1000\n",
    "res248 = []\n",
    "for _ in range(n):\n",
    "    res248.append(group248.sample(frac=1, replace=True).mean())\n",
    "    \n",
    "mean248 = pd.Series(res248)"
   ]
  },
  {
   "cell_type": "code",
   "execution_count": 59,
   "metadata": {},
   "outputs": [
    {
     "data": {
      "image/png": "[encoded data removed]",
      "text/plain": [
       "<Figure size 720x432 with 1 Axes>"
      ]
     },
     "metadata": {},
     "output_type": "display_data"
    }
   ],
   "source": [
    "fig, ax = plt.subplots(figsize=(10,6))\n",
    "sns.histplot(mean246, color='blue', bins=50, alpha=0.3)\n",
    "sns.histplot(mean247, color='green', bins=50, alpha=0.3)\n",
    "sns.histplot(mean248, color='orange', bins=50, alpha=0.3)\n",
    "plt.legend([246, 247, 248])\n",
    "plt.title('Гисторамма распределения средний значених в группах');"
   ]
  },
  {
   "cell_type": "code",
   "execution_count": 79,
   "metadata": {},
   "outputs": [
    {
     "data": {
      "text/plain": [
       "<matplotlib.legend.Legend at 0x21c86cfa700>"
      ]
     },
     "execution_count": 79,
     "metadata": {},
     "output_type": "execute_result"
    },
    {
     "data": {
      "image/png": "[encoded data removed]",
      "text/plain": [
       "<Figure size 576x288 with 3 Axes>"
      ]
     },
     "metadata": {},
     "output_type": "display_data"
    }
   ],
   "source": [
    "fig, ax = plt.subplots(3, 1, figsize=(8,4), sharex=True)\n",
    "sns.boxplot(x=mean246.values, color='lightblue', ax=ax[0])\n",
    "sns.boxplot(x=mean247.values, color='lightgreen', ax=ax[1])\n",
    "sns.boxplot(x=mean248.values, color='orange', ax=ax[2])\n",
    "ax[0].legend([246])\n",
    "ax[1].legend([247])\n",
    "ax[2].legend([248])"
   ]
  },
  {
   "cell_type": "markdown",
   "metadata": {},
   "source": [
    "По распределению средних все три группы довольно близки друг к другу. Для подтверждения отсутствия статистических различий между группами 246 и 247 по показателю среднего кол-ва событий используем непараметрический тест Манна-Уитни."
   ]
  },
  {
   "cell_type": "markdown",
   "metadata": {
    "id": "6W3YDajXzr6u"
   },
   "source": [
    "Сформулируем нулевую и альтернативную гипотезы.\n",
    "\n",
    "H0: различий в среднем кол-ве событий на одного пользователя между группой 246 и группой 247 нет. \n",
    "\n",
    "H1: различия в средних показателях есть.\n",
    "\n",
    "Обозначим уровень статистической значимости (также с поправкой Бонферрони): alpha=0.05/3"
   ]
  },
  {
   "cell_type": "code",
   "execution_count": 82,
   "metadata": {
    "id": "RKiBMJ3OusMj"
   },
   "outputs": [],
   "source": [
    "# Зададим функцию для оценки статистической значимости разницы средних значений двух групп\n",
    "def avg_check(group1, group2):\n",
    "  user_events = df.groupby(['device_id_hash', 'exp_id'])['event_name'].agg('count').reset_index()\n",
    "  \n",
    "  print(f'Среднее кол-во событий на пользователя в группе {group1}: ', round(user_events[user_events['exp_id'] == group1]['event_name'].mean(), 1))\n",
    "  print(f'Среднее кол-во событий на пользователя в группе {group2}: ', round(user_events[user_events['exp_id'] == group2]['event_name'].mean(), 1))\n",
    "\n",
    "  # Установим уровень статистической значимости\n",
    "  alpha = 0.05/3\n",
    "  \n",
    "  p_val = st.mannwhitneyu(user_events[user_events['exp_id'] == group1]['event_name'], user_events[user_events['exp_id'] == group2]['event_name'])[1]\n",
    "\n",
    "  print(f'p-value: {p_val}')\n",
    "\n",
    "  if p_val < alpha:\n",
    "    print(\"Отвергаем нулевую гипотезу: между группами есть статистически значимая разница\")\n",
    "  else:\n",
    "    print(\"Не получилось отвергнуть нулевую гипотезу, нет оснований считать группы разными\")"
   ]
  },
  {
   "cell_type": "code",
   "execution_count": 83,
   "metadata": {
    "colab": {
     "base_uri": "https://localhost:8080/"
    },
    "id": "eRZlC-1xwPPH",
    "outputId": "f7c57d28-452b-4531-fe2f-13146414b11b"
   },
   "outputs": [
    {
     "name": "stdout",
     "output_type": "stream",
     "text": [
      "Среднее кол-во событий на пользователя в группе 246:  28.9\n",
      "Среднее кол-во событий на пользователя в группе 247:  28.6\n",
      "p-value: 0.9320179326843641\n",
      "Не получилось отвергнуть нулевую гипотезу, нет оснований считать группы разными\n"
     ]
    }
   ],
   "source": [
    "avg_check(246, 247)"
   ]
  },
  {
   "cell_type": "markdown",
   "metadata": {
    "id": "XUTx_ga50Kzr"
   },
   "source": [
    "По средним показателям кол-ва событий на одного пользователя между контрольными группами 246 и 247 различий также не зафиксировано."
   ]
  },
  {
   "cell_type": "markdown",
   "metadata": {
    "id": "r7jxW3vY0hN7"
   },
   "source": [
    "### **5.2. Оценка результатов А/В теста**"
   ]
  },
  {
   "cell_type": "markdown",
   "metadata": {
    "id": "psNwEGY60rie"
   },
   "source": [
    "По тем же самым метрикам сравним результаты контрольных групп и тестовой группы под номером 248. \n",
    "\n",
    "Нулевая и альтернативная гипотезы:\n",
    "\n",
    "H0: различий в соотношении кол-ва уникальных пользователей, соверших каждое событие, между группой 246/247 и группой 248 нет. \n",
    "\n",
    "H1: различия в соотношении есть.\n",
    "\n",
    "Уровень статистической значимости: alpha=0.05/3"
   ]
  },
  {
   "cell_type": "code",
   "execution_count": 84,
   "metadata": {
    "colab": {
     "base_uri": "https://localhost:8080/"
    },
    "id": "wTLFb6FGA90L",
    "outputId": "77443cf3-1262-4836-bb6e-adcbb334537b"
   },
   "outputs": [
    {
     "name": "stdout",
     "output_type": "stream",
     "text": [
      "Для события MainScreenAppear:\n",
      "p-value: 0.29108407869663555\n",
      "Не получилось отвергнуть нулевую гипотезу, нет оснований считать группы разными\n",
      "\n",
      "Для события OffersScreenAppear:\n",
      "p-value: 0.1889674821179712\n",
      "Не получилось отвергнуть нулевую гипотезу, нет оснований считать группы разными\n",
      "\n",
      "Для события CartScreenAppear:\n",
      "p-value: 0.06694174479858332\n",
      "Не получилось отвергнуть нулевую гипотезу, нет оснований считать группы разными\n",
      "\n",
      "Для события PaymentScreenSuccessful:\n",
      "p-value: 0.18624034844132686\n",
      "Не получилось отвергнуть нулевую гипотезу, нет оснований считать группы разными\n",
      "\n",
      "Для события Tutorial:\n",
      "p-value: 0.881484521728291\n",
      "Не получилось отвергнуть нулевую гипотезу, нет оснований считать группы разными\n",
      "\n"
     ]
    }
   ],
   "source": [
    "proportion_check(246, 248)"
   ]
  },
  {
   "cell_type": "code",
   "execution_count": 85,
   "metadata": {
    "colab": {
     "base_uri": "https://localhost:8080/"
    },
    "id": "q1q8POJxBxxl",
    "outputId": "4266ae33-2a58-4cbb-8419-adba2a10764d"
   },
   "outputs": [
    {
     "name": "stdout",
     "output_type": "stream",
     "text": [
      "Для события MainScreenAppear:\n",
      "p-value: 0.45009892631077086\n",
      "Не получилось отвергнуть нулевую гипотезу, нет оснований считать группы разными\n",
      "\n",
      "Для события OffersScreenAppear:\n",
      "p-value: 0.8482836962001165\n",
      "Не получилось отвергнуть нулевую гипотезу, нет оснований считать группы разными\n",
      "\n",
      "Для события CartScreenAppear:\n",
      "p-value: 0.5021725207005302\n",
      "Не получилось отвергнуть нулевую гипотезу, нет оснований считать группы разными\n",
      "\n",
      "Для события PaymentScreenSuccessful:\n",
      "p-value: 0.8291560168561395\n",
      "Не получилось отвергнуть нулевую гипотезу, нет оснований считать группы разными\n",
      "\n",
      "Для события Tutorial:\n",
      "p-value: 0.7272001803840037\n",
      "Не получилось отвергнуть нулевую гипотезу, нет оснований считать группы разными\n",
      "\n"
     ]
    }
   ],
   "source": [
    "proportion_check(247, 248)"
   ]
  },
  {
   "cell_type": "markdown",
   "metadata": {
    "id": "G0cPSups1-49"
   },
   "source": [
    "Во всех случаях p-value выше уровня статистической значимости, значит, у нас нет оснований говорить о наличии каких-либо различий между контрольными группами и тестовой группой по тому, какое кол-во уникальных пользователей приходится на каждое конкретное событие."
   ]
  },
  {
   "cell_type": "markdown",
   "metadata": {
    "id": "qYdObrghh2xr"
   },
   "source": [
    "Проверим, есть ли различия по показателю среднего кол-ва событий на пользователя.\n",
    "\n",
    "Нулевая и альтернативная гипотезы:\n",
    "\n",
    "H0: различий в среднем кол-ве событий на одного пользователя между группами 246/247 и группой 248 нет. \n",
    "\n",
    "H1: различия в средних показателях есть.\n",
    "\n",
    "Уровень статистической значимости: alpha=0.05/3"
   ]
  },
  {
   "cell_type": "code",
   "execution_count": 86,
   "metadata": {
    "colab": {
     "base_uri": "https://localhost:8080/"
    },
    "id": "MavhN6CfB64H",
    "outputId": "dbaa3abf-665e-4e88-9b91-0a016379f741"
   },
   "outputs": [
    {
     "name": "stdout",
     "output_type": "stream",
     "text": [
      "Среднее кол-во событий на пользователя в группе 246:  28.9\n",
      "Среднее кол-во событий на пользователя в группе 248:  29.2\n",
      "p-value: 0.4933527658982574\n",
      "Не получилось отвергнуть нулевую гипотезу, нет оснований считать группы разными\n"
     ]
    }
   ],
   "source": [
    "avg_check(246, 248)"
   ]
  },
  {
   "cell_type": "code",
   "execution_count": 87,
   "metadata": {
    "colab": {
     "base_uri": "https://localhost:8080/"
    },
    "id": "iFBGopbVCVo-",
    "outputId": "53f6f98d-3429-4036-c0b1-88b7380bc018"
   },
   "outputs": [
    {
     "name": "stdout",
     "output_type": "stream",
     "text": [
      "Среднее кол-во событий на пользователя в группе 247:  28.6\n",
      "Среднее кол-во событий на пользователя в группе 248:  29.2\n",
      "p-value: 0.4324444272284754\n",
      "Не получилось отвергнуть нулевую гипотезу, нет оснований считать группы разными\n"
     ]
    }
   ],
   "source": [
    "avg_check(247, 248)"
   ]
  },
  {
   "cell_type": "markdown",
   "metadata": {
    "id": "6_jba9sw3wPb"
   },
   "source": [
    "По среднему кол-ву событий, приходящихся на одного уникального пользователей, различий между группами также не обнаружено. Среднее кол-во событий на пользователя в группе 248 немного выше, чем в обеих контрольных группах (29.2 против 28.9 и 28.6). Однако статистической значимости эти различия на имеют. "
   ]
  },
  {
   "cell_type": "markdown",
   "metadata": {
    "id": "dRNCcwwXcXjl"
   },
   "source": [
    "## **6. Выводы и рекомендации**"
   ]
  },
  {
   "cell_type": "markdown",
   "metadata": {
    "id": "Td9TbgzLcdSk"
   },
   "source": [
    "**Выводы**\n",
    "\n",
    "На этапе предварительного анализа имеющихся данных было выявлено, что у нас нет полных данных за весь заявленный период (с 25 июля по 7 августа 2019 года), что вероятно связано с техническими особенностями записей (в логи новых дней по некоторым пользователям могли «доезжать» события из прошлого). Поэтому период исследования был ограничен одной неделей, по которой у нас были наиболее полные данные (с 1 по 7 августа).\n",
    "\n",
    "Кроме того, при анализе данных были зафиксированы единичные \"аномальные\" выбросы в виде пользователей, совершивших за указанный период более 300 событий в приложении. Для того чтобы их данные не исказили результатов теста, такие пользователи также были отфильтрованы. Потери при фильтрации данных были несущественными и находились в пределах 1% как по кол-ву пользователей, так и по кол-ву событий.\n",
    "\n",
    "В общей сложности в эксперименте приняли участие 7551 пользователей, из которых после фильтрации осталось 7534 человек. Проверка показала, что контрольные группы 246 и 247 были разделены корректно.\n",
    "\n",
    "Анализ результатов A/B тестирования не выявил каких-либо статистически значимых различий в показателях контрольных групп и тестовой группы. Это означает, что введение нового штрифта в приложении никак не влияет на поведенческие паттерны пользователей и не привело к изменению маркетинговых метрик. В тестовой группе мы не наблюдаем ни роста числа уникальных пользователей из расчета на каждое отдельное событие, ни изменение среднего кол-ва событий, приходящихся на одного пользователя. Можно сделать вывод, что новый штрифт не дает ожидаемого эффекта. В то же время стоит отметить, что какого-либо ухудшения показателей в группе, которой показывали страницы с новым шрифтом, зафиксировано также не было.\n",
    "\n",
    "**Рекомендации**\n",
    "\n",
    "Основная проблема, которая была выявлена при анализе воронки событий - это значительные \"потери\" в пользователях при переходе с главной страницы приложения на страницу с товарами - практически 40% пользователей покидает приложение после показа главного экрана и не проявляет интерес к представленной продукции. Для повышения конверсии пользователей между первым и вторым этапом рекомендуется внести изменения в контент главной страницы: пересмотреть номенклатуру представленных в тизере товаров, например, в пользу самых популярных товаров по итогам недельных продаж; повысить качество фотоматериалов, а также разработать более современный и привлекательный дизайн главного экрана.\n"
   ]
  }
 ],
 "metadata": {
  "colab": {
   "provenance": []
  },
  "kernelspec": {
   "display_name": "Python 3 (ipykernel)",
   "language": "python",
   "name": "python3"
  },
  "language_info": {
   "codemirror_mode": {
    "name": "ipython",
    "version": 3
   },
   "file_extension": ".py",
   "mimetype": "text/x-python",
   "name": "python",
   "nbconvert_exporter": "python",
   "pygments_lexer": "ipython3",
   "version": "3.9.12"
  }
 },
 "nbformat": 4,
 "nbformat_minor": 1
}
