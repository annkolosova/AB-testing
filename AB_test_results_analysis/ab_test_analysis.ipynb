{
 "cells": [
  {
   "cell_type": "markdown",
   "metadata": {
    "id": "1pjzMrempkbx"
   },
   "source": [
    "# **Аналитический кейс. Приоритизация гипотез и анализ результатов A/B-теста для интернет-магазина**"
   ]
  },
  {
   "cell_type": "markdown",
   "metadata": {},
   "source": [
    "## **Описание проекта**"
   ]
  },
  {
   "cell_type": "markdown",
   "metadata": {
    "id": "zfftV6I9o3Yt"
   },
   "source": [
    "Проект выполняется по заказу крупного интернет-магазина. На основе подготовленного отделом маркетинга и аналитиками списка гипотез для увеличения выручки необходимо провести анализ, который позволит приоритизировать гипотезы. На следующем этапе необходимо запустить A/B-тест и проанализировать его результаты. "
   ]
  },
  {
   "cell_type": "markdown",
   "metadata": {},
   "source": [
    "## **Загрузка библиотек и данных**"
   ]
  },
  {
   "cell_type": "code",
   "execution_count": 1,
   "metadata": {
    "id": "Pif-xPAHnfn8"
   },
   "outputs": [],
   "source": [
    "import pandas as pd\n",
    "import numpy as np\n",
    "import datetime as dt"
   ]
  },
  {
   "cell_type": "code",
   "execution_count": 2,
   "metadata": {
    "id": "grYc08ixniip"
   },
   "outputs": [],
   "source": [
    "from scipy import stats as st\n",
    "import math as mth"
   ]
  },
  {
   "cell_type": "code",
   "execution_count": 3,
   "metadata": {
    "id": "qV7RU3F6nk_L"
   },
   "outputs": [],
   "source": [
    "import seaborn as sns"
   ]
  },
  {
   "cell_type": "code",
   "execution_count": 4,
   "metadata": {
    "id": "zeu5xDtRzjE9"
   },
   "outputs": [],
   "source": [
    "import matplotlib.pyplot as plt"
   ]
  },
  {
   "cell_type": "code",
   "execution_count": 5,
   "metadata": {
    "id": "BHfECS5_yfy5"
   },
   "outputs": [],
   "source": [
    "sns.set()"
   ]
  },
  {
   "cell_type": "code",
   "execution_count": 6,
   "metadata": {},
   "outputs": [],
   "source": [
    "hypothesis = pd.read_csv('C:/Rabota/IT/Datasets/hypothesis.csv')"
   ]
  },
  {
   "cell_type": "code",
   "execution_count": 7,
   "metadata": {
    "colab": {
     "base_uri": "https://localhost:8080/",
     "height": 331
    },
    "executionInfo": {
     "elapsed": 643,
     "status": "ok",
     "timestamp": 1663689599257,
     "user": {
      "displayName": "Anna Annushka",
      "userId": "03707459048323611332"
     },
     "user_tz": -180
    },
    "id": "Us38L6zpoCvU",
    "outputId": "32d5f7fb-8e57-49a8-a1d5-df945a79b2c7"
   },
   "outputs": [
    {
     "data": {
      "text/html": [
       "<div>\n",
       "<style scoped>\n",
       "    .dataframe tbody tr th:only-of-type {\n",
       "        vertical-align: middle;\n",
       "    }\n",
       "\n",
       "    .dataframe tbody tr th {\n",
       "        vertical-align: top;\n",
       "    }\n",
       "\n",
       "    .dataframe thead th {\n",
       "        text-align: right;\n",
       "    }\n",
       "</style>\n",
       "<table border=\"1\" class=\"dataframe\">\n",
       "  <thead>\n",
       "    <tr style=\"text-align: right;\">\n",
       "      <th></th>\n",
       "      <th>Hypothesis</th>\n",
       "      <th>Reach</th>\n",
       "      <th>Impact</th>\n",
       "      <th>Confidence</th>\n",
       "      <th>Efforts</th>\n",
       "    </tr>\n",
       "  </thead>\n",
       "  <tbody>\n",
       "    <tr>\n",
       "      <th>0</th>\n",
       "      <td>Добавить два новых канала привлечения трафика,...</td>\n",
       "      <td>3</td>\n",
       "      <td>10</td>\n",
       "      <td>8</td>\n",
       "      <td>6</td>\n",
       "    </tr>\n",
       "    <tr>\n",
       "      <th>1</th>\n",
       "      <td>Запустить собственную службу доставки, что сок...</td>\n",
       "      <td>2</td>\n",
       "      <td>5</td>\n",
       "      <td>4</td>\n",
       "      <td>10</td>\n",
       "    </tr>\n",
       "    <tr>\n",
       "      <th>2</th>\n",
       "      <td>Добавить блоки рекомендаций товаров на сайт ин...</td>\n",
       "      <td>8</td>\n",
       "      <td>3</td>\n",
       "      <td>7</td>\n",
       "      <td>3</td>\n",
       "    </tr>\n",
       "    <tr>\n",
       "      <th>3</th>\n",
       "      <td>Изменить структура категорий, что увеличит кон...</td>\n",
       "      <td>8</td>\n",
       "      <td>3</td>\n",
       "      <td>3</td>\n",
       "      <td>8</td>\n",
       "    </tr>\n",
       "    <tr>\n",
       "      <th>4</th>\n",
       "      <td>Изменить цвет фона главной страницы, чтобы уве...</td>\n",
       "      <td>3</td>\n",
       "      <td>1</td>\n",
       "      <td>1</td>\n",
       "      <td>1</td>\n",
       "    </tr>\n",
       "    <tr>\n",
       "      <th>5</th>\n",
       "      <td>Добавить страницу отзывов клиентов о магазине,...</td>\n",
       "      <td>3</td>\n",
       "      <td>2</td>\n",
       "      <td>2</td>\n",
       "      <td>3</td>\n",
       "    </tr>\n",
       "    <tr>\n",
       "      <th>6</th>\n",
       "      <td>Показать на главной странице баннеры с актуаль...</td>\n",
       "      <td>5</td>\n",
       "      <td>3</td>\n",
       "      <td>8</td>\n",
       "      <td>3</td>\n",
       "    </tr>\n",
       "    <tr>\n",
       "      <th>7</th>\n",
       "      <td>Добавить форму подписки на все основные страни...</td>\n",
       "      <td>10</td>\n",
       "      <td>7</td>\n",
       "      <td>8</td>\n",
       "      <td>5</td>\n",
       "    </tr>\n",
       "    <tr>\n",
       "      <th>8</th>\n",
       "      <td>Запустить акцию, дающую скидку на товар в день...</td>\n",
       "      <td>1</td>\n",
       "      <td>9</td>\n",
       "      <td>9</td>\n",
       "      <td>5</td>\n",
       "    </tr>\n",
       "  </tbody>\n",
       "</table>\n",
       "</div>"
      ],
      "text/plain": [
       "                                          Hypothesis  Reach  Impact  \\\n",
       "0  Добавить два новых канала привлечения трафика,...      3      10   \n",
       "1  Запустить собственную службу доставки, что сок...      2       5   \n",
       "2  Добавить блоки рекомендаций товаров на сайт ин...      8       3   \n",
       "3  Изменить структура категорий, что увеличит кон...      8       3   \n",
       "4  Изменить цвет фона главной страницы, чтобы уве...      3       1   \n",
       "5  Добавить страницу отзывов клиентов о магазине,...      3       2   \n",
       "6  Показать на главной странице баннеры с актуаль...      5       3   \n",
       "7  Добавить форму подписки на все основные страни...     10       7   \n",
       "8  Запустить акцию, дающую скидку на товар в день...      1       9   \n",
       "\n",
       "   Confidence  Efforts  \n",
       "0           8        6  \n",
       "1           4       10  \n",
       "2           7        3  \n",
       "3           3        8  \n",
       "4           1        1  \n",
       "5           2        3  \n",
       "6           8        3  \n",
       "7           8        5  \n",
       "8           9        5  "
      ]
     },
     "execution_count": 7,
     "metadata": {},
     "output_type": "execute_result"
    }
   ],
   "source": [
    "hypothesis"
   ]
  },
  {
   "cell_type": "code",
   "execution_count": 8,
   "metadata": {
    "colab": {
     "base_uri": "https://localhost:8080/"
    },
    "executionInfo": {
     "elapsed": 4,
     "status": "ok",
     "timestamp": 1663690525953,
     "user": {
      "displayName": "Anna Annushka",
      "userId": "03707459048323611332"
     },
     "user_tz": -180
    },
    "id": "bLDr300frrcQ",
    "outputId": "370f5b48-3878-4766-f9d0-fc2a325310e0"
   },
   "outputs": [
    {
     "name": "stdout",
     "output_type": "stream",
     "text": [
      "<class 'pandas.core.frame.DataFrame'>\n",
      "RangeIndex: 9 entries, 0 to 8\n",
      "Data columns (total 5 columns):\n",
      " #   Column      Non-Null Count  Dtype \n",
      "---  ------      --------------  ----- \n",
      " 0   Hypothesis  9 non-null      object\n",
      " 1   Reach       9 non-null      int64 \n",
      " 2   Impact      9 non-null      int64 \n",
      " 3   Confidence  9 non-null      int64 \n",
      " 4   Efforts     9 non-null      int64 \n",
      "dtypes: int64(4), object(1)\n",
      "memory usage: 488.0+ bytes\n"
     ]
    }
   ],
   "source": [
    "hypothesis.info()"
   ]
  },
  {
   "cell_type": "code",
   "execution_count": 9,
   "metadata": {},
   "outputs": [],
   "source": [
    "orders = pd.read_csv('C:/Rabota/IT/Datasets/orders.csv', parse_dates=['date'])"
   ]
  },
  {
   "cell_type": "code",
   "execution_count": 10,
   "metadata": {
    "colab": {
     "base_uri": "https://localhost:8080/",
     "height": 206
    },
    "executionInfo": {
     "elapsed": 5,
     "status": "ok",
     "timestamp": 1663689721674,
     "user": {
      "displayName": "Anna Annushka",
      "userId": "03707459048323611332"
     },
     "user_tz": -180
    },
    "id": "zQmoZol9onbc",
    "outputId": "44018815-8730-4bc0-d1fb-e19e1c7f00f6"
   },
   "outputs": [
    {
     "data": {
      "text/html": [
       "<div>\n",
       "<style scoped>\n",
       "    .dataframe tbody tr th:only-of-type {\n",
       "        vertical-align: middle;\n",
       "    }\n",
       "\n",
       "    .dataframe tbody tr th {\n",
       "        vertical-align: top;\n",
       "    }\n",
       "\n",
       "    .dataframe thead th {\n",
       "        text-align: right;\n",
       "    }\n",
       "</style>\n",
       "<table border=\"1\" class=\"dataframe\">\n",
       "  <thead>\n",
       "    <tr style=\"text-align: right;\">\n",
       "      <th></th>\n",
       "      <th>transactionId</th>\n",
       "      <th>visitorId</th>\n",
       "      <th>date</th>\n",
       "      <th>revenue</th>\n",
       "      <th>group</th>\n",
       "    </tr>\n",
       "  </thead>\n",
       "  <tbody>\n",
       "    <tr>\n",
       "      <th>0</th>\n",
       "      <td>3667963787</td>\n",
       "      <td>3312258926</td>\n",
       "      <td>2019-08-15</td>\n",
       "      <td>1650</td>\n",
       "      <td>B</td>\n",
       "    </tr>\n",
       "    <tr>\n",
       "      <th>1</th>\n",
       "      <td>2804400009</td>\n",
       "      <td>3642806036</td>\n",
       "      <td>2019-08-15</td>\n",
       "      <td>730</td>\n",
       "      <td>B</td>\n",
       "    </tr>\n",
       "    <tr>\n",
       "      <th>2</th>\n",
       "      <td>2961555356</td>\n",
       "      <td>4069496402</td>\n",
       "      <td>2019-08-15</td>\n",
       "      <td>400</td>\n",
       "      <td>A</td>\n",
       "    </tr>\n",
       "    <tr>\n",
       "      <th>3</th>\n",
       "      <td>3797467345</td>\n",
       "      <td>1196621759</td>\n",
       "      <td>2019-08-15</td>\n",
       "      <td>9759</td>\n",
       "      <td>B</td>\n",
       "    </tr>\n",
       "    <tr>\n",
       "      <th>4</th>\n",
       "      <td>2282983706</td>\n",
       "      <td>2322279887</td>\n",
       "      <td>2019-08-15</td>\n",
       "      <td>2308</td>\n",
       "      <td>B</td>\n",
       "    </tr>\n",
       "  </tbody>\n",
       "</table>\n",
       "</div>"
      ],
      "text/plain": [
       "   transactionId   visitorId       date  revenue group\n",
       "0     3667963787  3312258926 2019-08-15     1650     B\n",
       "1     2804400009  3642806036 2019-08-15      730     B\n",
       "2     2961555356  4069496402 2019-08-15      400     A\n",
       "3     3797467345  1196621759 2019-08-15     9759     B\n",
       "4     2282983706  2322279887 2019-08-15     2308     B"
      ]
     },
     "execution_count": 10,
     "metadata": {},
     "output_type": "execute_result"
    }
   ],
   "source": [
    "orders.head()"
   ]
  },
  {
   "cell_type": "code",
   "execution_count": 11,
   "metadata": {},
   "outputs": [],
   "source": [
    "visitors = pd.read_csv('C:/Rabota/IT/Datasets/visitors.csv')"
   ]
  },
  {
   "cell_type": "code",
   "execution_count": 12,
   "metadata": {
    "colab": {
     "base_uri": "https://localhost:8080/",
     "height": 206
    },
    "executionInfo": {
     "elapsed": 5,
     "status": "ok",
     "timestamp": 1663690165151,
     "user": {
      "displayName": "Anna Annushka",
      "userId": "03707459048323611332"
     },
     "user_tz": -180
    },
    "id": "sehybs4EqTHt",
    "outputId": "aa17300e-acb9-4b24-d7ba-3681d7c7b361"
   },
   "outputs": [
    {
     "data": {
      "text/html": [
       "<div>\n",
       "<style scoped>\n",
       "    .dataframe tbody tr th:only-of-type {\n",
       "        vertical-align: middle;\n",
       "    }\n",
       "\n",
       "    .dataframe tbody tr th {\n",
       "        vertical-align: top;\n",
       "    }\n",
       "\n",
       "    .dataframe thead th {\n",
       "        text-align: right;\n",
       "    }\n",
       "</style>\n",
       "<table border=\"1\" class=\"dataframe\">\n",
       "  <thead>\n",
       "    <tr style=\"text-align: right;\">\n",
       "      <th></th>\n",
       "      <th>date</th>\n",
       "      <th>group</th>\n",
       "      <th>visitors</th>\n",
       "    </tr>\n",
       "  </thead>\n",
       "  <tbody>\n",
       "    <tr>\n",
       "      <th>0</th>\n",
       "      <td>2019-08-01</td>\n",
       "      <td>A</td>\n",
       "      <td>719</td>\n",
       "    </tr>\n",
       "    <tr>\n",
       "      <th>1</th>\n",
       "      <td>2019-08-02</td>\n",
       "      <td>A</td>\n",
       "      <td>619</td>\n",
       "    </tr>\n",
       "    <tr>\n",
       "      <th>2</th>\n",
       "      <td>2019-08-03</td>\n",
       "      <td>A</td>\n",
       "      <td>507</td>\n",
       "    </tr>\n",
       "    <tr>\n",
       "      <th>3</th>\n",
       "      <td>2019-08-04</td>\n",
       "      <td>A</td>\n",
       "      <td>717</td>\n",
       "    </tr>\n",
       "    <tr>\n",
       "      <th>4</th>\n",
       "      <td>2019-08-05</td>\n",
       "      <td>A</td>\n",
       "      <td>756</td>\n",
       "    </tr>\n",
       "  </tbody>\n",
       "</table>\n",
       "</div>"
      ],
      "text/plain": [
       "         date group  visitors\n",
       "0  2019-08-01     A       719\n",
       "1  2019-08-02     A       619\n",
       "2  2019-08-03     A       507\n",
       "3  2019-08-04     A       717\n",
       "4  2019-08-05     A       756"
      ]
     },
     "execution_count": 12,
     "metadata": {},
     "output_type": "execute_result"
    }
   ],
   "source": [
    "visitors.head()"
   ]
  },
  {
   "cell_type": "markdown",
   "metadata": {
    "id": "RAd_Omg_p0L6"
   },
   "source": [
    "## **Часть 1. Приоритизация гипотез**"
   ]
  },
  {
   "cell_type": "markdown",
   "metadata": {
    "id": "sPskzxy_px1K"
   },
   "source": [
    "В файле /datasets/hypothesis.csv содержится 9 гипотез по увеличению выручки интернет-магазина с указанными параметрами Reach, Impact, Confidence, Effort. Задача:\n",
    "\n",
    "+ применить фреймворк ICE для приоритизации гипотез. Отсортировать их по убыванию приоритета.\n",
    "+ применить фреймворк RICE для приоритизации гипотез. Отсортировать их по убыванию приоритета.\n",
    "+ указать, как изменилась приоритизация гипотез при применении RICE вместо ICE. Объяснить, почему так произошло."
   ]
  },
  {
   "cell_type": "code",
   "execution_count": 13,
   "metadata": {
    "colab": {
     "base_uri": "https://localhost:8080/",
     "height": 331
    },
    "executionInfo": {
     "elapsed": 5,
     "status": "ok",
     "timestamp": 1663690549434,
     "user": {
      "displayName": "Anna Annushka",
      "userId": "03707459048323611332"
     },
     "user_tz": -180
    },
    "id": "25gx5vM-rx3-",
    "outputId": "4423d3d0-efc3-4ff9-cfa6-641992d37e88"
   },
   "outputs": [
    {
     "data": {
      "text/html": [
       "<div>\n",
       "<style scoped>\n",
       "    .dataframe tbody tr th:only-of-type {\n",
       "        vertical-align: middle;\n",
       "    }\n",
       "\n",
       "    .dataframe tbody tr th {\n",
       "        vertical-align: top;\n",
       "    }\n",
       "\n",
       "    .dataframe thead th {\n",
       "        text-align: right;\n",
       "    }\n",
       "</style>\n",
       "<table border=\"1\" class=\"dataframe\">\n",
       "  <thead>\n",
       "    <tr style=\"text-align: right;\">\n",
       "      <th></th>\n",
       "      <th>Hypothesis</th>\n",
       "      <th>Reach</th>\n",
       "      <th>Impact</th>\n",
       "      <th>Confidence</th>\n",
       "      <th>Efforts</th>\n",
       "    </tr>\n",
       "  </thead>\n",
       "  <tbody>\n",
       "    <tr>\n",
       "      <th>0</th>\n",
       "      <td>Добавить два новых канала привлечения трафика,...</td>\n",
       "      <td>3</td>\n",
       "      <td>10</td>\n",
       "      <td>8</td>\n",
       "      <td>6</td>\n",
       "    </tr>\n",
       "    <tr>\n",
       "      <th>1</th>\n",
       "      <td>Запустить собственную службу доставки, что сок...</td>\n",
       "      <td>2</td>\n",
       "      <td>5</td>\n",
       "      <td>4</td>\n",
       "      <td>10</td>\n",
       "    </tr>\n",
       "    <tr>\n",
       "      <th>2</th>\n",
       "      <td>Добавить блоки рекомендаций товаров на сайт ин...</td>\n",
       "      <td>8</td>\n",
       "      <td>3</td>\n",
       "      <td>7</td>\n",
       "      <td>3</td>\n",
       "    </tr>\n",
       "    <tr>\n",
       "      <th>3</th>\n",
       "      <td>Изменить структура категорий, что увеличит кон...</td>\n",
       "      <td>8</td>\n",
       "      <td>3</td>\n",
       "      <td>3</td>\n",
       "      <td>8</td>\n",
       "    </tr>\n",
       "    <tr>\n",
       "      <th>4</th>\n",
       "      <td>Изменить цвет фона главной страницы, чтобы уве...</td>\n",
       "      <td>3</td>\n",
       "      <td>1</td>\n",
       "      <td>1</td>\n",
       "      <td>1</td>\n",
       "    </tr>\n",
       "    <tr>\n",
       "      <th>5</th>\n",
       "      <td>Добавить страницу отзывов клиентов о магазине,...</td>\n",
       "      <td>3</td>\n",
       "      <td>2</td>\n",
       "      <td>2</td>\n",
       "      <td>3</td>\n",
       "    </tr>\n",
       "    <tr>\n",
       "      <th>6</th>\n",
       "      <td>Показать на главной странице баннеры с актуаль...</td>\n",
       "      <td>5</td>\n",
       "      <td>3</td>\n",
       "      <td>8</td>\n",
       "      <td>3</td>\n",
       "    </tr>\n",
       "    <tr>\n",
       "      <th>7</th>\n",
       "      <td>Добавить форму подписки на все основные страни...</td>\n",
       "      <td>10</td>\n",
       "      <td>7</td>\n",
       "      <td>8</td>\n",
       "      <td>5</td>\n",
       "    </tr>\n",
       "    <tr>\n",
       "      <th>8</th>\n",
       "      <td>Запустить акцию, дающую скидку на товар в день...</td>\n",
       "      <td>1</td>\n",
       "      <td>9</td>\n",
       "      <td>9</td>\n",
       "      <td>5</td>\n",
       "    </tr>\n",
       "  </tbody>\n",
       "</table>\n",
       "</div>"
      ],
      "text/plain": [
       "                                          Hypothesis  Reach  Impact  \\\n",
       "0  Добавить два новых канала привлечения трафика,...      3      10   \n",
       "1  Запустить собственную службу доставки, что сок...      2       5   \n",
       "2  Добавить блоки рекомендаций товаров на сайт ин...      8       3   \n",
       "3  Изменить структура категорий, что увеличит кон...      8       3   \n",
       "4  Изменить цвет фона главной страницы, чтобы уве...      3       1   \n",
       "5  Добавить страницу отзывов клиентов о магазине,...      3       2   \n",
       "6  Показать на главной странице баннеры с актуаль...      5       3   \n",
       "7  Добавить форму подписки на все основные страни...     10       7   \n",
       "8  Запустить акцию, дающую скидку на товар в день...      1       9   \n",
       "\n",
       "   Confidence  Efforts  \n",
       "0           8        6  \n",
       "1           4       10  \n",
       "2           7        3  \n",
       "3           3        8  \n",
       "4           1        1  \n",
       "5           2        3  \n",
       "6           8        3  \n",
       "7           8        5  \n",
       "8           9        5  "
      ]
     },
     "execution_count": 13,
     "metadata": {},
     "output_type": "execute_result"
    }
   ],
   "source": [
    "hypothesis"
   ]
  },
  {
   "cell_type": "markdown",
   "metadata": {
    "id": "o1k5rXDar5Q9"
   },
   "source": [
    "Применим фреймворк ICE для приоритизации гипотез."
   ]
  },
  {
   "cell_type": "code",
   "execution_count": 14,
   "metadata": {
    "id": "Kqjo0xuDr3VG"
   },
   "outputs": [],
   "source": [
    "hypothesis['ice'] = (hypothesis['Impact'] * hypothesis['Confidence']) / hypothesis['Efforts']"
   ]
  },
  {
   "cell_type": "code",
   "execution_count": 15,
   "metadata": {
    "colab": {
     "base_uri": "https://localhost:8080/",
     "height": 331
    },
    "executionInfo": {
     "elapsed": 320,
     "status": "ok",
     "timestamp": 1663691152995,
     "user": {
      "displayName": "Anna Annushka",
      "userId": "03707459048323611332"
     },
     "user_tz": -180
    },
    "id": "74dqAfaCs-1A",
    "outputId": "ce4fdd32-42e7-4177-bb39-3ba9bc67bb67"
   },
   "outputs": [
    {
     "data": {
      "text/html": [
       "<style type=\"text/css\">\n",
       "</style>\n",
       "<table id=\"T_7073c\">\n",
       "  <thead>\n",
       "    <tr>\n",
       "      <th class=\"blank level0\" >&nbsp;</th>\n",
       "      <th id=\"T_7073c_level0_col0\" class=\"col_heading level0 col0\" >Hypothesis</th>\n",
       "      <th id=\"T_7073c_level0_col1\" class=\"col_heading level0 col1\" >ice</th>\n",
       "    </tr>\n",
       "  </thead>\n",
       "  <tbody>\n",
       "    <tr>\n",
       "      <th id=\"T_7073c_level0_row0\" class=\"row_heading level0 row0\" >8</th>\n",
       "      <td id=\"T_7073c_row0_col0\" class=\"data row0 col0\" >Запустить акцию, дающую скидку на товар в день рождения</td>\n",
       "      <td id=\"T_7073c_row0_col1\" class=\"data row0 col1\" >16.20</td>\n",
       "    </tr>\n",
       "    <tr>\n",
       "      <th id=\"T_7073c_level0_row1\" class=\"row_heading level0 row1\" >0</th>\n",
       "      <td id=\"T_7073c_row1_col0\" class=\"data row1 col0\" >Добавить два новых канала привлечения трафика, что позволит привлекать на 30% больше пользователей</td>\n",
       "      <td id=\"T_7073c_row1_col1\" class=\"data row1 col1\" >13.33</td>\n",
       "    </tr>\n",
       "    <tr>\n",
       "      <th id=\"T_7073c_level0_row2\" class=\"row_heading level0 row2\" >7</th>\n",
       "      <td id=\"T_7073c_row2_col0\" class=\"data row2 col0\" >Добавить форму подписки на все основные страницы, чтобы собрать базу клиентов для email-рассылок</td>\n",
       "      <td id=\"T_7073c_row2_col1\" class=\"data row2 col1\" >11.20</td>\n",
       "    </tr>\n",
       "    <tr>\n",
       "      <th id=\"T_7073c_level0_row3\" class=\"row_heading level0 row3\" >6</th>\n",
       "      <td id=\"T_7073c_row3_col0\" class=\"data row3 col0\" >Показать на главной странице баннеры с актуальными акциями и распродажами, чтобы увеличить конверсию</td>\n",
       "      <td id=\"T_7073c_row3_col1\" class=\"data row3 col1\" >8.00</td>\n",
       "    </tr>\n",
       "    <tr>\n",
       "      <th id=\"T_7073c_level0_row4\" class=\"row_heading level0 row4\" >2</th>\n",
       "      <td id=\"T_7073c_row4_col0\" class=\"data row4 col0\" >Добавить блоки рекомендаций товаров на сайт интернет магазина, чтобы повысить конверсию и средний чек заказа</td>\n",
       "      <td id=\"T_7073c_row4_col1\" class=\"data row4 col1\" >7.00</td>\n",
       "    </tr>\n",
       "    <tr>\n",
       "      <th id=\"T_7073c_level0_row5\" class=\"row_heading level0 row5\" >1</th>\n",
       "      <td id=\"T_7073c_row5_col0\" class=\"data row5 col0\" >Запустить собственную службу доставки, что сократит срок доставки заказов</td>\n",
       "      <td id=\"T_7073c_row5_col1\" class=\"data row5 col1\" >2.00</td>\n",
       "    </tr>\n",
       "    <tr>\n",
       "      <th id=\"T_7073c_level0_row6\" class=\"row_heading level0 row6\" >5</th>\n",
       "      <td id=\"T_7073c_row6_col0\" class=\"data row6 col0\" >Добавить страницу отзывов клиентов о магазине, что позволит увеличить количество заказов</td>\n",
       "      <td id=\"T_7073c_row6_col1\" class=\"data row6 col1\" >1.33</td>\n",
       "    </tr>\n",
       "    <tr>\n",
       "      <th id=\"T_7073c_level0_row7\" class=\"row_heading level0 row7\" >3</th>\n",
       "      <td id=\"T_7073c_row7_col0\" class=\"data row7 col0\" >Изменить структура категорий, что увеличит конверсию, т.к. пользователи быстрее найдут нужный товар</td>\n",
       "      <td id=\"T_7073c_row7_col1\" class=\"data row7 col1\" >1.12</td>\n",
       "    </tr>\n",
       "    <tr>\n",
       "      <th id=\"T_7073c_level0_row8\" class=\"row_heading level0 row8\" >4</th>\n",
       "      <td id=\"T_7073c_row8_col0\" class=\"data row8 col0\" >Изменить цвет фона главной страницы, чтобы увеличить вовлеченность пользователей</td>\n",
       "      <td id=\"T_7073c_row8_col1\" class=\"data row8 col1\" >1.00</td>\n",
       "    </tr>\n",
       "  </tbody>\n",
       "</table>\n"
      ],
      "text/plain": [
       "<pandas.io.formats.style.Styler at 0x23d1e89fac0>"
      ]
     },
     "execution_count": 15,
     "metadata": {},
     "output_type": "execute_result"
    }
   ],
   "source": [
    "(\n",
    "  hypothesis[['Hypothesis', 'ice']]\n",
    " .sort_values(by='ice', ascending=False)\n",
    " .style.format('{:.2f}', subset=['ice'])\n",
    ")\n",
    "# .style.set_properties(subset=['Hypothesis'], **{'width': '500px'})"
   ]
  },
  {
   "cell_type": "markdown",
   "metadata": {},
   "source": [
    "Индекс ICE ставит на первое место с точки приоритетности вариант с запуском акции, дающей скидку на товар в день рождения (16,2 балла). На втором месте идут новые каналы привлечения трафика (13,3 балла) и на третьем - форма подписки на основные страницы (11,2 балла). Остальные гипотезы получила в рамках фреймворка ICE менее 10 баллов."
   ]
  },
  {
   "cell_type": "markdown",
   "metadata": {
    "id": "BgX6wulUuYwi"
   },
   "source": [
    "Применим фреймворк RICE для приоритизации гипотез."
   ]
  },
  {
   "cell_type": "code",
   "execution_count": 16,
   "metadata": {
    "id": "JxjA7J1QuelW"
   },
   "outputs": [],
   "source": [
    "hypothesis['rice'] = (hypothesis['Reach'] * hypothesis['Impact'] * hypothesis['Confidence']) / hypothesis['Efforts']"
   ]
  },
  {
   "cell_type": "code",
   "execution_count": 17,
   "metadata": {},
   "outputs": [
    {
     "data": {
      "text/html": [
       "<style type=\"text/css\">\n",
       "#T_a7910_row0_col1, #T_a7910_row4_col2 {\n",
       "  background-color: #6abf71;\n",
       "  color: #000000;\n",
       "  width: 100px;\n",
       "}\n",
       "#T_a7910_row0_col2 {\n",
       "  background-color: #a4da9e;\n",
       "  color: #000000;\n",
       "  width: 100px;\n",
       "}\n",
       "#T_a7910_row1_col1 {\n",
       "  background-color: #bee5b8;\n",
       "  color: #000000;\n",
       "  width: 100px;\n",
       "}\n",
       "#T_a7910_row1_col2 {\n",
       "  background-color: #cbeac4;\n",
       "  color: #000000;\n",
       "  width: 100px;\n",
       "}\n",
       "#T_a7910_row2_col1, #T_a7910_row3_col1 {\n",
       "  background-color: #d1edcb;\n",
       "  color: #000000;\n",
       "  width: 100px;\n",
       "}\n",
       "#T_a7910_row2_col2 {\n",
       "  background-color: #8bcf89;\n",
       "  color: #000000;\n",
       "  width: 100px;\n",
       "}\n",
       "#T_a7910_row3_col2 {\n",
       "  background-color: #c2e7bb;\n",
       "  color: #000000;\n",
       "  width: 100px;\n",
       "}\n",
       "#T_a7910_row4_col1 {\n",
       "  background-color: #e8f6e4;\n",
       "  color: #000000;\n",
       "  width: 100px;\n",
       "}\n",
       "#T_a7910_row5_col1 {\n",
       "  background-color: #edf8e9;\n",
       "  color: #000000;\n",
       "  width: 100px;\n",
       "}\n",
       "#T_a7910_row5_col2, #T_a7910_row6_col1, #T_a7910_row7_col1 {\n",
       "  background-color: #f0f9ec;\n",
       "  color: #000000;\n",
       "  width: 100px;\n",
       "}\n",
       "#T_a7910_row6_col2 {\n",
       "  background-color: #ecf8e8;\n",
       "  color: #000000;\n",
       "  width: 100px;\n",
       "}\n",
       "#T_a7910_row7_col2 {\n",
       "  background-color: #eff9ec;\n",
       "  color: #000000;\n",
       "  width: 100px;\n",
       "}\n",
       "#T_a7910_row8_col1, #T_a7910_row8_col2 {\n",
       "  background-color: #f0f9ed;\n",
       "  color: #000000;\n",
       "  width: 100px;\n",
       "}\n",
       "</style>\n",
       "<table id=\"T_a7910\">\n",
       "  <thead>\n",
       "    <tr>\n",
       "      <th class=\"blank level0\" >&nbsp;</th>\n",
       "      <th id=\"T_a7910_level0_col0\" class=\"col_heading level0 col0\" >Hypothesis</th>\n",
       "      <th id=\"T_a7910_level0_col1\" class=\"col_heading level0 col1\" >rice</th>\n",
       "      <th id=\"T_a7910_level0_col2\" class=\"col_heading level0 col2\" >ice</th>\n",
       "    </tr>\n",
       "  </thead>\n",
       "  <tbody>\n",
       "    <tr>\n",
       "      <th id=\"T_a7910_level0_row0\" class=\"row_heading level0 row0\" >7</th>\n",
       "      <td id=\"T_a7910_row0_col0\" class=\"data row0 col0\" >Добавить форму подписки на все основные страницы, чтобы собрать базу клиентов для email-рассылок</td>\n",
       "      <td id=\"T_a7910_row0_col1\" class=\"data row0 col1\" >112.00</td>\n",
       "      <td id=\"T_a7910_row0_col2\" class=\"data row0 col2\" >11.20</td>\n",
       "    </tr>\n",
       "    <tr>\n",
       "      <th id=\"T_a7910_level0_row1\" class=\"row_heading level0 row1\" >2</th>\n",
       "      <td id=\"T_a7910_row1_col0\" class=\"data row1 col0\" >Добавить блоки рекомендаций товаров на сайт интернет магазина, чтобы повысить конверсию и средний чек заказа</td>\n",
       "      <td id=\"T_a7910_row1_col1\" class=\"data row1 col1\" >56.00</td>\n",
       "      <td id=\"T_a7910_row1_col2\" class=\"data row1 col2\" >7.00</td>\n",
       "    </tr>\n",
       "    <tr>\n",
       "      <th id=\"T_a7910_level0_row2\" class=\"row_heading level0 row2\" >0</th>\n",
       "      <td id=\"T_a7910_row2_col0\" class=\"data row2 col0\" >Добавить два новых канала привлечения трафика, что позволит привлекать на 30% больше пользователей</td>\n",
       "      <td id=\"T_a7910_row2_col1\" class=\"data row2 col1\" >40.00</td>\n",
       "      <td id=\"T_a7910_row2_col2\" class=\"data row2 col2\" >13.33</td>\n",
       "    </tr>\n",
       "    <tr>\n",
       "      <th id=\"T_a7910_level0_row3\" class=\"row_heading level0 row3\" >6</th>\n",
       "      <td id=\"T_a7910_row3_col0\" class=\"data row3 col0\" >Показать на главной странице баннеры с актуальными акциями и распродажами, чтобы увеличить конверсию</td>\n",
       "      <td id=\"T_a7910_row3_col1\" class=\"data row3 col1\" >40.00</td>\n",
       "      <td id=\"T_a7910_row3_col2\" class=\"data row3 col2\" >8.00</td>\n",
       "    </tr>\n",
       "    <tr>\n",
       "      <th id=\"T_a7910_level0_row4\" class=\"row_heading level0 row4\" >8</th>\n",
       "      <td id=\"T_a7910_row4_col0\" class=\"data row4 col0\" >Запустить акцию, дающую скидку на товар в день рождения</td>\n",
       "      <td id=\"T_a7910_row4_col1\" class=\"data row4 col1\" >16.20</td>\n",
       "      <td id=\"T_a7910_row4_col2\" class=\"data row4 col2\" >16.20</td>\n",
       "    </tr>\n",
       "    <tr>\n",
       "      <th id=\"T_a7910_level0_row5\" class=\"row_heading level0 row5\" >3</th>\n",
       "      <td id=\"T_a7910_row5_col0\" class=\"data row5 col0\" >Изменить структура категорий, что увеличит конверсию, т.к. пользователи быстрее найдут нужный товар</td>\n",
       "      <td id=\"T_a7910_row5_col1\" class=\"data row5 col1\" >9.00</td>\n",
       "      <td id=\"T_a7910_row5_col2\" class=\"data row5 col2\" >1.12</td>\n",
       "    </tr>\n",
       "    <tr>\n",
       "      <th id=\"T_a7910_level0_row6\" class=\"row_heading level0 row6\" >1</th>\n",
       "      <td id=\"T_a7910_row6_col0\" class=\"data row6 col0\" >Запустить собственную службу доставки, что сократит срок доставки заказов</td>\n",
       "      <td id=\"T_a7910_row6_col1\" class=\"data row6 col1\" >4.00</td>\n",
       "      <td id=\"T_a7910_row6_col2\" class=\"data row6 col2\" >2.00</td>\n",
       "    </tr>\n",
       "    <tr>\n",
       "      <th id=\"T_a7910_level0_row7\" class=\"row_heading level0 row7\" >5</th>\n",
       "      <td id=\"T_a7910_row7_col0\" class=\"data row7 col0\" >Добавить страницу отзывов клиентов о магазине, что позволит увеличить количество заказов</td>\n",
       "      <td id=\"T_a7910_row7_col1\" class=\"data row7 col1\" >4.00</td>\n",
       "      <td id=\"T_a7910_row7_col2\" class=\"data row7 col2\" >1.33</td>\n",
       "    </tr>\n",
       "    <tr>\n",
       "      <th id=\"T_a7910_level0_row8\" class=\"row_heading level0 row8\" >4</th>\n",
       "      <td id=\"T_a7910_row8_col0\" class=\"data row8 col0\" >Изменить цвет фона главной страницы, чтобы увеличить вовлеченность пользователей</td>\n",
       "      <td id=\"T_a7910_row8_col1\" class=\"data row8 col1\" >3.00</td>\n",
       "      <td id=\"T_a7910_row8_col2\" class=\"data row8 col2\" >1.00</td>\n",
       "    </tr>\n",
       "  </tbody>\n",
       "</table>\n"
      ],
      "text/plain": [
       "<pandas.io.formats.style.Styler at 0x23d23b67400>"
      ]
     },
     "execution_count": 17,
     "metadata": {},
     "output_type": "execute_result"
    }
   ],
   "source": [
    "(\n",
    "  hypothesis[['Hypothesis', 'rice', 'ice']]\n",
    " .sort_values(by='rice', ascending=False)\n",
    " .style.background_gradient(cmap='Greens', axis=0, low=0.1, high=1)\n",
    "    .format('{:.2f}', subset=['rice', 'ice']).set_properties(subset=['rice', 'ice'], **{'width': '100px'})\n",
    ")"
   ]
  },
  {
   "cell_type": "markdown",
   "metadata": {},
   "source": [
    "Визуализируем показатели ICE и RICE напротив друг друга"
   ]
  },
  {
   "cell_type": "code",
   "execution_count": 18,
   "metadata": {
    "id": "uGcN6_JtxRph"
   },
   "outputs": [],
   "source": [
    "hypothesis['hypo_short'] = ['Новые каналы трафика', 'Служба доставки',\n",
    "       'Блоки рекомендаций', 'Новая структура категорий',\n",
    "       'Цвет фона главной страницы', 'Страница отзывов',\n",
    "       'Баннеры с акциями', 'Форма подписки',\n",
    "       'Скидка в день рождения']"
   ]
  },
  {
   "cell_type": "code",
   "execution_count": 19,
   "metadata": {
    "colab": {
     "base_uri": "https://localhost:8080/",
     "height": 372
    },
    "executionInfo": {
     "elapsed": 1837,
     "status": "ok",
     "timestamp": 1663692822558,
     "user": {
      "displayName": "Anna Annushka",
      "userId": "03707459048323611332"
     },
     "user_tz": -180
    },
    "id": "0-2sW5YzwfPe",
    "outputId": "8f4e1890-541c-4f7e-e246-ef862ed04ac7"
   },
   "outputs": [
    {
     "data": {
      "image/png": "[encoded data removed]",
      "text/plain": [
       "<Figure size 1152x360 with 2 Axes>"
      ]
     },
     "metadata": {},
     "output_type": "display_data"
    }
   ],
   "source": [
    "hypothesis = hypothesis.sort_values(by='rice', ascending=False)\n",
    "fig, ax = plt.subplots(1,2,figsize=(16,5))\n",
    "labels=hypothesis.hypo_short\n",
    "sns.barplot(x=hypothesis.rice, y=hypothesis.hypo_short, ax=ax[0])\n",
    "sns.barplot(x=hypothesis.ice, y=hypothesis.hypo_short, ax=ax[1])\n",
    "\n",
    "ax[0].invert_xaxis() \n",
    "ax[0].tick_params(labelleft=False, left=False)\n",
    "ax[1].set_yticklabels(labels, ha='center', position=(-0.14,0))\n",
    "\n",
    "ax[0].set_xlabel(\"баллы RICE\")\n",
    "ax[1].set_xlabel(\"баллы ICE\")\n",
    "ax[0].set_ylabel(\"\")\n",
    "ax[1].set_ylabel(\"\")\n",
    "ax[0].set_title(\"Приоритетность гипотез по RICE\", loc='right')\n",
    "ax[1].set_title(\"Приоритетность гипотез по ICE\", loc='left')\n",
    "\n",
    "plt.tight_layout(w_pad=0.7, pad=0)\n",
    "plt.show();"
   ]
  },
  {
   "cell_type": "markdown",
   "metadata": {},
   "source": [
    "Индекс RICE по-другому распределил наши гипотезы по приоритетности, нежели ICE. На первое место вышла форма подписки на основные страницы (112 баллов по фреймворку RICE - ровно в два раза больше, чем вторая по приоритетности гипотеза). На втором месте - блоки рекомендаций товаров (56 баллов) и, наконец, на третьем месте - новые каналы привлечения трафика. \n",
    "\n",
    "Мы видим, что запуск скидочной акции на товары в день рождения, который лидеровал по результатам подсчета ICE, не вошел в тройку лидеров по версии RICE, что связано с тем, что данный вариант имеет очень низкий охват аудитории (всего 1 балл), т.е. вовлеченность пользователей здесь будет низкая, в то время как у формы подписки показатель Reach составляет 10 баллов (т.е. это предложение охватывает потенциально практически всех пользователей сайта), что позволяет этой гипотезе выйти в лидеры по версиии RICE.    "
   ]
  },
  {
   "cell_type": "markdown",
   "metadata": {},
   "source": [
    "## **Выводы и рекомендации**"
   ]
  },
  {
   "cell_type": "markdown",
   "metadata": {
    "colab": {
     "base_uri": "https://localhost:8080/",
     "height": 331
    },
    "executionInfo": {
     "elapsed": 278,
     "status": "ok",
     "timestamp": 1663706406933,
     "user": {
      "displayName": "Anna Annushka",
      "userId": "03707459048323611332"
     },
     "user_tz": -180
    },
    "id": "utay45ECoQvT",
    "outputId": "43f7cb74-502e-493a-f4fd-57529469666d"
   },
   "source": [
    "Приоритет следует отдать гипотезам, которые оказались в тройке обоих фреймворков: это форма подписки на основных страницах и два новых канала трафика для привлечения пользователей. Именно эти гипотезы и следует запустить в работу. При возможности протестировать можно обе. Если же необходимо отдать приоритет только одной из них, целесообразно остановиться на гипотезе, занявшей первое место в рейтинге приоритетности - это добавление формы подписки на основные страницы.  "
   ]
  },
  {
   "cell_type": "markdown",
   "metadata": {
    "id": "FAKtnpWnBbVq"
   },
   "source": [
    "# **Часть 2. Анализ A/B-теста**"
   ]
  },
  {
   "cell_type": "markdown",
   "metadata": {
    "id": "A20oWlcJBejO"
   },
   "source": [
    "Мы провели A/B-тест и получили результаты, которые описаны в файлах datasets/orders.csv и /datasets/visitors.csv.\n",
    "Задача - проанализировать A/B-тест."
   ]
  },
  {
   "cell_type": "markdown",
   "metadata": {
    "id": "AYFPyCMNBywF"
   },
   "source": [
    "## **2.1. Предобработка данных**"
   ]
  },
  {
   "cell_type": "code",
   "execution_count": 20,
   "metadata": {
    "colab": {
     "base_uri": "https://localhost:8080/",
     "height": 206
    },
    "executionInfo": {
     "elapsed": 449,
     "status": "ok",
     "timestamp": 1663696588417,
     "user": {
      "displayName": "Anna Annushka",
      "userId": "03707459048323611332"
     },
     "user_tz": -180
    },
    "id": "b01qYhb0B7IB",
    "outputId": "0760876c-62c7-4d39-91e7-37ae0197a4d5"
   },
   "outputs": [
    {
     "data": {
      "text/html": [
       "<div>\n",
       "<style scoped>\n",
       "    .dataframe tbody tr th:only-of-type {\n",
       "        vertical-align: middle;\n",
       "    }\n",
       "\n",
       "    .dataframe tbody tr th {\n",
       "        vertical-align: top;\n",
       "    }\n",
       "\n",
       "    .dataframe thead th {\n",
       "        text-align: right;\n",
       "    }\n",
       "</style>\n",
       "<table border=\"1\" class=\"dataframe\">\n",
       "  <thead>\n",
       "    <tr style=\"text-align: right;\">\n",
       "      <th></th>\n",
       "      <th>transactionId</th>\n",
       "      <th>visitorId</th>\n",
       "      <th>date</th>\n",
       "      <th>revenue</th>\n",
       "      <th>group</th>\n",
       "    </tr>\n",
       "  </thead>\n",
       "  <tbody>\n",
       "    <tr>\n",
       "      <th>0</th>\n",
       "      <td>3667963787</td>\n",
       "      <td>3312258926</td>\n",
       "      <td>2019-08-15</td>\n",
       "      <td>1650</td>\n",
       "      <td>B</td>\n",
       "    </tr>\n",
       "    <tr>\n",
       "      <th>1</th>\n",
       "      <td>2804400009</td>\n",
       "      <td>3642806036</td>\n",
       "      <td>2019-08-15</td>\n",
       "      <td>730</td>\n",
       "      <td>B</td>\n",
       "    </tr>\n",
       "    <tr>\n",
       "      <th>2</th>\n",
       "      <td>2961555356</td>\n",
       "      <td>4069496402</td>\n",
       "      <td>2019-08-15</td>\n",
       "      <td>400</td>\n",
       "      <td>A</td>\n",
       "    </tr>\n",
       "    <tr>\n",
       "      <th>3</th>\n",
       "      <td>3797467345</td>\n",
       "      <td>1196621759</td>\n",
       "      <td>2019-08-15</td>\n",
       "      <td>9759</td>\n",
       "      <td>B</td>\n",
       "    </tr>\n",
       "    <tr>\n",
       "      <th>4</th>\n",
       "      <td>2282983706</td>\n",
       "      <td>2322279887</td>\n",
       "      <td>2019-08-15</td>\n",
       "      <td>2308</td>\n",
       "      <td>B</td>\n",
       "    </tr>\n",
       "  </tbody>\n",
       "</table>\n",
       "</div>"
      ],
      "text/plain": [
       "   transactionId   visitorId       date  revenue group\n",
       "0     3667963787  3312258926 2019-08-15     1650     B\n",
       "1     2804400009  3642806036 2019-08-15      730     B\n",
       "2     2961555356  4069496402 2019-08-15      400     A\n",
       "3     3797467345  1196621759 2019-08-15     9759     B\n",
       "4     2282983706  2322279887 2019-08-15     2308     B"
      ]
     },
     "execution_count": 20,
     "metadata": {},
     "output_type": "execute_result"
    }
   ],
   "source": [
    "orders.head()"
   ]
  },
  {
   "cell_type": "code",
   "execution_count": 21,
   "metadata": {
    "colab": {
     "base_uri": "https://localhost:8080/"
    },
    "executionInfo": {
     "elapsed": 451,
     "status": "ok",
     "timestamp": 1663696580017,
     "user": {
      "displayName": "Anna Annushka",
      "userId": "03707459048323611332"
     },
     "user_tz": -180
    },
    "id": "AAkmZxloCXLj",
    "outputId": "c81708f5-9f21-4704-bf7c-2db4e13cb15e"
   },
   "outputs": [
    {
     "name": "stdout",
     "output_type": "stream",
     "text": [
      "<class 'pandas.core.frame.DataFrame'>\n",
      "RangeIndex: 1197 entries, 0 to 1196\n",
      "Data columns (total 5 columns):\n",
      " #   Column         Non-Null Count  Dtype         \n",
      "---  ------         --------------  -----         \n",
      " 0   transactionId  1197 non-null   int64         \n",
      " 1   visitorId      1197 non-null   int64         \n",
      " 2   date           1197 non-null   datetime64[ns]\n",
      " 3   revenue        1197 non-null   int64         \n",
      " 4   group          1197 non-null   object        \n",
      "dtypes: datetime64[ns](1), int64(3), object(1)\n",
      "memory usage: 46.9+ KB\n"
     ]
    }
   ],
   "source": [
    "orders.info()"
   ]
  },
  {
   "cell_type": "code",
   "execution_count": 22,
   "metadata": {},
   "outputs": [
    {
     "data": {
      "text/plain": [
       "0"
      ]
     },
     "execution_count": 22,
     "metadata": {},
     "output_type": "execute_result"
    }
   ],
   "source": [
    "orders.duplicated().sum()"
   ]
  },
  {
   "cell_type": "markdown",
   "metadata": {},
   "source": [
    "В таблице orders 5 столбцов и 1197 строк. Пропусков в данных нет. Дубликаты также отсутствуют. Столбец date содержит даты в формате object, который необходимо поменять на datetime."
   ]
  },
  {
   "cell_type": "code",
   "execution_count": 23,
   "metadata": {
    "id": "Cnb8RKEXCck-"
   },
   "outputs": [],
   "source": [
    "orders['date'] = pd.to_datetime(orders['date'], format='%Y-%m-%d')"
   ]
  },
  {
   "cell_type": "markdown",
   "metadata": {},
   "source": [
    "Проверим данные в столбцах transactionId, visitorId, revenue и date на наличие аномальных (например, отрицательных) значений. Для этого посмотрим минимальные и максимальные значения."
   ]
  },
  {
   "cell_type": "code",
   "execution_count": 24,
   "metadata": {
    "colab": {
     "base_uri": "https://localhost:8080/",
     "height": 112
    },
    "executionInfo": {
     "elapsed": 274,
     "status": "ok",
     "timestamp": 1663696671483,
     "user": {
      "displayName": "Anna Annushka",
      "userId": "03707459048323611332"
     },
     "user_tz": -180
    },
    "id": "ByedfqSDC8jh",
    "outputId": "ac822046-3468-4188-c0c6-12277f6d6dea"
   },
   "outputs": [
    {
     "data": {
      "text/html": [
       "<div>\n",
       "<style scoped>\n",
       "    .dataframe tbody tr th:only-of-type {\n",
       "        vertical-align: middle;\n",
       "    }\n",
       "\n",
       "    .dataframe tbody tr th {\n",
       "        vertical-align: top;\n",
       "    }\n",
       "\n",
       "    .dataframe thead th {\n",
       "        text-align: right;\n",
       "    }\n",
       "</style>\n",
       "<table border=\"1\" class=\"dataframe\">\n",
       "  <thead>\n",
       "    <tr style=\"text-align: right;\">\n",
       "      <th></th>\n",
       "      <th>transactionId</th>\n",
       "      <th>visitorId</th>\n",
       "      <th>revenue</th>\n",
       "      <th>date</th>\n",
       "    </tr>\n",
       "  </thead>\n",
       "  <tbody>\n",
       "    <tr>\n",
       "      <th>min</th>\n",
       "      <td>1062393</td>\n",
       "      <td>5114589</td>\n",
       "      <td>50</td>\n",
       "      <td>2019-08-01</td>\n",
       "    </tr>\n",
       "    <tr>\n",
       "      <th>max</th>\n",
       "      <td>4293855558</td>\n",
       "      <td>4283872382</td>\n",
       "      <td>1294500</td>\n",
       "      <td>2019-08-31</td>\n",
       "    </tr>\n",
       "  </tbody>\n",
       "</table>\n",
       "</div>"
      ],
      "text/plain": [
       "     transactionId   visitorId  revenue       date\n",
       "min        1062393     5114589       50 2019-08-01\n",
       "max     4293855558  4283872382  1294500 2019-08-31"
      ]
     },
     "execution_count": 24,
     "metadata": {},
     "output_type": "execute_result"
    }
   ],
   "source": [
    "orders[['transactionId', 'visitorId', 'revenue', 'date']].apply(['min', 'max'])"
   ]
  },
  {
   "cell_type": "code",
   "execution_count": 25,
   "metadata": {},
   "outputs": [
    {
     "data": {
      "image/png": "[encoded data removed]",
      "text/plain": [
       "<Figure size 432x288 with 1 Axes>"
      ]
     },
     "metadata": {},
     "output_type": "display_data"
    }
   ],
   "source": [
    "sns.histplot(orders.date, bins=31, color='Purple')\n",
    "plt.xlim(dt.datetime(2019, 8, 1), dt.datetime(2019, 8, 31))\n",
    "plt.xticks(rotation=45);"
   ]
  },
  {
   "cell_type": "markdown",
   "metadata": {},
   "source": [
    "Отрицательных или нулевых значений в столбцах нет. Данные собраны за все дни в период с 1 по 31 августа 2019 года.\n",
    "\n",
    "Проверим, чтобы у нас не было лишних значений, помимо названий групп A и В, в столбце group"
   ]
  },
  {
   "cell_type": "code",
   "execution_count": 26,
   "metadata": {
    "colab": {
     "base_uri": "https://localhost:8080/"
    },
    "executionInfo": {
     "elapsed": 273,
     "status": "ok",
     "timestamp": 1663707432436,
     "user": {
      "displayName": "Anna Annushka",
      "userId": "03707459048323611332"
     },
     "user_tz": -180
    },
    "id": "WyE2ZAyIsJSh",
    "outputId": "6d073abe-da34-4e2b-ec5e-609f36e4180e"
   },
   "outputs": [
    {
     "data": {
      "text/plain": [
       "B    640\n",
       "A    557\n",
       "Name: group, dtype: int64"
      ]
     },
     "execution_count": 26,
     "metadata": {},
     "output_type": "execute_result"
    }
   ],
   "source": [
    "orders['group'].value_counts()"
   ]
  },
  {
   "cell_type": "markdown",
   "metadata": {},
   "source": [
    "Проверим, нет ли у нас пользователей, попавших сразу в две группы"
   ]
  },
  {
   "cell_type": "code",
   "execution_count": 27,
   "metadata": {},
   "outputs": [
    {
     "data": {
      "text/plain": [
       "visitorId\n",
       "2654030115    2\n",
       "3891541246    2\n",
       "3941795274    2\n",
       "1404934699    2\n",
       "351125977     2\n",
       "             ..\n",
       "1476256851    1\n",
       "1476741193    1\n",
       "1484903144    1\n",
       "1485964287    1\n",
       "4283872382    1\n",
       "Name: group, Length: 1031, dtype: int64"
      ]
     },
     "execution_count": 27,
     "metadata": {},
     "output_type": "execute_result"
    }
   ],
   "source": [
    "(\n",
    "    orders.groupby('visitorId')['group']\n",
    "    .agg('nunique').sort_values(ascending=False)\n",
    ")"
   ]
  },
  {
   "cell_type": "code",
   "execution_count": 28,
   "metadata": {},
   "outputs": [
    {
     "data": {
      "text/plain": [
       "58"
      ]
     },
     "execution_count": 28,
     "metadata": {},
     "output_type": "execute_result"
    }
   ],
   "source": [
    "dubles = (\n",
    "    orders.groupby('visitorId')['group']\n",
    "    .agg('nunique').sort_values(ascending=False)\n",
    "    .to_frame('group_cnt').query('group_cnt > 1').index\n",
    ")\n",
    "len(dubles)"
   ]
  },
  {
   "cell_type": "markdown",
   "metadata": {},
   "source": [
    "58 покупателей попали в обе группы, что может повлиять на результаты теста. В обеих группах должны быть уникальные пользователи, поэтому исключим \"дублеров\" из дальнейшего исследования. "
   ]
  },
  {
   "cell_type": "code",
   "execution_count": 29,
   "metadata": {},
   "outputs": [],
   "source": [
    "orders = orders[~orders['visitorId'].isin(dubles)]"
   ]
  },
  {
   "cell_type": "markdown",
   "metadata": {},
   "source": [
    "Проведем предварительный анализ данных по датасету visitors"
   ]
  },
  {
   "cell_type": "code",
   "execution_count": 30,
   "metadata": {
    "colab": {
     "base_uri": "https://localhost:8080/",
     "height": 206
    },
    "executionInfo": {
     "elapsed": 282,
     "status": "ok",
     "timestamp": 1663707390476,
     "user": {
      "displayName": "Anna Annushka",
      "userId": "03707459048323611332"
     },
     "user_tz": -180
    },
    "id": "idfHGB4ZsAk4",
    "outputId": "9f449539-9d86-43f4-d534-ef8220699f05"
   },
   "outputs": [
    {
     "data": {
      "text/html": [
       "<div>\n",
       "<style scoped>\n",
       "    .dataframe tbody tr th:only-of-type {\n",
       "        vertical-align: middle;\n",
       "    }\n",
       "\n",
       "    .dataframe tbody tr th {\n",
       "        vertical-align: top;\n",
       "    }\n",
       "\n",
       "    .dataframe thead th {\n",
       "        text-align: right;\n",
       "    }\n",
       "</style>\n",
       "<table border=\"1\" class=\"dataframe\">\n",
       "  <thead>\n",
       "    <tr style=\"text-align: right;\">\n",
       "      <th></th>\n",
       "      <th>date</th>\n",
       "      <th>group</th>\n",
       "      <th>visitors</th>\n",
       "    </tr>\n",
       "  </thead>\n",
       "  <tbody>\n",
       "    <tr>\n",
       "      <th>0</th>\n",
       "      <td>2019-08-01</td>\n",
       "      <td>A</td>\n",
       "      <td>719</td>\n",
       "    </tr>\n",
       "    <tr>\n",
       "      <th>1</th>\n",
       "      <td>2019-08-02</td>\n",
       "      <td>A</td>\n",
       "      <td>619</td>\n",
       "    </tr>\n",
       "    <tr>\n",
       "      <th>2</th>\n",
       "      <td>2019-08-03</td>\n",
       "      <td>A</td>\n",
       "      <td>507</td>\n",
       "    </tr>\n",
       "    <tr>\n",
       "      <th>3</th>\n",
       "      <td>2019-08-04</td>\n",
       "      <td>A</td>\n",
       "      <td>717</td>\n",
       "    </tr>\n",
       "    <tr>\n",
       "      <th>4</th>\n",
       "      <td>2019-08-05</td>\n",
       "      <td>A</td>\n",
       "      <td>756</td>\n",
       "    </tr>\n",
       "  </tbody>\n",
       "</table>\n",
       "</div>"
      ],
      "text/plain": [
       "         date group  visitors\n",
       "0  2019-08-01     A       719\n",
       "1  2019-08-02     A       619\n",
       "2  2019-08-03     A       507\n",
       "3  2019-08-04     A       717\n",
       "4  2019-08-05     A       756"
      ]
     },
     "execution_count": 30,
     "metadata": {},
     "output_type": "execute_result"
    }
   ],
   "source": [
    "visitors.head()"
   ]
  },
  {
   "cell_type": "code",
   "execution_count": 31,
   "metadata": {
    "colab": {
     "base_uri": "https://localhost:8080/"
    },
    "executionInfo": {
     "elapsed": 324,
     "status": "ok",
     "timestamp": 1663707541883,
     "user": {
      "displayName": "Anna Annushka",
      "userId": "03707459048323611332"
     },
     "user_tz": -180
    },
    "id": "sIFQg6RisDaf",
    "outputId": "ce4c5e58-9a3d-48c1-daef-824689066f29"
   },
   "outputs": [
    {
     "name": "stdout",
     "output_type": "stream",
     "text": [
      "<class 'pandas.core.frame.DataFrame'>\n",
      "RangeIndex: 62 entries, 0 to 61\n",
      "Data columns (total 3 columns):\n",
      " #   Column    Non-Null Count  Dtype \n",
      "---  ------    --------------  ----- \n",
      " 0   date      62 non-null     object\n",
      " 1   group     62 non-null     object\n",
      " 2   visitors  62 non-null     int64 \n",
      "dtypes: int64(1), object(2)\n",
      "memory usage: 1.6+ KB\n"
     ]
    }
   ],
   "source": [
    "visitors.info()"
   ]
  },
  {
   "cell_type": "code",
   "execution_count": 32,
   "metadata": {},
   "outputs": [
    {
     "data": {
      "text/plain": [
       "0"
      ]
     },
     "execution_count": 32,
     "metadata": {},
     "output_type": "execute_result"
    }
   ],
   "source": [
    "visitors.duplicated().sum()"
   ]
  },
  {
   "cell_type": "code",
   "execution_count": 33,
   "metadata": {
    "colab": {
     "base_uri": "https://localhost:8080/"
    },
    "executionInfo": {
     "elapsed": 290,
     "status": "ok",
     "timestamp": 1663707496096,
     "user": {
      "displayName": "Anna Annushka",
      "userId": "03707459048323611332"
     },
     "user_tz": -180
    },
    "id": "fENeUa8psRnp",
    "outputId": "6edd4b6d-81a5-4c35-f2de-b3679c8445dc"
   },
   "outputs": [
    {
     "data": {
      "text/plain": [
       "min    361\n",
       "max    770\n",
       "Name: visitors, dtype: int64"
      ]
     },
     "execution_count": 33,
     "metadata": {},
     "output_type": "execute_result"
    }
   ],
   "source": [
    "visitors['visitors'].apply(['min', 'max'])"
   ]
  },
  {
   "cell_type": "code",
   "execution_count": 34,
   "metadata": {
    "colab": {
     "base_uri": "https://localhost:8080/"
    },
    "executionInfo": {
     "elapsed": 284,
     "status": "ok",
     "timestamp": 1663707516030,
     "user": {
      "displayName": "Anna Annushka",
      "userId": "03707459048323611332"
     },
     "user_tz": -180
    },
    "id": "pjyeDmeWsdgk",
    "outputId": "2fedcbbc-bf70-4bc1-90b3-6132b62cac3e"
   },
   "outputs": [
    {
     "data": {
      "text/plain": [
       "A    31\n",
       "B    31\n",
       "Name: group, dtype: int64"
      ]
     },
     "execution_count": 34,
     "metadata": {},
     "output_type": "execute_result"
    }
   ],
   "source": [
    "visitors.group.value_counts()"
   ]
  },
  {
   "cell_type": "markdown",
   "metadata": {},
   "source": [
    "В таблице visitors у нас 3 столбца и 62 строки. Пропуски и дубликаты отсутствуют. Аномальных значений в столбце с количеством посетителей (visitors) не просматривается. Данные равномерно распределены по группам А и В (по одной записи для каждого дня с 01.08.2019 по 31.08.2019). Формат даты в столбце date необходимо поменять на datetime."
   ]
  },
  {
   "cell_type": "code",
   "execution_count": 35,
   "metadata": {
    "executionInfo": {
     "elapsed": 313,
     "status": "ok",
     "timestamp": 1663707537576,
     "user": {
      "displayName": "Anna Annushka",
      "userId": "03707459048323611332"
     },
     "user_tz": -180
    },
    "id": "LJRTvVCqr_BO"
   },
   "outputs": [],
   "source": [
    "visitors['date'] = pd.to_datetime(visitors['date'], format='%Y-%m-%d')"
   ]
  },
  {
   "cell_type": "markdown",
   "metadata": {},
   "source": [
    "## **2.2. Анализ результатов А/В теста**"
   ]
  },
  {
   "cell_type": "markdown",
   "metadata": {
    "id": "B0F0OxYDbx2z"
   },
   "source": [
    "### **2.2.1. Построим график кумулятивной выручки по группам**"
   ]
  },
  {
   "cell_type": "code",
   "execution_count": 36,
   "metadata": {
    "executionInfo": {
     "elapsed": 301,
     "status": "ok",
     "timestamp": 1663707006099,
     "user": {
      "displayName": "Anna Annushka",
      "userId": "03707459048323611332"
     },
     "user_tz": -180
    },
    "id": "ynI1FKmHI8D3"
   },
   "outputs": [],
   "source": [
    "# Сгруппируем данные по датам и распределим показатели в группах А и В по разным столбцам\n",
    "orders_grouped = (\n",
    "  orders.pivot_table(index='date', columns='group', \\\n",
    "                     values=['transactionId', 'visitorId', 'revenue'], \\\n",
    "                     aggfunc={'transactionId':'nunique', 'visitorId':'nunique', 'revenue':'sum'})\n",
    "  .reset_index()\n",
    ")\n",
    "orders_grouped.columns = ['date', 'revenue_a', 'revenue_b', 'transactions_a', 'transactions_b', 'buyers_a', 'buyers_b']"
   ]
  },
  {
   "cell_type": "code",
   "execution_count": 37,
   "metadata": {
    "colab": {
     "base_uri": "https://localhost:8080/",
     "height": 206
    },
    "executionInfo": {
     "elapsed": 286,
     "status": "ok",
     "timestamp": 1663707008152,
     "user": {
      "displayName": "Anna Annushka",
      "userId": "03707459048323611332"
     },
     "user_tz": -180
    },
    "id": "AZWmkKoeKlRc",
    "outputId": "c8c84ccc-f8d3-4da8-ef20-8bdf2351ce76"
   },
   "outputs": [
    {
     "data": {
      "text/html": [
       "<div>\n",
       "<style scoped>\n",
       "    .dataframe tbody tr th:only-of-type {\n",
       "        vertical-align: middle;\n",
       "    }\n",
       "\n",
       "    .dataframe tbody tr th {\n",
       "        vertical-align: top;\n",
       "    }\n",
       "\n",
       "    .dataframe thead th {\n",
       "        text-align: right;\n",
       "    }\n",
       "</style>\n",
       "<table border=\"1\" class=\"dataframe\">\n",
       "  <thead>\n",
       "    <tr style=\"text-align: right;\">\n",
       "      <th></th>\n",
       "      <th>date</th>\n",
       "      <th>revenue_a</th>\n",
       "      <th>revenue_b</th>\n",
       "      <th>transactions_a</th>\n",
       "      <th>transactions_b</th>\n",
       "      <th>buyers_a</th>\n",
       "      <th>buyers_b</th>\n",
       "    </tr>\n",
       "  </thead>\n",
       "  <tbody>\n",
       "    <tr>\n",
       "      <th>0</th>\n",
       "      <td>2019-08-01</td>\n",
       "      <td>142779</td>\n",
       "      <td>59758</td>\n",
       "      <td>23</td>\n",
       "      <td>17</td>\n",
       "      <td>19</td>\n",
       "      <td>17</td>\n",
       "    </tr>\n",
       "    <tr>\n",
       "      <th>1</th>\n",
       "      <td>2019-08-02</td>\n",
       "      <td>91602</td>\n",
       "      <td>162043</td>\n",
       "      <td>19</td>\n",
       "      <td>23</td>\n",
       "      <td>18</td>\n",
       "      <td>22</td>\n",
       "    </tr>\n",
       "    <tr>\n",
       "      <th>2</th>\n",
       "      <td>2019-08-03</td>\n",
       "      <td>112473</td>\n",
       "      <td>67049</td>\n",
       "      <td>24</td>\n",
       "      <td>14</td>\n",
       "      <td>24</td>\n",
       "      <td>14</td>\n",
       "    </tr>\n",
       "    <tr>\n",
       "      <th>3</th>\n",
       "      <td>2019-08-04</td>\n",
       "      <td>41176</td>\n",
       "      <td>96890</td>\n",
       "      <td>11</td>\n",
       "      <td>14</td>\n",
       "      <td>11</td>\n",
       "      <td>13</td>\n",
       "    </tr>\n",
       "    <tr>\n",
       "      <th>4</th>\n",
       "      <td>2019-08-05</td>\n",
       "      <td>86383</td>\n",
       "      <td>89908</td>\n",
       "      <td>22</td>\n",
       "      <td>21</td>\n",
       "      <td>22</td>\n",
       "      <td>21</td>\n",
       "    </tr>\n",
       "  </tbody>\n",
       "</table>\n",
       "</div>"
      ],
      "text/plain": [
       "        date  revenue_a  revenue_b  transactions_a  transactions_b  buyers_a  \\\n",
       "0 2019-08-01     142779      59758              23              17        19   \n",
       "1 2019-08-02      91602     162043              19              23        18   \n",
       "2 2019-08-03     112473      67049              24              14        24   \n",
       "3 2019-08-04      41176      96890              11              14        11   \n",
       "4 2019-08-05      86383      89908              22              21        22   \n",
       "\n",
       "   buyers_b  \n",
       "0        17  \n",
       "1        22  \n",
       "2        14  \n",
       "3        13  \n",
       "4        21  "
      ]
     },
     "execution_count": 37,
     "metadata": {},
     "output_type": "execute_result"
    }
   ],
   "source": [
    "orders_grouped.head()"
   ]
  },
  {
   "cell_type": "code",
   "execution_count": 38,
   "metadata": {
    "executionInfo": {
     "elapsed": 296,
     "status": "ok",
     "timestamp": 1663708196045,
     "user": {
      "displayName": "Anna Annushka",
      "userId": "03707459048323611332"
     },
     "user_tz": -180
    },
    "id": "RC4ZcJfMHIca"
   },
   "outputs": [],
   "source": [
    "# Создадим переменную с датами , на основе которой соберем кумулятивные данные из отчета\n",
    "dates = pd.DataFrame({'date':pd.date_range('2019-08-01', '2019-08-31')})"
   ]
  },
  {
   "cell_type": "code",
   "execution_count": 39,
   "metadata": {
    "executionInfo": {
     "elapsed": 297,
     "status": "ok",
     "timestamp": 1663708231190,
     "user": {
      "displayName": "Anna Annushka",
      "userId": "03707459048323611332"
     },
     "user_tz": -180
    },
    "id": "o-nCRq0hp4gi"
   },
   "outputs": [],
   "source": [
    "# Создадим датафрейм df, в котором будут содержаться кумулятивная сумма доходов, заказов и числа покупателей на каждую дату проведения теста\n",
    "df = (\n",
    "    dates.apply(lambda x: orders_grouped[orders_grouped['date'] <= x['date']]\n",
    "             .agg({'date' : 'max', 'revenue_a' : 'sum', 'revenue_b' : 'sum' , \\\n",
    "                   'transactions_a' : 'sum', 'transactions_b' : 'sum', \\\n",
    "                   'buyers_a' : 'sum', 'buyers_b' : 'sum'}), axis=1)\n",
    ")"
   ]
  },
  {
   "cell_type": "code",
   "execution_count": 40,
   "metadata": {
    "colab": {
     "base_uri": "https://localhost:8080/",
     "height": 206
    },
    "executionInfo": {
     "elapsed": 288,
     "status": "ok",
     "timestamp": 1663708233450,
     "user": {
      "displayName": "Anna Annushka",
      "userId": "03707459048323611332"
     },
     "user_tz": -180
    },
    "id": "ZaQlXqjAp99b",
    "outputId": "0fbcc7fd-8257-4ab3-f3cd-645f5cead97f"
   },
   "outputs": [
    {
     "data": {
      "text/html": [
       "<div>\n",
       "<style scoped>\n",
       "    .dataframe tbody tr th:only-of-type {\n",
       "        vertical-align: middle;\n",
       "    }\n",
       "\n",
       "    .dataframe tbody tr th {\n",
       "        vertical-align: top;\n",
       "    }\n",
       "\n",
       "    .dataframe thead th {\n",
       "        text-align: right;\n",
       "    }\n",
       "</style>\n",
       "<table border=\"1\" class=\"dataframe\">\n",
       "  <thead>\n",
       "    <tr style=\"text-align: right;\">\n",
       "      <th></th>\n",
       "      <th>date</th>\n",
       "      <th>revenue_a</th>\n",
       "      <th>revenue_b</th>\n",
       "      <th>transactions_a</th>\n",
       "      <th>transactions_b</th>\n",
       "      <th>buyers_a</th>\n",
       "      <th>buyers_b</th>\n",
       "    </tr>\n",
       "  </thead>\n",
       "  <tbody>\n",
       "    <tr>\n",
       "      <th>0</th>\n",
       "      <td>2019-08-01</td>\n",
       "      <td>142779</td>\n",
       "      <td>59758</td>\n",
       "      <td>23</td>\n",
       "      <td>17</td>\n",
       "      <td>19</td>\n",
       "      <td>17</td>\n",
       "    </tr>\n",
       "    <tr>\n",
       "      <th>1</th>\n",
       "      <td>2019-08-02</td>\n",
       "      <td>234381</td>\n",
       "      <td>221801</td>\n",
       "      <td>42</td>\n",
       "      <td>40</td>\n",
       "      <td>37</td>\n",
       "      <td>39</td>\n",
       "    </tr>\n",
       "    <tr>\n",
       "      <th>2</th>\n",
       "      <td>2019-08-03</td>\n",
       "      <td>346854</td>\n",
       "      <td>288850</td>\n",
       "      <td>66</td>\n",
       "      <td>54</td>\n",
       "      <td>61</td>\n",
       "      <td>53</td>\n",
       "    </tr>\n",
       "    <tr>\n",
       "      <th>3</th>\n",
       "      <td>2019-08-04</td>\n",
       "      <td>388030</td>\n",
       "      <td>385740</td>\n",
       "      <td>77</td>\n",
       "      <td>68</td>\n",
       "      <td>72</td>\n",
       "      <td>66</td>\n",
       "    </tr>\n",
       "    <tr>\n",
       "      <th>4</th>\n",
       "      <td>2019-08-05</td>\n",
       "      <td>474413</td>\n",
       "      <td>475648</td>\n",
       "      <td>99</td>\n",
       "      <td>89</td>\n",
       "      <td>94</td>\n",
       "      <td>87</td>\n",
       "    </tr>\n",
       "  </tbody>\n",
       "</table>\n",
       "</div>"
      ],
      "text/plain": [
       "        date  revenue_a  revenue_b  transactions_a  transactions_b  buyers_a  \\\n",
       "0 2019-08-01     142779      59758              23              17        19   \n",
       "1 2019-08-02     234381     221801              42              40        37   \n",
       "2 2019-08-03     346854     288850              66              54        61   \n",
       "3 2019-08-04     388030     385740              77              68        72   \n",
       "4 2019-08-05     474413     475648              99              89        94   \n",
       "\n",
       "   buyers_b  \n",
       "0        17  \n",
       "1        39  \n",
       "2        53  \n",
       "3        66  \n",
       "4        87  "
      ]
     },
     "execution_count": 40,
     "metadata": {},
     "output_type": "execute_result"
    }
   ],
   "source": [
    "df.head()"
   ]
  },
  {
   "cell_type": "code",
   "execution_count": 41,
   "metadata": {
    "executionInfo": {
     "elapsed": 636,
     "status": "ok",
     "timestamp": 1663707574882,
     "user": {
      "displayName": "Anna Annushka",
      "userId": "03707459048323611332"
     },
     "user_tz": -180
    },
    "id": "c2GeTwVsq7jQ"
   },
   "outputs": [],
   "source": [
    "# Сгруппируем данные по датам и разнесем по разным столбцам данные по группам А и В для датасета visitors\n",
    "visitors_grouped = (\n",
    "  visitors.pivot_table(index='date', columns='group', \\\n",
    "                     values='visitors', aggfunc='sum')\n",
    "  .reset_index()\n",
    ")\n",
    "visitors_grouped.columns = ['date', 'visitors_a', 'visitors_b']"
   ]
  },
  {
   "cell_type": "code",
   "execution_count": 42,
   "metadata": {
    "executionInfo": {
     "elapsed": 285,
     "status": "ok",
     "timestamp": 1663708391040,
     "user": {
      "displayName": "Anna Annushka",
      "userId": "03707459048323611332"
     },
     "user_tz": -180
    },
    "id": "F-DS0nY3viBx"
   },
   "outputs": [],
   "source": [
    "# Подсчитаем кумулятивную сумму посетителей для каждой даты\n",
    "visitors_grouped_cum = (\n",
    "    dates.apply(lambda x: visitors_grouped[visitors_grouped['date'] <= x['date']]\n",
    "             .agg({'date' : 'max', 'visitors_a' : 'sum', 'visitors_b' : 'sum'}), \\\n",
    "             axis=1)\n",
    ")"
   ]
  },
  {
   "cell_type": "code",
   "execution_count": 43,
   "metadata": {
    "colab": {
     "base_uri": "https://localhost:8080/",
     "height": 206
    },
    "executionInfo": {
     "elapsed": 11,
     "status": "ok",
     "timestamp": 1663708403548,
     "user": {
      "displayName": "Anna Annushka",
      "userId": "03707459048323611332"
     },
     "user_tz": -180
    },
    "id": "lePBXFVOv34x",
    "outputId": "984b177e-6bfa-47b8-8b9f-31b8957bb2f4"
   },
   "outputs": [
    {
     "data": {
      "text/html": [
       "<div>\n",
       "<style scoped>\n",
       "    .dataframe tbody tr th:only-of-type {\n",
       "        vertical-align: middle;\n",
       "    }\n",
       "\n",
       "    .dataframe tbody tr th {\n",
       "        vertical-align: top;\n",
       "    }\n",
       "\n",
       "    .dataframe thead th {\n",
       "        text-align: right;\n",
       "    }\n",
       "</style>\n",
       "<table border=\"1\" class=\"dataframe\">\n",
       "  <thead>\n",
       "    <tr style=\"text-align: right;\">\n",
       "      <th></th>\n",
       "      <th>date</th>\n",
       "      <th>visitors_a</th>\n",
       "      <th>visitors_b</th>\n",
       "    </tr>\n",
       "  </thead>\n",
       "  <tbody>\n",
       "    <tr>\n",
       "      <th>0</th>\n",
       "      <td>2019-08-01</td>\n",
       "      <td>719</td>\n",
       "      <td>713</td>\n",
       "    </tr>\n",
       "    <tr>\n",
       "      <th>1</th>\n",
       "      <td>2019-08-02</td>\n",
       "      <td>1338</td>\n",
       "      <td>1294</td>\n",
       "    </tr>\n",
       "    <tr>\n",
       "      <th>2</th>\n",
       "      <td>2019-08-03</td>\n",
       "      <td>1845</td>\n",
       "      <td>1803</td>\n",
       "    </tr>\n",
       "    <tr>\n",
       "      <th>3</th>\n",
       "      <td>2019-08-04</td>\n",
       "      <td>2562</td>\n",
       "      <td>2573</td>\n",
       "    </tr>\n",
       "    <tr>\n",
       "      <th>4</th>\n",
       "      <td>2019-08-05</td>\n",
       "      <td>3318</td>\n",
       "      <td>3280</td>\n",
       "    </tr>\n",
       "  </tbody>\n",
       "</table>\n",
       "</div>"
      ],
      "text/plain": [
       "        date  visitors_a  visitors_b\n",
       "0 2019-08-01         719         713\n",
       "1 2019-08-02        1338        1294\n",
       "2 2019-08-03        1845        1803\n",
       "3 2019-08-04        2562        2573\n",
       "4 2019-08-05        3318        3280"
      ]
     },
     "execution_count": 43,
     "metadata": {},
     "output_type": "execute_result"
    }
   ],
   "source": [
    "visitors_grouped_cum.head()"
   ]
  },
  {
   "cell_type": "code",
   "execution_count": 44,
   "metadata": {
    "executionInfo": {
     "elapsed": 397,
     "status": "ok",
     "timestamp": 1663708480577,
     "user": {
      "displayName": "Anna Annushka",
      "userId": "03707459048323611332"
     },
     "user_tz": -180
    },
    "id": "MT34j1Uxrek3"
   },
   "outputs": [],
   "source": [
    "# Объединим данные из таблиц orders и visitors в один датафрейм\n",
    "df = df.merge(visitors_grouped_cum, how='left', on='date')"
   ]
  },
  {
   "cell_type": "code",
   "execution_count": 45,
   "metadata": {
    "colab": {
     "base_uri": "https://localhost:8080/",
     "height": 206
    },
    "executionInfo": {
     "elapsed": 288,
     "status": "ok",
     "timestamp": 1663708482318,
     "user": {
      "displayName": "Anna Annushka",
      "userId": "03707459048323611332"
     },
     "user_tz": -180
    },
    "id": "NQNliETHs7Eu",
    "outputId": "bc7fd591-7028-4ea2-9f09-f5538387e41c"
   },
   "outputs": [
    {
     "data": {
      "text/html": [
       "<div>\n",
       "<style scoped>\n",
       "    .dataframe tbody tr th:only-of-type {\n",
       "        vertical-align: middle;\n",
       "    }\n",
       "\n",
       "    .dataframe tbody tr th {\n",
       "        vertical-align: top;\n",
       "    }\n",
       "\n",
       "    .dataframe thead th {\n",
       "        text-align: right;\n",
       "    }\n",
       "</style>\n",
       "<table border=\"1\" class=\"dataframe\">\n",
       "  <thead>\n",
       "    <tr style=\"text-align: right;\">\n",
       "      <th></th>\n",
       "      <th>date</th>\n",
       "      <th>revenue_a</th>\n",
       "      <th>revenue_b</th>\n",
       "      <th>transactions_a</th>\n",
       "      <th>transactions_b</th>\n",
       "      <th>buyers_a</th>\n",
       "      <th>buyers_b</th>\n",
       "      <th>visitors_a</th>\n",
       "      <th>visitors_b</th>\n",
       "    </tr>\n",
       "  </thead>\n",
       "  <tbody>\n",
       "    <tr>\n",
       "      <th>0</th>\n",
       "      <td>2019-08-01</td>\n",
       "      <td>142779</td>\n",
       "      <td>59758</td>\n",
       "      <td>23</td>\n",
       "      <td>17</td>\n",
       "      <td>19</td>\n",
       "      <td>17</td>\n",
       "      <td>719</td>\n",
       "      <td>713</td>\n",
       "    </tr>\n",
       "    <tr>\n",
       "      <th>1</th>\n",
       "      <td>2019-08-02</td>\n",
       "      <td>234381</td>\n",
       "      <td>221801</td>\n",
       "      <td>42</td>\n",
       "      <td>40</td>\n",
       "      <td>37</td>\n",
       "      <td>39</td>\n",
       "      <td>1338</td>\n",
       "      <td>1294</td>\n",
       "    </tr>\n",
       "    <tr>\n",
       "      <th>2</th>\n",
       "      <td>2019-08-03</td>\n",
       "      <td>346854</td>\n",
       "      <td>288850</td>\n",
       "      <td>66</td>\n",
       "      <td>54</td>\n",
       "      <td>61</td>\n",
       "      <td>53</td>\n",
       "      <td>1845</td>\n",
       "      <td>1803</td>\n",
       "    </tr>\n",
       "    <tr>\n",
       "      <th>3</th>\n",
       "      <td>2019-08-04</td>\n",
       "      <td>388030</td>\n",
       "      <td>385740</td>\n",
       "      <td>77</td>\n",
       "      <td>68</td>\n",
       "      <td>72</td>\n",
       "      <td>66</td>\n",
       "      <td>2562</td>\n",
       "      <td>2573</td>\n",
       "    </tr>\n",
       "    <tr>\n",
       "      <th>4</th>\n",
       "      <td>2019-08-05</td>\n",
       "      <td>474413</td>\n",
       "      <td>475648</td>\n",
       "      <td>99</td>\n",
       "      <td>89</td>\n",
       "      <td>94</td>\n",
       "      <td>87</td>\n",
       "      <td>3318</td>\n",
       "      <td>3280</td>\n",
       "    </tr>\n",
       "  </tbody>\n",
       "</table>\n",
       "</div>"
      ],
      "text/plain": [
       "        date  revenue_a  revenue_b  transactions_a  transactions_b  buyers_a  \\\n",
       "0 2019-08-01     142779      59758              23              17        19   \n",
       "1 2019-08-02     234381     221801              42              40        37   \n",
       "2 2019-08-03     346854     288850              66              54        61   \n",
       "3 2019-08-04     388030     385740              77              68        72   \n",
       "4 2019-08-05     474413     475648              99              89        94   \n",
       "\n",
       "   buyers_b  visitors_a  visitors_b  \n",
       "0        17         719         713  \n",
       "1        39        1338        1294  \n",
       "2        53        1845        1803  \n",
       "3        66        2562        2573  \n",
       "4        87        3318        3280  "
      ]
     },
     "execution_count": 45,
     "metadata": {},
     "output_type": "execute_result"
    }
   ],
   "source": [
    "df.head()"
   ]
  },
  {
   "cell_type": "markdown",
   "metadata": {},
   "source": [
    "Построим график кумулятивной выручки по группам"
   ]
  },
  {
   "cell_type": "code",
   "execution_count": 46,
   "metadata": {
    "colab": {
     "base_uri": "https://localhost:8080/",
     "height": 435
    },
    "executionInfo": {
     "elapsed": 951,
     "status": "ok",
     "timestamp": 1663707652954,
     "user": {
      "displayName": "Anna Annushka",
      "userId": "03707459048323611332"
     },
     "user_tz": -180
    },
    "id": "ug52bsnfO7so",
    "outputId": "d9fdefef-beb7-4b2c-b0a9-d248ab37afc9"
   },
   "outputs": [
    {
     "data": {
      "image/png": "[encoded data removed]",
      "text/plain": [
       "<Figure size 720x432 with 1 Axes>"
      ]
     },
     "metadata": {},
     "output_type": "display_data"
    }
   ],
   "source": [
    "fig, ax = plt.subplots(figsize=(10,6))\n",
    "plt.plot(df['date'], df['revenue_a'], label='A')\n",
    "plt.plot(df['date'], df['revenue_b'], label='B')\n",
    "\n",
    "plt.legend() \n",
    "plt.title(\"Кумулятивная выручка по группам\")\n",
    "plt.ticklabel_format(style='plain', axis='y')\n",
    "plt.xlabel('дата')\n",
    "plt.ylabel('выручка, руб.')\n",
    "plt.xlim(dt.datetime(2019, 8, 1), dt.datetime(2019, 8, 31))\n",
    "plt.xticks(rotation=45);"
   ]
  },
  {
   "cell_type": "markdown",
   "metadata": {
    "id": "XUKSLPyISCFd"
   },
   "source": [
    "Выручка в группе A равномерно увеличивается в течение всего теста. В группе B наблюдается резкий всплеск кумулятивной выручки в середине теста, после чего рост опять стабилизируется и идет практически параллельно с группой A. Резкий всплеск показателей в группе В может сигнализировать либо об увеличении числа заказов, либо о появлении очень дорогих заказов в выборке. Это стоит проанализировать позже.\n"
   ]
  },
  {
   "cell_type": "markdown",
   "metadata": {
    "id": "9BKmE8-pzg5E"
   },
   "source": [
    "### **2.2.2. Построим график кумулятивного среднего чека по группам**"
   ]
  },
  {
   "cell_type": "code",
   "execution_count": 47,
   "metadata": {
    "colab": {
     "base_uri": "https://localhost:8080/",
     "height": 435
    },
    "executionInfo": {
     "elapsed": 868,
     "status": "ok",
     "timestamp": 1663707704688,
     "user": {
      "displayName": "Anna Annushka",
      "userId": "03707459048323611332"
     },
     "user_tz": -180
    },
    "id": "oTYn1ijfS2-t",
    "outputId": "6c4eaa0d-191b-4fe6-878e-fdb2b2f18f5b"
   },
   "outputs": [
    {
     "data": {
      "image/png": "[encoded data removed]",
      "text/plain": [
       "<Figure size 720x432 with 1 Axes>"
      ]
     },
     "metadata": {},
     "output_type": "display_data"
    }
   ],
   "source": [
    "fig, ax = plt.subplots(figsize=(10,6))\n",
    "plt.plot(df['date'], df['revenue_a']/df['transactions_a'], label='A')\n",
    "plt.plot(df['date'], df['revenue_b']/df['transactions_b'], label='B')\n",
    "plt.legend() \n",
    "plt.title(\"Средний чек по группам\")\n",
    "plt.ticklabel_format(style='plain', axis='y')\n",
    "plt.xlabel('дата')\n",
    "plt.ylabel('сумма среднего чека, руб.')\n",
    "plt.xlim(dt.datetime(2019, 8, 1), dt.datetime(2019, 8, 31))\n",
    "plt.xticks(rotation=45);"
   ]
  },
  {
   "cell_type": "markdown",
   "metadata": {
    "id": "diOPqGn5Vvoy"
   },
   "source": [
    "Средний чек в обеих группах растет, но крайне неравномерно. В группе А он подвержен сильным колебаниям в первой половине теста и становится равномерным во второй половине. В группе B также наблюдаются колебания в первой половине теста, а в середине теста наблюдается резкий рост, что судя по всему, связано с каким-то большим заказом. Данный скачок коррелирует с ростом кумулятивной выручки в группе В, который мы наблюдали на предыдущем графике. После этого всплеска показатели в группе В несколько снижаются, однако остаются стабильно выше, чем в группе А."
   ]
  },
  {
   "cell_type": "markdown",
   "metadata": {
    "id": "cPFAFYh5z2K3"
   },
   "source": [
    "### **2.2.3. Построим график относительного изменения кумулятивного среднего чека группы B к группе A**"
   ]
  },
  {
   "cell_type": "code",
   "execution_count": 60,
   "metadata": {
    "colab": {
     "base_uri": "https://localhost:8080/",
     "height": 435
    },
    "executionInfo": {
     "elapsed": 788,
     "status": "ok",
     "timestamp": 1663707746473,
     "user": {
      "displayName": "Anna Annushka",
      "userId": "03707459048323611332"
     },
     "user_tz": -180
    },
    "id": "CR92Co1FWwly",
    "outputId": "ee704eb5-d997-470c-d8d4-a1b8e659d0db"
   },
   "outputs": [
    {
     "data": {
      "image/png": "[encoded data removed]",
      "text/plain": [
       "<Figure size 720x432 with 1 Axes>"
      ]
     },
     "metadata": {},
     "output_type": "display_data"
    }
   ],
   "source": [
    "fig, ax = plt.subplots(figsize=(10,6))\n",
    "plt.plot(df['date'], (df['revenue_b']/df['transactions_b'])/(df['revenue_a']/df['transactions_a'])-1)\n",
    "\n",
    "plt.axhline(y=0, color='black', linestyle='--') \n",
    "plt.title(\"Относительное различие среднего чека в группах\")\n",
    "plt.xlabel('дата')\n",
    "plt.ylabel('относительное различие')\n",
    "plt.xlim(dt.datetime(2019, 8, 1), dt.datetime(2019, 8, 31))\n",
    "plt.ylim(-0.6, 0.6)\n",
    "plt.xticks(rotation=45);"
   ]
  },
  {
   "cell_type": "markdown",
   "metadata": {
    "id": "gsP_tUNGYQQ-"
   },
   "source": [
    "График различий «скачет» на протяжении всего теста. Мы опять-таки видим, как в середине теста группа В резко вырывается вперед (предположительно на фоне какого-либо единичного крупного заказа, что необходимо будет проверить позднее), но затем снова снижается. Тем не менее, к концу проведения испытаний группа В сохраняет более чем 20-процентный перевес над группой А. "
   ]
  },
  {
   "cell_type": "markdown",
   "metadata": {
    "id": "f12wnOgo0IRP"
   },
   "source": [
    "### **2.2.4. Построим график кумулятивной конверсии по группам**"
   ]
  },
  {
   "cell_type": "code",
   "execution_count": 48,
   "metadata": {
    "colab": {
     "base_uri": "https://localhost:8080/",
     "height": 435
    },
    "executionInfo": {
     "elapsed": 882,
     "status": "ok",
     "timestamp": 1663708529984,
     "user": {
      "displayName": "Anna Annushka",
      "userId": "03707459048323611332"
     },
     "user_tz": -180
    },
    "id": "PsJ_VHW4ZiCP",
    "outputId": "4254901c-543a-45e6-ba66-0bac91b6f4bb"
   },
   "outputs": [
    {
     "data": {
      "image/png": "[encoded data removed]",
      "text/plain": [
       "<Figure size 720x432 with 1 Axes>"
      ]
     },
     "metadata": {},
     "output_type": "display_data"
    }
   ],
   "source": [
    "fig, ax = plt.subplots(figsize=(10,6))\n",
    "plt.plot(df['date'], df['buyers_a']/df['visitors_a'], label='A')\n",
    "plt.plot(df['date'], df['buyers_b']/df['visitors_b'], label='B')\n",
    "plt.legend()\n",
    "plt.title(\"Кумулятивная конверсия по группам\")\n",
    "plt.xlabel('дата')\n",
    "plt.ylabel('конверсия')\n",
    "plt.xlim(dt.datetime(2019, 8, 1), dt.datetime(2019, 8, 31))\n",
    "plt.ylim(0.0, 0.05) \n",
    "plt.xticks(rotation=45);"
   ]
  },
  {
   "cell_type": "markdown",
   "metadata": {},
   "source": [
    "По показателям кумулятивной конверсии группа В также опережает группу А, причем это преимущество наблюдается практически на протяжении всего теста, не считая колебаний в самом начале. Сама по себе разница в показателях между группами небольшая, однако стабильность показателей может говорить о наличии ощутимого преимущества группа В."
   ]
  },
  {
   "cell_type": "markdown",
   "metadata": {
    "id": "Mg-yNKiK0Zf7"
   },
   "source": [
    "### **2.2.5. Построим график относительного изменения кумулятивной конверсии группы B к группе A**"
   ]
  },
  {
   "cell_type": "code",
   "execution_count": 49,
   "metadata": {
    "colab": {
     "base_uri": "https://localhost:8080/",
     "height": 453
    },
    "executionInfo": {
     "elapsed": 848,
     "status": "ok",
     "timestamp": 1663709213474,
     "user": {
      "displayName": "Anna Annushka",
      "userId": "03707459048323611332"
     },
     "user_tz": -180
    },
    "id": "dS7wWoYTuFIA",
    "outputId": "fb7b53ee-d27e-46de-8616-b8a77f89eb52"
   },
   "outputs": [
    {
     "data": {
      "image/png": "[encoded data removed]",
      "text/plain": [
       "<Figure size 720x432 with 1 Axes>"
      ]
     },
     "metadata": {},
     "output_type": "display_data"
    }
   ],
   "source": [
    "fig, ax = plt.subplots(figsize=(10,6))\n",
    "plt.plot(df['date'], (df['buyers_b']/df['visitors_b'])/(df['buyers_a']/df['visitors_a'])-1)\n",
    "# plt.legend()\n",
    "plt.title(\"Прирост конверсии группы B относительно группы A\")\n",
    "plt.axhline(y=0, color='black', linestyle='--')\n",
    "plt.axhline(y=0.13, color='grey', linestyle='--')\n",
    "plt.xlabel('дата')\n",
    "plt.ylabel('относительное различие в конверсии')\n",
    "plt.axis([dt.datetime(2019, 8, 1), dt.datetime(2019, 8, 31), -0.2, 0.4])\n",
    "plt.xticks(rotation=45);"
   ]
  },
  {
   "cell_type": "markdown",
   "metadata": {},
   "source": [
    "По графику видно, что относительное превышение прироста кумулятивной конверсии в группе В над показателями группы А на протяжении большей части тестового периода составляет 13% и более и, несмотря на понижательный тренд во второй половине испытаний, к концу теста снова идет в рост, что указывает на лучшие показатели в группе В по сравнению с контрольной группой."
   ]
  },
  {
   "cell_type": "markdown",
   "metadata": {
    "id": "T_WcVjJN0iso"
   },
   "source": [
    "### **2.2.6. Построим точечный график стоимости заказов по пользователям**"
   ]
  },
  {
   "cell_type": "code",
   "execution_count": 50,
   "metadata": {},
   "outputs": [
    {
     "data": {
      "image/png": "[encoded data removed]",
      "text/plain": [
       "<Figure size 1152x360 with 2 Axes>"
      ]
     },
     "metadata": {},
     "output_type": "display_data"
    }
   ],
   "source": [
    "fig, ax = plt.subplots(1,2, figsize=(16,5))\n",
    "sns.scatterplot(x=orders.index, y=orders['revenue'], hue=orders['group'], ax=ax[0], s=70)\n",
    "sns.scatterplot(x=orders.query('revenue < 100000').index, \\\n",
    "                y=orders.query('revenue < 100000')['revenue'], \\\n",
    "                hue=orders.query('revenue < 100000')['group'], ax=ax[1], s=70)\n",
    "ax[0].set_ylabel('стоимость заказа, млн руб.')\n",
    "ax[1].set_ylabel('стоимость заказа, руб.')\n",
    "ax[0].set_xlabel('порядковый номер покупателя')\n",
    "ax[1].set_xlabel('порядковый номер покупателя')\n",
    "ax[0].set_title(\"Точечный график стоимости всех заказов\")\n",
    "ax[1].set_title(\"Точечный график заказов, не превышающих 100 тыс.\");"
   ]
  },
  {
   "cell_type": "markdown",
   "metadata": {},
   "source": [
    "По первому графику, где отображены все заказы, видно, что в группе В есть два аномальных выброса - заказы на 200 тыс. и 1,3 млн., которые могут оказывать существенное влияние на результаты теста, изменив их в пользу группы В. На втором графике, где более подробно представлено точечное распределение заказов, не превышающих 100 тыс.руб., видно, что основная часть заказов аккумулируется где-то в пределах до 20 тыс.руб. Выше этого уровня заказы немногочисленны, но они примерно одинаково распределены между обеими группами."
   ]
  },
  {
   "cell_type": "markdown",
   "metadata": {
    "id": "IPbzPLII0r77"
   },
   "source": [
    "### **2.2.7. Определение границы аномальных пользователей по стоимости заказа**"
   ]
  },
  {
   "cell_type": "markdown",
   "metadata": {},
   "source": [
    "Подсчитаем 95-й и 99-й перцентили стоимости заказов на пользователя."
   ]
  },
  {
   "cell_type": "code",
   "execution_count": 51,
   "metadata": {
    "colab": {
     "base_uri": "https://localhost:8080/"
    },
    "executionInfo": {
     "elapsed": 270,
     "status": "ok",
     "timestamp": 1663713375399,
     "user": {
      "displayName": "Anna Annushka",
      "userId": "03707459048323611332"
     },
     "user_tz": -180
    },
    "id": "Ib8YZWNQCvA6",
    "outputId": "4f540a6f-4ffb-47ec-c520-5ed713b64f88"
   },
   "outputs": [
    {
     "data": {
      "text/plain": [
       "array([26785., 53904.])"
      ]
     },
     "execution_count": 51,
     "metadata": {},
     "output_type": "execute_result"
    }
   ],
   "source": [
    "np.percentile(orders['revenue'], [95, 99])"
   ]
  },
  {
   "cell_type": "markdown",
   "metadata": {},
   "source": [
    "Только один процент пользователей оформлял заказы дороже 53,9 тыс. У 95% пользователей - сумма заказов не превышает 26,8 тыс. \n",
    "\n",
    "Проверим также распределение стоимости заказов на обычной гистограмме и гисторамме лог-распределения."
   ]
  },
  {
   "cell_type": "code",
   "execution_count": 52,
   "metadata": {
    "colab": {
     "base_uri": "https://localhost:8080/",
     "height": 285
    },
    "executionInfo": {
     "elapsed": 1357,
     "status": "ok",
     "timestamp": 1663696818673,
     "user": {
      "displayName": "Anna Annushka",
      "userId": "03707459048323611332"
     },
     "user_tz": -180
    },
    "id": "706AcwLUDSU9",
    "outputId": "ddcd5803-6e88-4642-d9e6-dfb63f1915de"
   },
   "outputs": [
    {
     "data": {
      "image/png": "[encoded data removed]",
      "text/plain": [
       "<Figure size 1152x288 with 2 Axes>"
      ]
     },
     "metadata": {},
     "output_type": "display_data"
    }
   ],
   "source": [
    "fig, ax = plt.subplots(1,2,figsize=(16,4))\n",
    "sns.histplot(orders.revenue, kde=False, color=\"tomato\", ax=ax[0], bins=20)\n",
    "sns.histplot(np.log(orders.revenue), ax=ax[1], bins=20, color=\"tomato\", kde=False)\n",
    "ax[0].set_ylabel(\"число наблюдений\")\n",
    "ax[1].set_ylabel(\"число наблюдений\")\n",
    "ax[0].set_xlabel(\"сумма заказа, млн руб.\")\n",
    "ax[1].set_xlabel(\"прологарифмированная сумма заказа\");"
   ]
  },
  {
   "cell_type": "code",
   "execution_count": 53,
   "metadata": {
    "colab": {
     "base_uri": "https://localhost:8080/"
    },
    "executionInfo": {
     "elapsed": 262,
     "status": "ok",
     "timestamp": 1663696930733,
     "user": {
      "displayName": "Anna Annushka",
      "userId": "03707459048323611332"
     },
     "user_tz": -180
    },
    "id": "ZVjwSW5yD04p",
    "outputId": "617ff32a-d69e-4c1f-eecf-004284f34e9d"
   },
   "outputs": [
    {
     "data": {
      "text/plain": [
       "59874.14171519782"
      ]
     },
     "execution_count": 53,
     "metadata": {},
     "output_type": "execute_result"
    }
   ],
   "source": [
    "np.exp(11)"
   ]
  },
  {
   "cell_type": "code",
   "execution_count": 54,
   "metadata": {},
   "outputs": [
    {
     "data": {
      "text/plain": [
       "1096.6331584284585"
      ]
     },
     "execution_count": 54,
     "metadata": {},
     "output_type": "execute_result"
    }
   ],
   "source": [
    "np.exp(7)"
   ]
  },
  {
   "cell_type": "markdown",
   "metadata": {},
   "source": [
    "Мы видим, что распределение стоимости заказов близко к логнормальному. Средняя сумма заказов находится в районе отметки в 1000 руб. Отсечку выбросов можно сделать по отметке в 60 тыс. рублей - по гистограмме логнормальнго распределения видно, что после этой отметки присутствуют уже совсем единичные показатели. \n",
    "\n",
    "Проверим, какой процент заказов мы удалим при такой отсечке."
   ]
  },
  {
   "cell_type": "code",
   "execution_count": 55,
   "metadata": {
    "colab": {
     "base_uri": "https://localhost:8080/"
    },
    "executionInfo": {
     "elapsed": 475,
     "status": "ok",
     "timestamp": 1663697071532,
     "user": {
      "displayName": "Anna Annushka",
      "userId": "03707459048323611332"
     },
     "user_tz": -180
    },
    "id": "cgRbSpM2ENzv",
    "outputId": "fe973ec9-3fdf-466d-d68c-b3f2799d6112"
   },
   "outputs": [
    {
     "data": {
      "text/plain": [
       "0.9921259842519685"
      ]
     },
     "execution_count": 55,
     "metadata": {},
     "output_type": "execute_result"
    }
   ],
   "source": [
    "(orders['revenue'] < 60000).mean()"
   ]
  },
  {
   "cell_type": "markdown",
   "metadata": {
    "colab": {
     "base_uri": "https://localhost:8080/",
     "height": 426
    },
    "executionInfo": {
     "elapsed": 353,
     "status": "ok",
     "timestamp": 1663713437967,
     "user": {
      "displayName": "Anna Annushka",
      "userId": "03707459048323611332"
     },
     "user_tz": -180
    },
    "id": "bBmCeZF_DApY",
    "outputId": "48058ce6-dc06-4f4c-d26d-70d2336106bd"
   },
   "source": [
    "При отсечке заказов равных и дороже 60 тыс. рублей мы отсекаем 1% всех наблюдений. Этого должно быть достаточно для корректировки показателей в группах, поскольку, самое главное, мы избавляемся от двух аномально больших выбросов в группе В, которые могут искажать результаты."
   ]
  },
  {
   "cell_type": "markdown",
   "metadata": {
    "id": "wuvfAQrj0wXA"
   },
   "source": [
    "### **2.2.8. Точечный график количества заказов по пользователям**"
   ]
  },
  {
   "cell_type": "code",
   "execution_count": 56,
   "metadata": {},
   "outputs": [],
   "source": [
    "# Создадим переменную orders_cnt с группировкой заказов по пользователям и группам\n",
    "orders_cnt = orders.groupby(['visitorId', 'group'])['transactionId'].agg('nunique').reset_index()"
   ]
  },
  {
   "cell_type": "code",
   "execution_count": 57,
   "metadata": {},
   "outputs": [
    {
     "data": {
      "text/html": [
       "<div>\n",
       "<style scoped>\n",
       "    .dataframe tbody tr th:only-of-type {\n",
       "        vertical-align: middle;\n",
       "    }\n",
       "\n",
       "    .dataframe tbody tr th {\n",
       "        vertical-align: top;\n",
       "    }\n",
       "\n",
       "    .dataframe thead th {\n",
       "        text-align: right;\n",
       "    }\n",
       "</style>\n",
       "<table border=\"1\" class=\"dataframe\">\n",
       "  <thead>\n",
       "    <tr style=\"text-align: right;\">\n",
       "      <th></th>\n",
       "      <th>visitorId</th>\n",
       "      <th>group</th>\n",
       "      <th>transactionId</th>\n",
       "    </tr>\n",
       "  </thead>\n",
       "  <tbody>\n",
       "    <tr>\n",
       "      <th>0</th>\n",
       "      <td>5114589</td>\n",
       "      <td>B</td>\n",
       "      <td>1</td>\n",
       "    </tr>\n",
       "    <tr>\n",
       "      <th>1</th>\n",
       "      <td>6958315</td>\n",
       "      <td>B</td>\n",
       "      <td>1</td>\n",
       "    </tr>\n",
       "    <tr>\n",
       "      <th>2</th>\n",
       "      <td>11685486</td>\n",
       "      <td>A</td>\n",
       "      <td>1</td>\n",
       "    </tr>\n",
       "    <tr>\n",
       "      <th>3</th>\n",
       "      <td>39475350</td>\n",
       "      <td>B</td>\n",
       "      <td>1</td>\n",
       "    </tr>\n",
       "    <tr>\n",
       "      <th>4</th>\n",
       "      <td>47206413</td>\n",
       "      <td>B</td>\n",
       "      <td>1</td>\n",
       "    </tr>\n",
       "  </tbody>\n",
       "</table>\n",
       "</div>"
      ],
      "text/plain": [
       "   visitorId group  transactionId\n",
       "0    5114589     B              1\n",
       "1    6958315     B              1\n",
       "2   11685486     A              1\n",
       "3   39475350     B              1\n",
       "4   47206413     B              1"
      ]
     },
     "execution_count": 57,
     "metadata": {},
     "output_type": "execute_result"
    }
   ],
   "source": [
    "orders_cnt.head()"
   ]
  },
  {
   "cell_type": "code",
   "execution_count": 58,
   "metadata": {},
   "outputs": [
    {
     "data": {
      "image/png": "[encoded data removed]",
      "text/plain": [
       "<Figure size 576x360 with 1 Axes>"
      ]
     },
     "metadata": {},
     "output_type": "display_data"
    }
   ],
   "source": [
    "fig, ax = plt.subplots(figsize=(8,5))\n",
    "sns.scatterplot(x=orders_cnt.index, y=orders_cnt['transactionId'], hue=orders_cnt['group'], s=70)\n",
    "plt.xlabel('порядковый номер покупателя')\n",
    "plt.ylabel('кол-во заказов')\n",
    "plt.title(\"Количество заказов на одного пользователя в разных группах\");"
   ]
  },
  {
   "cell_type": "markdown",
   "metadata": {},
   "source": [
    "Самая плотная группа пользователей в обеих группах - это пользователи с одним заказом. Два заказа у одного пользователя встречается редко, а три заказа на пользователя - это практически единичные случаи как в группе А, так и в группе В. "
   ]
  },
  {
   "cell_type": "markdown",
   "metadata": {},
   "source": [
    "### **2.2.9. Определение границы аномальных пользователей по кол-ву заказов**"
   ]
  },
  {
   "cell_type": "markdown",
   "metadata": {
    "id": "5PMeSSRU00kG"
   },
   "source": [
    "Подсчитаем 95-й и 99-й перцентили количества заказов. "
   ]
  },
  {
   "cell_type": "code",
   "execution_count": 59,
   "metadata": {},
   "outputs": [
    {
     "data": {
      "text/plain": [
       "array([1., 2.])"
      ]
     },
     "execution_count": 59,
     "metadata": {},
     "output_type": "execute_result"
    }
   ],
   "source": [
    "np.percentile(orders_cnt['transactionId'], [95, 99])"
   ]
  },
  {
   "cell_type": "markdown",
   "metadata": {},
   "source": [
    "95% пользователей оформляет всего один заказ. И лишь один процент пользователей делает два заказа и более. Это подтверждает наши выводы, сделанные по точечному графику кол-ва заказов, о том, что более двух заказов - это аномальные для нашего теста значения, которые можно исключить из подсчетов при корректировке данных. "
   ]
  },
  {
   "cell_type": "markdown",
   "metadata": {
    "id": "scTVmEAp03Vg"
   },
   "source": [
    "### **2.2.10. Статистическая значимость различий в конверсии между группами по «сырым» данным**"
   ]
  },
  {
   "cell_type": "markdown",
   "metadata": {},
   "source": [
    "Проведем z-тест для двух пропорций, чтобы определить статистическую значимость различий в конверсии между группой А и группой В. За число \"успешных\" экспериментов возьмем суммарное количество пользователей, совершивших заказы, а за общее число наблюдений - суммарное число посетителей сайта в каждой группе за весь период проведения теста. \n",
    "\n",
    "Сформулируем нулевую и альтернативную гипотезы.\n",
    "H0: различий в конверсии между группой А и группой В нет.\n",
    "H1: различие в конверсии есть.\n",
    "\n",
    "Обозначим уровень статистической значимости: alpha=0.05"
   ]
  },
  {
   "cell_type": "code",
   "execution_count": 60,
   "metadata": {},
   "outputs": [],
   "source": [
    "from statsmodels.stats.proportion import proportions_ztest"
   ]
  },
  {
   "cell_type": "code",
   "execution_count": 61,
   "metadata": {},
   "outputs": [
    {
     "data": {
      "text/plain": [
       "0.008442740682401598"
      ]
     },
     "execution_count": 61,
     "metadata": {},
     "output_type": "execute_result"
    }
   ],
   "source": [
    "_, p_value = (\n",
    "    proportions_ztest([df.buyers_a.values[-1], \\\n",
    "                       df.buyers_b.values[-1]], \\\n",
    "                      [df.visitors_a.values[-1], \\\n",
    "                       df.visitors_b.values[-1]])\n",
    ")\n",
    "p_value"
   ]
  },
  {
   "cell_type": "code",
   "execution_count": 62,
   "metadata": {},
   "outputs": [
    {
     "data": {
      "text/plain": [
       "0.17904470437770947"
      ]
     },
     "execution_count": 62,
     "metadata": {},
     "output_type": "execute_result"
    }
   ],
   "source": [
    "# Подсчитает относительную разницу в конверсии между группами\n",
    "(df.buyers_b.values[-1]/df.visitors_b.values[-1])/(df.buyers_a.values[-1]/df.visitors_a.values[-1]) - 1"
   ]
  },
  {
   "cell_type": "markdown",
   "metadata": {},
   "source": [
    "Крайне маленькое значение p-value - 0.008 (существенно ниже уровня значимости в 0.05) позволяет нам отвергнуть нулевую гипотезу о равенстве показателей конверсии между двумя группами. P-value говорит нам о том, что разница в группах есть и не могла быть получена случайно. Эти выводы подтверждаются показателем относительного \"выигрыша\" группы В по конверсии - 17,9% - довольно заметная разница в пользу тестовой группы."
   ]
  },
  {
   "cell_type": "markdown",
   "metadata": {},
   "source": [
    "### 2.2.11. Статистическая значимость различий в среднем чеке заказа между группами по «сырым» данным"
   ]
  },
  {
   "cell_type": "markdown",
   "metadata": {},
   "source": [
    "Подсчитаем размер среднего чека в обеих группах"
   ]
  },
  {
   "cell_type": "code",
   "execution_count": 63,
   "metadata": {},
   "outputs": [
    {
     "name": "stdout",
     "output_type": "stream",
     "text": [
      "Средний чек в группе А:  7189.4\n",
      "Средний чек в группе B:  9249.9\n"
     ]
    }
   ],
   "source": [
    "print('Средний чек в группе А: ', round(orders.query('group ==\"A\"')['revenue'].mean(), 1))\n",
    "print('Средний чек в группе B: ', round(orders.query('group ==\"B\"')['revenue'].mean(), 1))"
   ]
  },
  {
   "cell_type": "markdown",
   "metadata": {},
   "source": [
    "На первый взгляд, разница в значении среднего чека есть и группа В с перевесом обгоняет по этому показателю контрольную группу. Однако нужно проверить, не могли ли мы получить такую разницу случайно. \n",
    "Учитывая, что мы имеем дело с логнормальным распределением при анализе данных о стоимости заказов в каждой группе, для проверки статистической значимости различий в среднем чеке нам нужно использовать непараметрический тест Манна-Уитни. \n",
    "\n",
    "Сформулируем нулевую и альтернативную гипотезы.\n",
    "\n",
    "H0: различий в среднем чеке между группой А и группой В нет.\n",
    "H1: различие в среднем чеке есть.\n",
    "\n",
    "alpha=0.05"
   ]
  },
  {
   "cell_type": "code",
   "execution_count": 64,
   "metadata": {},
   "outputs": [
    {
     "data": {
      "text/plain": [
       "0.8294908998149533"
      ]
     },
     "execution_count": 64,
     "metadata": {},
     "output_type": "execute_result"
    }
   ],
   "source": [
    "st.mannwhitneyu(orders.query('group ==\"A\"')['revenue'], orders.query('group ==\"B\"')['revenue'])[1]"
   ]
  },
  {
   "cell_type": "markdown",
   "metadata": {},
   "source": [
    "Значение p-value в 0,83 не позволяет нам отвергнуть нулевую гипотезу, несмотря на видимое превышение среднего чека в группе В. Делаем вывод, что статистически значимых различий в среднем чеке между группами нет. Возможно, отсутствие статистической значимости, на которое нам указывает p-value, объясняется наличием аномально крупных заказов в группе В, которые сдвинули средний показатель чека в большую сторону. Это нам предстоит проверить на \"очищенных\" данных."
   ]
  },
  {
   "cell_type": "markdown",
   "metadata": {},
   "source": [
    "### 2.2.12. Статистическая значимость различий в конверсии по \"очищенным\" данным"
   ]
  },
  {
   "cell_type": "code",
   "execution_count": 65,
   "metadata": {},
   "outputs": [],
   "source": [
    "# Сохраним в переменную идентификаторы пользователей, совершивших более 2 заказов\n",
    "id_orders_abnormal = orders_cnt.query('transactionId > 2').visitorId.values"
   ]
  },
  {
   "cell_type": "code",
   "execution_count": 66,
   "metadata": {},
   "outputs": [
    {
     "data": {
      "text/plain": [
       "array([ 249864742,  611059232, 2108163459, 2742574263, 2988190573,\n",
       "       3908431265, 3967698036], dtype=int64)"
      ]
     },
     "execution_count": 66,
     "metadata": {},
     "output_type": "execute_result"
    }
   ],
   "source": [
    "id_orders_abnormal"
   ]
  },
  {
   "cell_type": "code",
   "execution_count": 67,
   "metadata": {},
   "outputs": [],
   "source": [
    "# Создадим датафрейм с \"очищенными\" данными, исключив заказы свыше 60 тыс. и пользователей, сделавших более двух заказов\n",
    "orders_filtered = orders[(orders['revenue'] < 60000)&(~orders['visitorId'].isin(id_orders_abnormal))]"
   ]
  },
  {
   "cell_type": "code",
   "execution_count": 68,
   "metadata": {},
   "outputs": [],
   "source": [
    "# Сгруппируем датафрейм по дате и разнесем данные по группам А и В в разные столбцы \n",
    "orders_grouped_filtered = (\n",
    "  orders_filtered.pivot_table(index='date', columns='group', \\\n",
    "                     values=['transactionId', 'visitorId', 'revenue'], \\\n",
    "                     aggfunc={'transactionId':'nunique', 'visitorId':'nunique', 'revenue':'sum'})\n",
    "  .reset_index()\n",
    ")\n",
    "orders_grouped_filtered.columns = ['date', 'revenue_a', 'revenue_b', 'transactions_a', 'transactions_b', 'buyers_a', 'buyers_b']"
   ]
  },
  {
   "cell_type": "code",
   "execution_count": 69,
   "metadata": {},
   "outputs": [
    {
     "data": {
      "text/html": [
       "<div>\n",
       "<style scoped>\n",
       "    .dataframe tbody tr th:only-of-type {\n",
       "        vertical-align: middle;\n",
       "    }\n",
       "\n",
       "    .dataframe tbody tr th {\n",
       "        vertical-align: top;\n",
       "    }\n",
       "\n",
       "    .dataframe thead th {\n",
       "        text-align: right;\n",
       "    }\n",
       "</style>\n",
       "<table border=\"1\" class=\"dataframe\">\n",
       "  <thead>\n",
       "    <tr style=\"text-align: right;\">\n",
       "      <th></th>\n",
       "      <th>date</th>\n",
       "      <th>revenue_a</th>\n",
       "      <th>revenue_b</th>\n",
       "      <th>transactions_a</th>\n",
       "      <th>transactions_b</th>\n",
       "      <th>buyers_a</th>\n",
       "      <th>buyers_b</th>\n",
       "    </tr>\n",
       "  </thead>\n",
       "  <tbody>\n",
       "    <tr>\n",
       "      <th>0</th>\n",
       "      <td>2019-08-01</td>\n",
       "      <td>112340</td>\n",
       "      <td>59758</td>\n",
       "      <td>18</td>\n",
       "      <td>17</td>\n",
       "      <td>17</td>\n",
       "      <td>17</td>\n",
       "    </tr>\n",
       "    <tr>\n",
       "      <th>1</th>\n",
       "      <td>2019-08-02</td>\n",
       "      <td>89912</td>\n",
       "      <td>162043</td>\n",
       "      <td>18</td>\n",
       "      <td>23</td>\n",
       "      <td>17</td>\n",
       "      <td>22</td>\n",
       "    </tr>\n",
       "    <tr>\n",
       "      <th>2</th>\n",
       "      <td>2019-08-03</td>\n",
       "      <td>112473</td>\n",
       "      <td>67049</td>\n",
       "      <td>24</td>\n",
       "      <td>14</td>\n",
       "      <td>24</td>\n",
       "      <td>14</td>\n",
       "    </tr>\n",
       "    <tr>\n",
       "      <th>3</th>\n",
       "      <td>2019-08-04</td>\n",
       "      <td>41176</td>\n",
       "      <td>96890</td>\n",
       "      <td>11</td>\n",
       "      <td>14</td>\n",
       "      <td>11</td>\n",
       "      <td>13</td>\n",
       "    </tr>\n",
       "    <tr>\n",
       "      <th>4</th>\n",
       "      <td>2019-08-05</td>\n",
       "      <td>86383</td>\n",
       "      <td>89908</td>\n",
       "      <td>22</td>\n",
       "      <td>21</td>\n",
       "      <td>22</td>\n",
       "      <td>21</td>\n",
       "    </tr>\n",
       "  </tbody>\n",
       "</table>\n",
       "</div>"
      ],
      "text/plain": [
       "        date  revenue_a  revenue_b  transactions_a  transactions_b  buyers_a  \\\n",
       "0 2019-08-01     112340      59758              18              17        17   \n",
       "1 2019-08-02      89912     162043              18              23        17   \n",
       "2 2019-08-03     112473      67049              24              14        24   \n",
       "3 2019-08-04      41176      96890              11              14        11   \n",
       "4 2019-08-05      86383      89908              22              21        22   \n",
       "\n",
       "   buyers_b  \n",
       "0        17  \n",
       "1        22  \n",
       "2        14  \n",
       "3        13  \n",
       "4        21  "
      ]
     },
     "execution_count": 69,
     "metadata": {},
     "output_type": "execute_result"
    }
   ],
   "source": [
    "orders_grouped_filtered.head()"
   ]
  },
  {
   "cell_type": "code",
   "execution_count": 70,
   "metadata": {},
   "outputs": [
    {
     "data": {
      "text/plain": [
       "0.004664255660206521"
      ]
     },
     "execution_count": 70,
     "metadata": {},
     "output_type": "execute_result"
    }
   ],
   "source": [
    "# Подсчитаем p-value, используя z-тест для пропорций\n",
    "_, p_value = (\n",
    "    proportions_ztest([orders_grouped_filtered.buyers_a.sum(), \\\n",
    "                       orders_grouped_filtered.buyers_b.sum()], \\\n",
    "                      [visitors_grouped.visitors_a.sum(), \\\n",
    "                       visitors_grouped.visitors_b.sum()])\n",
    ")\n",
    "p_value"
   ]
  },
  {
   "cell_type": "code",
   "execution_count": 71,
   "metadata": {},
   "outputs": [
    {
     "data": {
      "text/plain": [
       "0.19618300606172845"
      ]
     },
     "execution_count": 71,
     "metadata": {},
     "output_type": "execute_result"
    }
   ],
   "source": [
    "# Подсчитаем относительную разницу в конверсии между группами\n",
    "(orders_grouped_filtered.buyers_b.sum()/visitors_grouped.visitors_b.sum())/(orders_grouped_filtered.buyers_a.sum()/visitors_grouped.visitors_a.sum()) - 1"
   ]
  },
  {
   "cell_type": "markdown",
   "metadata": {},
   "source": [
    "На очищенных данных мы получили те же самые результаты, что и на неочищенных: статистические различия в конверсии в группах А и В присутствуют (p-value = 0.005, что в десять раз ниже уровня значимости в 0.05). Причем относительный \"выигрыш\" группы В по конверсии на очищенных данных оказался выше, чем на сырых данных: 19,6% против 17,9%. \n",
    "\n",
    "Это позволяет нам сделать уверенный вывод о наличии различий в конверсии между группами в пользу группы В: здесь показатели конверсии по всем параметрам действительно лучше, чем в группе А. И в этом плане можно говорить об успешности тестирования гипотезы, результатом которого стал рост конверсии в тестовой группе."
   ]
  },
  {
   "cell_type": "markdown",
   "metadata": {},
   "source": [
    "### 2.2.13. Статистическая значимость различий в среднем чеке заказа между группами по «очищенным» данным"
   ]
  },
  {
   "cell_type": "code",
   "execution_count": 72,
   "metadata": {},
   "outputs": [
    {
     "name": "stdout",
     "output_type": "stream",
     "text": [
      "Средний чек в группе А:  6487.0\n",
      "Средний чек в группе B:  6374.2\n"
     ]
    }
   ],
   "source": [
    "print('Средний чек в группе А: ', round(orders_filtered.query('group ==\"A\"')['revenue'].mean(), 1))\n",
    "print('Средний чек в группе B: ', round(orders_filtered.query('group ==\"B\"')['revenue'].mean(), 1))"
   ]
  },
  {
   "cell_type": "markdown",
   "metadata": {},
   "source": [
    "Если на сырых данных мы получили разницу в среднем чеке  между группами в более чем 2000 руб., то на очищенных данных разница резко сократилась: всего 110 руб., т.е. на первый взгляд можно говорить об отсутствии серьезной разницы в этом показателе между группами. \n",
    "Проверим наши выкладки с использованием непараметрического теста Манна-Уитни. \n",
    "\n",
    "Нулевая и альтернативная гипотезы остаются теми же:\n",
    "H0: различий в среднем чеке между группой А и группой В нет.\n",
    "H1: различие в среднем чеке есть.\n",
    "\n",
    "alpha=0.05"
   ]
  },
  {
   "cell_type": "code",
   "execution_count": 73,
   "metadata": {},
   "outputs": [
    {
     "data": {
      "text/plain": [
       "0.8269080692459636"
      ]
     },
     "execution_count": 73,
     "metadata": {},
     "output_type": "execute_result"
    }
   ],
   "source": [
    "st.mannwhitneyu(orders_filtered.query('group ==\"A\"')['revenue'], orders_filtered.query('group ==\"B\"')['revenue'])[1]"
   ]
  },
  {
   "cell_type": "markdown",
   "metadata": {},
   "source": [
    "Как и в случае с \"сырыми\" данными, мы получили веские основания не отвергать нулевую гипотезу (значение p-value в 0,83 существенно выше alpha). Это значит, что разницы в среднем чеке между группами мы не получили. \n",
    "\n",
    "Посмотрим еще, как выглядит график динамики кумулятивного среднего чека по группами после того, как мы удалили аномально крупные заказы из группы В: сохраниться ли преимущество группы В по этому показателю, которое мы наблюдали на сырых данных, начиная с середины месяца. "
   ]
  },
  {
   "cell_type": "code",
   "execution_count": 74,
   "metadata": {},
   "outputs": [],
   "source": [
    "# Создадим датафрейм с кумулятивными значениями по \"очищенным\" данным\n",
    "df_filtered = (\n",
    "    dates.apply(lambda x: orders_grouped_filtered[orders_grouped_filtered['date'] <= x['date']]\n",
    "             .agg({'date' : 'max', 'revenue_a' : 'sum', 'revenue_b' : 'sum' , \\\n",
    "                   'transactions_a' : 'sum', 'transactions_b' : 'sum', \\\n",
    "                   'buyers_a' : 'sum', 'buyers_b' : 'sum'}), axis=1)\n",
    ")"
   ]
  },
  {
   "cell_type": "code",
   "execution_count": 75,
   "metadata": {},
   "outputs": [
    {
     "data": {
      "image/png": "[encoded data removed]",
      "text/plain": [
       "<Figure size 720x432 with 1 Axes>"
      ]
     },
     "metadata": {},
     "output_type": "display_data"
    }
   ],
   "source": [
    "fig, ax = plt.subplots(figsize=(10,6))\n",
    "plt.plot(df_filtered['date'], df_filtered['revenue_a']/df_filtered['transactions_a'], label='A')\n",
    "plt.plot(df_filtered['date'], df_filtered['revenue_b']/df_filtered['transactions_b'], label='B')\n",
    "plt.legend() \n",
    "plt.title(\"Динамика среднего чека на очищенных данных\")\n",
    "plt.ticklabel_format(style='plain', axis='y')\n",
    "plt.xlabel('дата')\n",
    "plt.ylabel('сумма среднего чека, руб.')\n",
    "plt.xlim(dt.datetime(2019, 8, 1), dt.datetime(2019, 8, 31))\n",
    "plt.xticks(rotation=45);"
   ]
  },
  {
   "cell_type": "markdown",
   "metadata": {},
   "source": [
    "Как мы и предполагали, резкий рост среднего чека и дальнейшее превышение кумулятивных показателей в группе В объяснялось аномально большими заказами двух пользователей, которые исказили среднестатистическую картину. После очистки данных средний чек в группе В практически сравнялся с группой А, а к концу теста мы даже видим, что группа А немного обогнала группу В по этому показателю. "
   ]
  },
  {
   "cell_type": "markdown",
   "metadata": {},
   "source": [
    "## **2.3. Выводы и рекомендации**"
   ]
  },
  {
   "cell_type": "markdown",
   "metadata": {},
   "source": [
    "Мы получили статистически значимое различие в уровне конверсии между тестовой и контрольной группами как на \"сырых\" данных, так и на \"очищенных\" данных. При уровне статистической значимости в 0.005 относительный \"выигрыш\" в конверсии группы В составил 19,6%. График различия в конверсии также показал, что результаты группы В, по большей части, были стабильно лучше группы А. Это дает нам основание делать вывод об успешности теста: тестируемая гипотеза работает и дает заметный прирост в конверсии.\n",
    "\n",
    "При этом статистически значимого различия в среднем чеке в группах А и В зафиксировано не было ни на \"сырых\" данных, ни на \"очищенных\". График среднего чека на очищенных данных также подверждает, что значения в обеих группах сопоставимы и практически сравнялись к концу месяца тестирования. Однако сам по себе данный факт не говорит о неуспешности эксперимента. Важно, что мы не наблюдаем снижения размера среднего чека в группе В по сравнению с группой А, поскольку прирост конверсии в группе В на фоне сохранения размера среднего чека все равно обеспечивает компании прирост выручки. \n",
    "\n",
    "На основании вышеизложенных выводов рекомендуется принять решение остановить тест, признать его успешным и зафиксировать прирост показателя конверсии в группе В. "
   ]
  },
  {
   "cell_type": "code",
   "execution_count": null,
   "metadata": {},
   "outputs": [],
   "source": []
  }
 ],
 "metadata": {
  "colab": {
   "authorship_tag": "ABX9TyNUJZrF81UFu7Iq8EsIMl56",
   "provenance": []
  },
  "kernelspec": {
   "display_name": "Python 3 (ipykernel)",
   "language": "python",
   "name": "python3"
  },
  "language_info": {
   "codemirror_mode": {
    "name": "ipython",
    "version": 3
   },
   "file_extension": ".py",
   "mimetype": "text/x-python",
   "name": "python",
   "nbconvert_exporter": "python",
   "pygments_lexer": "ipython3",
   "version": "3.9.12"
  }
 },
 "nbformat": 4,
 "nbformat_minor": 1
}
