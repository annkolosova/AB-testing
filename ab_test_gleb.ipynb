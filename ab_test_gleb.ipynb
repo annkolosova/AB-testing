{
 "cells": [
  {
   "cell_type": "code",
   "execution_count": 1,
   "id": "d25473be",
   "metadata": {},
   "outputs": [],
   "source": [
    "import pandas as pd\n",
    "import numpy as np"
   ]
  },
  {
   "cell_type": "code",
   "execution_count": 2,
   "id": "35b4da39",
   "metadata": {},
   "outputs": [
    {
     "data": {
      "text/plain": [
       "(1,)"
      ]
     },
     "execution_count": 2,
     "metadata": {},
     "output_type": "execute_result"
    }
   ],
   "source": [
    "per = (1, )\n",
    "per"
   ]
  },
  {
   "cell_type": "code",
   "execution_count": 5,
   "id": "0158df68",
   "metadata": {},
   "outputs": [
    {
     "data": {
      "text/plain": [
       "(1, 2)"
      ]
     },
     "execution_count": 5,
     "metadata": {},
     "output_type": "execute_result"
    }
   ],
   "source": [
    "per += (2, )\n",
    "per"
   ]
  },
  {
   "cell_type": "code",
   "execution_count": 9,
   "id": "e0f140b7",
   "metadata": {},
   "outputs": [],
   "source": [
    "def get_data_fig(*args, **kwargs):\n",
    "    per = (sum(args), )\n",
    "    for type in ['type', 'color', 'closed', 'width']:\n",
    "        if type in kwargs:\n",
    "            per += (kwargs[type], )\n",
    "    \n",
    "    return per"
   ]
  },
  {
   "cell_type": "code",
   "execution_count": 10,
   "id": "153e629c",
   "metadata": {},
   "outputs": [
    {
     "data": {
      "text/plain": [
       "(10, 'mine', 123, True)"
      ]
     },
     "execution_count": 10,
     "metadata": {},
     "output_type": "execute_result"
    }
   ],
   "source": [
    "a = get_data_fig(1, 2, 3, 4, type='mine', closed=True, color=123)\n",
    "a"
   ]
  },
  {
   "cell_type": "code",
   "execution_count": 34,
   "id": "36e0a165",
   "metadata": {},
   "outputs": [],
   "source": [
    "a = [[1, 0, 0, 0, 0], [0, 0, 1, 0, 1], [0, 0, 0, 0, 0], [0, 1, 0, 1, 0], [0, 0, 0, 0, 0]]"
   ]
  },
  {
   "cell_type": "code",
   "execution_count": 35,
   "id": "77649523",
   "metadata": {},
   "outputs": [
    {
     "data": {
      "text/plain": [
       "[[1, 0, 0, 0, 0],\n",
       " [0, 0, 1, 0, 1],\n",
       " [0, 0, 0, 0, 0],\n",
       " [0, 1, 0, 1, 0],\n",
       " [0, 0, 0, 0, 0]]"
      ]
     },
     "execution_count": 35,
     "metadata": {},
     "output_type": "execute_result"
    }
   ],
   "source": [
    "a"
   ]
  },
  {
   "cell_type": "code",
   "execution_count": 36,
   "id": "37c3065c",
   "metadata": {},
   "outputs": [
    {
     "data": {
      "text/plain": [
       "True"
      ]
     },
     "execution_count": 36,
     "metadata": {},
     "output_type": "execute_result"
    }
   ],
   "source": [
    "def verify(a):\n",
    "    a_flag = True\n",
    "    for i in range(len(a)-1):\n",
    "        for j in range(len(a)-1):\n",
    "            if a[i][j]+a[i][j+1]+a[i+1][j]+a[i+1][j+1] > 1:\n",
    "                a_flag = False\n",
    "                    \n",
    "    return a_flag\n",
    "                \n",
    "a_flag = verify(a)\n",
    "a_flag"
   ]
  },
  {
   "cell_type": "code",
   "execution_count": 44,
   "id": "29f26a20",
   "metadata": {},
   "outputs": [],
   "source": [
    "a = 'Ac'\n",
    "b = 'Ad'\n",
    "c = 'Mom'"
   ]
  },
  {
   "cell_type": "code",
   "execution_count": 45,
   "id": "f0974b98",
   "metadata": {},
   "outputs": [
    {
     "data": {
      "text/plain": [
       "'Mom'"
      ]
     },
     "execution_count": 45,
     "metadata": {},
     "output_type": "execute_result"
    }
   ],
   "source": [
    "def str_min(*args):\n",
    "    return max(args)\n",
    "\n",
    "res = str_min(a, b, c)\n",
    "res"
   ]
  },
  {
   "cell_type": "markdown",
   "id": "eefe4184",
   "metadata": {},
   "source": [
    "## Data download"
   ]
  },
  {
   "cell_type": "markdown",
   "id": "f04a880c",
   "metadata": {},
   "source": [
    "https://drive.google.com/file/d/1QqWhauAgV8PQV-bLNyHnDjVV2sLFq9UA/view?usp=sharing"
   ]
  },
  {
   "cell_type": "code",
   "execution_count": 2,
   "id": "7d35d9ca",
   "metadata": {},
   "outputs": [
    {
     "name": "stdout",
     "output_type": "stream",
     "text": [
      "Collecting gdown==v4.6.3\n",
      "  Downloading gdown-4.6.3-py3-none-any.whl (14 kB)\n",
      "Requirement already satisfied: beautifulsoup4 in c:\\programdata\\anaconda3\\lib\\site-packages (from gdown==v4.6.3) (4.11.1)\n",
      "Requirement already satisfied: six in c:\\programdata\\anaconda3\\lib\\site-packages (from gdown==v4.6.3) (1.16.0)\n",
      "Requirement already satisfied: tqdm in c:\\programdata\\anaconda3\\lib\\site-packages (from gdown==v4.6.3) (4.64.0)\n",
      "Requirement already satisfied: requests[socks] in c:\\programdata\\anaconda3\\lib\\site-packages (from gdown==v4.6.3) (2.27.1)\n",
      "Requirement already satisfied: filelock in c:\\programdata\\anaconda3\\lib\\site-packages (from gdown==v4.6.3) (3.6.0)\n",
      "Requirement already satisfied: soupsieve>1.2 in c:\\programdata\\anaconda3\\lib\\site-packages (from beautifulsoup4->gdown==v4.6.3) (2.3.1)\n",
      "Requirement already satisfied: certifi>=2017.4.17 in c:\\programdata\\anaconda3\\lib\\site-packages (from requests[socks]->gdown==v4.6.3) (2021.10.8)\n",
      "Requirement already satisfied: urllib3<1.27,>=1.21.1 in c:\\programdata\\anaconda3\\lib\\site-packages (from requests[socks]->gdown==v4.6.3) (1.26.9)\n",
      "Requirement already satisfied: idna<4,>=2.5 in c:\\programdata\\anaconda3\\lib\\site-packages (from requests[socks]->gdown==v4.6.3) (3.3)\n",
      "Requirement already satisfied: charset-normalizer~=2.0.0 in c:\\programdata\\anaconda3\\lib\\site-packages (from requests[socks]->gdown==v4.6.3) (2.0.4)\n",
      "Requirement already satisfied: PySocks!=1.5.7,>=1.5.6 in c:\\programdata\\anaconda3\\lib\\site-packages (from requests[socks]->gdown==v4.6.3) (1.7.1)\n",
      "Requirement already satisfied: colorama in c:\\programdata\\anaconda3\\lib\\site-packages (from tqdm->gdown==v4.6.3) (0.4.4)\n",
      "Installing collected packages: gdown\n",
      "Successfully installed gdown-4.6.3\n"
     ]
    }
   ],
   "source": [
    "! pip install gdown==v4.6.3"
   ]
  },
  {
   "cell_type": "code",
   "execution_count": 46,
   "id": "83112ef1",
   "metadata": {},
   "outputs": [
    {
     "name": "stderr",
     "output_type": "stream",
     "text": [
      "Downloading...\n",
      "From: https://drive.google.com/uc?id=1QqWhauAgV8PQV-bLNyHnDjVV2sLFq9UA\n",
      "To: C:\\Users\\Анна\\covid.csv\n",
      "\n",
      "  0%|          | 0.00/60.0k [00:00<?, ?B/s]\n",
      "100%|##########| 60.0k/60.0k [00:00<00:00, 1.92MB/s]\n"
     ]
    }
   ],
   "source": [
    "! gdown 1QqWhauAgV8PQV-bLNyHnDjVV2sLFq9UA"
   ]
  },
  {
   "cell_type": "code",
   "execution_count": 47,
   "id": "bc184577",
   "metadata": {},
   "outputs": [],
   "source": [
    "df = pd.read_csv(r'C:\\Users\\Анна\\covid.csv')"
   ]
  },
  {
   "cell_type": "code",
   "execution_count": 60,
   "id": "888ae26d",
   "metadata": {},
   "outputs": [
    {
     "data": {
      "text/html": [
       "<div>\n",
       "<style scoped>\n",
       "    .dataframe tbody tr th:only-of-type {\n",
       "        vertical-align: middle;\n",
       "    }\n",
       "\n",
       "    .dataframe tbody tr th {\n",
       "        vertical-align: top;\n",
       "    }\n",
       "\n",
       "    .dataframe thead th {\n",
       "        text-align: right;\n",
       "    }\n",
       "</style>\n",
       "<table border=\"1\" class=\"dataframe\">\n",
       "  <thead>\n",
       "    <tr style=\"text-align: right;\">\n",
       "      <th></th>\n",
       "      <th>y_true</th>\n",
       "      <th>y_pred1</th>\n",
       "      <th>y_pred2</th>\n",
       "      <th>accuracy1</th>\n",
       "      <th>accuracy2</th>\n",
       "    </tr>\n",
       "  </thead>\n",
       "  <tbody>\n",
       "    <tr>\n",
       "      <th>0</th>\n",
       "      <td>0</td>\n",
       "      <td>0</td>\n",
       "      <td>0</td>\n",
       "      <td>True</td>\n",
       "      <td>True</td>\n",
       "    </tr>\n",
       "    <tr>\n",
       "      <th>1</th>\n",
       "      <td>1</td>\n",
       "      <td>1</td>\n",
       "      <td>0</td>\n",
       "      <td>True</td>\n",
       "      <td>False</td>\n",
       "    </tr>\n",
       "    <tr>\n",
       "      <th>2</th>\n",
       "      <td>1</td>\n",
       "      <td>0</td>\n",
       "      <td>1</td>\n",
       "      <td>False</td>\n",
       "      <td>True</td>\n",
       "    </tr>\n",
       "    <tr>\n",
       "      <th>3</th>\n",
       "      <td>0</td>\n",
       "      <td>1</td>\n",
       "      <td>0</td>\n",
       "      <td>False</td>\n",
       "      <td>True</td>\n",
       "    </tr>\n",
       "    <tr>\n",
       "      <th>4</th>\n",
       "      <td>1</td>\n",
       "      <td>0</td>\n",
       "      <td>1</td>\n",
       "      <td>False</td>\n",
       "      <td>True</td>\n",
       "    </tr>\n",
       "  </tbody>\n",
       "</table>\n",
       "</div>"
      ],
      "text/plain": [
       "   y_true  y_pred1  y_pred2  accuracy1  accuracy2\n",
       "0       0        0        0       True       True\n",
       "1       1        1        0       True      False\n",
       "2       1        0        1      False       True\n",
       "3       0        1        0      False       True\n",
       "4       1        0        1      False       True"
      ]
     },
     "execution_count": 60,
     "metadata": {},
     "output_type": "execute_result"
    }
   ],
   "source": [
    "df.head()"
   ]
  },
  {
   "cell_type": "code",
   "execution_count": 49,
   "id": "b402edb9",
   "metadata": {},
   "outputs": [],
   "source": [
    "df['accuracy1'] = df['y_true'] == df['y_pred1']\n",
    "df['accuracy2'] = df['y_true'] == df['y_pred2']"
   ]
  },
  {
   "cell_type": "code",
   "execution_count": 52,
   "id": "157bba65",
   "metadata": {},
   "outputs": [
    {
     "data": {
      "text/html": [
       "<div>\n",
       "<style scoped>\n",
       "    .dataframe tbody tr th:only-of-type {\n",
       "        vertical-align: middle;\n",
       "    }\n",
       "\n",
       "    .dataframe tbody tr th {\n",
       "        vertical-align: top;\n",
       "    }\n",
       "\n",
       "    .dataframe thead th {\n",
       "        text-align: right;\n",
       "    }\n",
       "</style>\n",
       "<table border=\"1\" class=\"dataframe\">\n",
       "  <thead>\n",
       "    <tr style=\"text-align: right;\">\n",
       "      <th></th>\n",
       "      <th>y_true</th>\n",
       "      <th>accuracy1</th>\n",
       "      <th>accuracy2</th>\n",
       "    </tr>\n",
       "  </thead>\n",
       "  <tbody>\n",
       "    <tr>\n",
       "      <th>0</th>\n",
       "      <td>0</td>\n",
       "      <td>0.938962</td>\n",
       "      <td>0.989827</td>\n",
       "    </tr>\n",
       "    <tr>\n",
       "      <th>1</th>\n",
       "      <td>1</td>\n",
       "      <td>0.705015</td>\n",
       "      <td>0.655851</td>\n",
       "    </tr>\n",
       "  </tbody>\n",
       "</table>\n",
       "</div>"
      ],
      "text/plain": [
       "   y_true  accuracy1  accuracy2\n",
       "0       0   0.938962   0.989827\n",
       "1       1   0.705015   0.655851"
      ]
     },
     "execution_count": 52,
     "metadata": {},
     "output_type": "execute_result"
    }
   ],
   "source": [
    "df.groupby('y_true')[['accuracy1', 'accuracy2']].agg('mean').reset_index()"
   ]
  },
  {
   "cell_type": "code",
   "execution_count": 73,
   "id": "76df3ce1",
   "metadata": {},
   "outputs": [],
   "source": [
    "def group_func(df, *args):\n",
    "    if len(args) > 1:\n",
    "        args = list(args)\n",
    "        return df.groupby('y_true')[args].agg('mean').reset_index()\n",
    "    else:\n",
    "        return df.groupby('y_true')[args].agg('mean').reset_index()"
   ]
  },
  {
   "cell_type": "code",
   "execution_count": 75,
   "id": "d60b00e2",
   "metadata": {},
   "outputs": [
    {
     "data": {
      "text/html": [
       "<div>\n",
       "<style scoped>\n",
       "    .dataframe tbody tr th:only-of-type {\n",
       "        vertical-align: middle;\n",
       "    }\n",
       "\n",
       "    .dataframe tbody tr th {\n",
       "        vertical-align: top;\n",
       "    }\n",
       "\n",
       "    .dataframe thead th {\n",
       "        text-align: right;\n",
       "    }\n",
       "</style>\n",
       "<table border=\"1\" class=\"dataframe\">\n",
       "  <thead>\n",
       "    <tr style=\"text-align: right;\">\n",
       "      <th></th>\n",
       "      <th>y_true</th>\n",
       "      <th>accuracy1</th>\n",
       "      <th>accuracy2</th>\n",
       "    </tr>\n",
       "  </thead>\n",
       "  <tbody>\n",
       "    <tr>\n",
       "      <th>0</th>\n",
       "      <td>0</td>\n",
       "      <td>0.938962</td>\n",
       "      <td>0.989827</td>\n",
       "    </tr>\n",
       "    <tr>\n",
       "      <th>1</th>\n",
       "      <td>1</td>\n",
       "      <td>0.705015</td>\n",
       "      <td>0.655851</td>\n",
       "    </tr>\n",
       "  </tbody>\n",
       "</table>\n",
       "</div>"
      ],
      "text/plain": [
       "   y_true  accuracy1  accuracy2\n",
       "0       0   0.938962   0.989827\n",
       "1       1   0.705015   0.655851"
      ]
     },
     "execution_count": 75,
     "metadata": {},
     "output_type": "execute_result"
    }
   ],
   "source": [
    "t = group_func(df, 'accuracy1', 'accuracy2')\n",
    "t"
   ]
  },
  {
   "cell_type": "markdown",
   "id": "0adf5bea",
   "metadata": {},
   "source": [
    "## Error rate"
   ]
  },
  {
   "cell_type": "code",
   "execution_count": 8,
   "id": "18cd1c43",
   "metadata": {},
   "outputs": [
    {
     "data": {
      "text/plain": [
       "0.18"
      ]
     },
     "execution_count": 8,
     "metadata": {},
     "output_type": "execute_result"
    }
   ],
   "source": [
    "(df['y_true'] != df['y_pred1']).mean()"
   ]
  },
  {
   "cell_type": "code",
   "execution_count": 9,
   "id": "143b295b",
   "metadata": {},
   "outputs": [
    {
     "data": {
      "text/plain": [
       "0.18"
      ]
     },
     "execution_count": 9,
     "metadata": {},
     "output_type": "execute_result"
    }
   ],
   "source": [
    "(df['y_true'] != df['y_pred2']).mean()"
   ]
  },
  {
   "cell_type": "markdown",
   "id": "ed30b40d",
   "metadata": {},
   "source": [
    "### Accuracy rate"
   ]
  },
  {
   "cell_type": "code",
   "execution_count": 11,
   "id": "7be63105",
   "metadata": {},
   "outputs": [
    {
     "data": {
      "text/plain": [
       "0.82"
      ]
     },
     "execution_count": 11,
     "metadata": {},
     "output_type": "execute_result"
    }
   ],
   "source": [
    "(df['y_true'] == df['y_pred1']).mean()"
   ]
  },
  {
   "cell_type": "code",
   "execution_count": 12,
   "id": "48aa5e50",
   "metadata": {},
   "outputs": [
    {
     "data": {
      "text/plain": [
       "0.82"
      ]
     },
     "execution_count": 12,
     "metadata": {},
     "output_type": "execute_result"
    }
   ],
   "source": [
    "(df['y_true'] == df['y_pred2']).mean()"
   ]
  },
  {
   "cell_type": "code",
   "execution_count": 10,
   "id": "c910d3fc",
   "metadata": {},
   "outputs": [],
   "source": [
    "from sklearn.metrics import accuracy_score"
   ]
  },
  {
   "cell_type": "code",
   "execution_count": 13,
   "id": "5b489dd9",
   "metadata": {},
   "outputs": [
    {
     "data": {
      "text/plain": [
       "0.82"
      ]
     },
     "execution_count": 13,
     "metadata": {},
     "output_type": "execute_result"
    }
   ],
   "source": [
    "accuracy_score(df['y_true'],df['y_pred1'])"
   ]
  },
  {
   "cell_type": "code",
   "execution_count": 14,
   "id": "ad04ab5c",
   "metadata": {},
   "outputs": [
    {
     "data": {
      "text/plain": [
       "0.82"
      ]
     },
     "execution_count": 14,
     "metadata": {},
     "output_type": "execute_result"
    }
   ],
   "source": [
    "accuracy_score(df['y_true'],df['y_pred2'])"
   ]
  },
  {
   "cell_type": "markdown",
   "id": "9d68aa0f",
   "metadata": {},
   "source": [
    "## Positives and Negatives"
   ]
  },
  {
   "cell_type": "code",
   "execution_count": 15,
   "id": "daceb786",
   "metadata": {},
   "outputs": [],
   "source": [
    "positives = df[df['y_true'] == 1].copy()"
   ]
  },
  {
   "cell_type": "code",
   "execution_count": 16,
   "id": "c43d4873",
   "metadata": {},
   "outputs": [],
   "source": [
    "negatives = df[df['y_true'] == 0].copy()"
   ]
  },
  {
   "cell_type": "markdown",
   "id": "4f660f2c",
   "metadata": {},
   "source": [
    "### FNR"
   ]
  },
  {
   "cell_type": "code",
   "execution_count": 18,
   "id": "f090368e",
   "metadata": {},
   "outputs": [
    {
     "data": {
      "text/plain": [
       "0.2949852507374631"
      ]
     },
     "execution_count": 18,
     "metadata": {},
     "output_type": "execute_result"
    }
   ],
   "source": [
    "(positives['y_true'] != positives['y_pred1']).mean()"
   ]
  },
  {
   "cell_type": "code",
   "execution_count": 19,
   "id": "8388f68c",
   "metadata": {},
   "outputs": [
    {
     "data": {
      "text/plain": [
       "0.344149459193707"
      ]
     },
     "execution_count": 19,
     "metadata": {},
     "output_type": "execute_result"
    }
   ],
   "source": [
    "(positives['y_true'] != positives['y_pred2']).mean()"
   ]
  },
  {
   "cell_type": "markdown",
   "id": "742dcbdd",
   "metadata": {},
   "source": [
    "### FPR"
   ]
  },
  {
   "cell_type": "code",
   "execution_count": 20,
   "id": "731de2c8",
   "metadata": {},
   "outputs": [
    {
     "data": {
      "text/plain": [
       "0.061037639877924724"
      ]
     },
     "execution_count": 20,
     "metadata": {},
     "output_type": "execute_result"
    }
   ],
   "source": [
    "(negatives['y_true'] != negatives['y_pred1']).mean()"
   ]
  },
  {
   "cell_type": "code",
   "execution_count": 21,
   "id": "0e1f6643",
   "metadata": {},
   "outputs": [
    {
     "data": {
      "text/plain": [
       "0.01017293997965412"
      ]
     },
     "execution_count": 21,
     "metadata": {},
     "output_type": "execute_result"
    }
   ],
   "source": [
    "(negatives['y_true'] != negatives['y_pred2']).mean()"
   ]
  },
  {
   "cell_type": "markdown",
   "id": "b1636eec",
   "metadata": {},
   "source": [
    "### Sensivity"
   ]
  },
  {
   "cell_type": "code",
   "execution_count": 22,
   "id": "66c5e0c0",
   "metadata": {},
   "outputs": [
    {
     "data": {
      "text/plain": [
       "0.7050147492625368"
      ]
     },
     "execution_count": 22,
     "metadata": {},
     "output_type": "execute_result"
    }
   ],
   "source": [
    "accuracy_score(positives['y_true'],positives['y_pred1'])"
   ]
  },
  {
   "cell_type": "code",
   "execution_count": 23,
   "id": "63f92d1a",
   "metadata": {},
   "outputs": [
    {
     "data": {
      "text/plain": [
       "0.655850540806293"
      ]
     },
     "execution_count": 23,
     "metadata": {},
     "output_type": "execute_result"
    }
   ],
   "source": [
    "accuracy_score(positives['y_true'],positives['y_pred2'])"
   ]
  },
  {
   "cell_type": "markdown",
   "id": "232a6afe",
   "metadata": {},
   "source": [
    "### Specificity"
   ]
  },
  {
   "cell_type": "code",
   "execution_count": 24,
   "id": "e61dc507",
   "metadata": {},
   "outputs": [
    {
     "data": {
      "text/plain": [
       "0.9389623601220752"
      ]
     },
     "execution_count": 24,
     "metadata": {},
     "output_type": "execute_result"
    }
   ],
   "source": [
    "accuracy_score(negatives['y_true'],negatives['y_pred1'])"
   ]
  },
  {
   "cell_type": "code",
   "execution_count": 25,
   "id": "45cf85d6",
   "metadata": {},
   "outputs": [
    {
     "data": {
      "text/plain": [
       "0.9898270600203459"
      ]
     },
     "execution_count": 25,
     "metadata": {},
     "output_type": "execute_result"
    }
   ],
   "source": [
    "accuracy_score(negatives['y_true'],negatives['y_pred2'])"
   ]
  },
  {
   "cell_type": "markdown",
   "id": "535fc5a1",
   "metadata": {},
   "source": [
    "### Sensivity and Specificity as functions"
   ]
  },
  {
   "cell_type": "code",
   "execution_count": 26,
   "id": "696f992a",
   "metadata": {},
   "outputs": [],
   "source": [
    "from sklearn.metrics import recall_score"
   ]
  },
  {
   "cell_type": "code",
   "execution_count": 27,
   "id": "63070b77",
   "metadata": {},
   "outputs": [
    {
     "data": {
      "text/plain": [
       "0.7050147492625368"
      ]
     },
     "execution_count": 27,
     "metadata": {},
     "output_type": "execute_result"
    }
   ],
   "source": [
    "recall_score(df['y_true'],df['y_pred1'])"
   ]
  },
  {
   "cell_type": "code",
   "execution_count": 28,
   "id": "a78d4e44",
   "metadata": {},
   "outputs": [
    {
     "data": {
      "text/plain": [
       "0.655850540806293"
      ]
     },
     "execution_count": 28,
     "metadata": {},
     "output_type": "execute_result"
    }
   ],
   "source": [
    "recall_score(df['y_true'],df['y_pred2'])"
   ]
  },
  {
   "cell_type": "code",
   "execution_count": 29,
   "id": "3226d6ac",
   "metadata": {},
   "outputs": [
    {
     "data": {
      "text/plain": [
       "0.9389623601220752"
      ]
     },
     "execution_count": 29,
     "metadata": {},
     "output_type": "execute_result"
    }
   ],
   "source": [
    "recall_score(df['y_true'],df['y_pred1'],pos_label=0)"
   ]
  },
  {
   "cell_type": "code",
   "execution_count": 30,
   "id": "afd3c534",
   "metadata": {},
   "outputs": [
    {
     "data": {
      "text/plain": [
       "0.9898270600203459"
      ]
     },
     "execution_count": 30,
     "metadata": {},
     "output_type": "execute_result"
    }
   ],
   "source": [
    "recall_score(df['y_true'],df['y_pred2'],pos_label=0)"
   ]
  },
  {
   "cell_type": "markdown",
   "id": "e23ceb9a",
   "metadata": {},
   "source": [
    "### Confusion Matrix"
   ]
  },
  {
   "cell_type": "code",
   "execution_count": 31,
   "id": "a5809540",
   "metadata": {},
   "outputs": [],
   "source": [
    "from sklearn.metrics import confusion_matrix, ConfusionMatrixDisplay"
   ]
  },
  {
   "cell_type": "code",
   "execution_count": 34,
   "id": "1e71ce86",
   "metadata": {},
   "outputs": [
    {
     "data": {
      "image/png": "[encoded data removed]",
      "text/plain": [
       "<Figure size 432x288 with 2 Axes>"
      ]
     },
     "metadata": {
      "needs_background": "light"
     },
     "output_type": "display_data"
    }
   ],
   "source": [
    "cm = confusion_matrix(df['y_true'], df['y_pred1'])\n",
    "disp = ConfusionMatrixDisplay(confusion_matrix=cm)\n",
    "disp.plot();"
   ]
  },
  {
   "cell_type": "code",
   "execution_count": 35,
   "id": "7e9e5a52",
   "metadata": {},
   "outputs": [
    {
     "data": {
      "image/png": "[encoded data removed]",
      "text/plain": [
       "<Figure size 432x288 with 2 Axes>"
      ]
     },
     "metadata": {
      "needs_background": "light"
     },
     "output_type": "display_data"
    }
   ],
   "source": [
    "cm = confusion_matrix(df['y_true'], df['y_pred2'])\n",
    "disp = ConfusionMatrixDisplay(confusion_matrix=cm)\n",
    "disp.plot();"
   ]
  },
  {
   "cell_type": "code",
   "execution_count": 36,
   "id": "86bc5977",
   "metadata": {},
   "outputs": [
    {
     "data": {
      "text/plain": [
       "array([[4865,   50],\n",
       "       [1750, 3335]], dtype=int64)"
      ]
     },
     "execution_count": 36,
     "metadata": {},
     "output_type": "execute_result"
    }
   ],
   "source": [
    "confusion_matrix(df['y_true'], df['y_pred2'])"
   ]
  },
  {
   "cell_type": "code",
   "execution_count": 37,
   "id": "5df64655",
   "metadata": {},
   "outputs": [],
   "source": [
    "tn, fp, fn, tp = confusion_matrix(df['y_true'], df['y_pred2']).ravel()"
   ]
  },
  {
   "cell_type": "code",
   "execution_count": 38,
   "id": "1bb0585d",
   "metadata": {},
   "outputs": [
    {
     "data": {
      "text/plain": [
       "(4865, 50, 1750, 3335)"
      ]
     },
     "execution_count": 38,
     "metadata": {},
     "output_type": "execute_result"
    }
   ],
   "source": [
    "tn, fp, fn, tp"
   ]
  },
  {
   "cell_type": "code",
   "execution_count": 39,
   "id": "963d943a",
   "metadata": {},
   "outputs": [
    {
     "data": {
      "text/plain": [
       "0.655850540806293"
      ]
     },
     "execution_count": 39,
     "metadata": {},
     "output_type": "execute_result"
    }
   ],
   "source": [
    "# Sensitivity\n",
    "tp / (tp + fn)"
   ]
  },
  {
   "cell_type": "markdown",
   "id": "a1ebf1be",
   "metadata": {},
   "source": [
    "## Pregnancy test"
   ]
  },
  {
   "cell_type": "code",
   "execution_count": 40,
   "id": "c6d63dea",
   "metadata": {},
   "outputs": [
    {
     "name": "stderr",
     "output_type": "stream",
     "text": [
      "Downloading...\n",
      "From: https://drive.google.com/uc?id=1T-nWdDdnjNWHjuwHvFaTQqlQ8ewz9hYI\n",
      "To: C:\\Users\\Анна\\pregnancy.csv\n",
      "\n",
      "  0%|          | 0.00/60.0k [00:00<?, ?B/s]\n",
      "100%|##########| 60.0k/60.0k [00:00<00:00, 2.97MB/s]\n"
     ]
    }
   ],
   "source": [
    "! gdown 1T-nWdDdnjNWHjuwHvFaTQqlQ8ewz9hYI"
   ]
  },
  {
   "cell_type": "code",
   "execution_count": 41,
   "id": "3ae35fd1",
   "metadata": {},
   "outputs": [],
   "source": [
    "df = pd.read_csv(r'C:\\Users\\Анна\\pregnancy.csv')"
   ]
  },
  {
   "cell_type": "code",
   "execution_count": 42,
   "id": "2eea00fa",
   "metadata": {},
   "outputs": [
    {
     "data": {
      "text/html": [
       "<div>\n",
       "<style scoped>\n",
       "    .dataframe tbody tr th:only-of-type {\n",
       "        vertical-align: middle;\n",
       "    }\n",
       "\n",
       "    .dataframe tbody tr th {\n",
       "        vertical-align: top;\n",
       "    }\n",
       "\n",
       "    .dataframe thead th {\n",
       "        text-align: right;\n",
       "    }\n",
       "</style>\n",
       "<table border=\"1\" class=\"dataframe\">\n",
       "  <thead>\n",
       "    <tr style=\"text-align: right;\">\n",
       "      <th></th>\n",
       "      <th>y_true</th>\n",
       "      <th>y_pred1</th>\n",
       "      <th>y_pred2</th>\n",
       "    </tr>\n",
       "  </thead>\n",
       "  <tbody>\n",
       "    <tr>\n",
       "      <th>0</th>\n",
       "      <td>0</td>\n",
       "      <td>0</td>\n",
       "      <td>0</td>\n",
       "    </tr>\n",
       "    <tr>\n",
       "      <th>1</th>\n",
       "      <td>1</td>\n",
       "      <td>1</td>\n",
       "      <td>1</td>\n",
       "    </tr>\n",
       "    <tr>\n",
       "      <th>2</th>\n",
       "      <td>1</td>\n",
       "      <td>1</td>\n",
       "      <td>1</td>\n",
       "    </tr>\n",
       "    <tr>\n",
       "      <th>3</th>\n",
       "      <td>0</td>\n",
       "      <td>1</td>\n",
       "      <td>0</td>\n",
       "    </tr>\n",
       "    <tr>\n",
       "      <th>4</th>\n",
       "      <td>1</td>\n",
       "      <td>1</td>\n",
       "      <td>1</td>\n",
       "    </tr>\n",
       "  </tbody>\n",
       "</table>\n",
       "</div>"
      ],
      "text/plain": [
       "   y_true  y_pred1  y_pred2\n",
       "0       0        0        0\n",
       "1       1        1        1\n",
       "2       1        1        1\n",
       "3       0        1        0\n",
       "4       1        1        1"
      ]
     },
     "execution_count": 42,
     "metadata": {},
     "output_type": "execute_result"
    }
   ],
   "source": [
    "df.head()"
   ]
  },
  {
   "cell_type": "code",
   "execution_count": 50,
   "id": "875d7d31",
   "metadata": {},
   "outputs": [
    {
     "data": {
      "text/plain": [
       "500"
      ]
     },
     "execution_count": 50,
     "metadata": {},
     "output_type": "execute_result"
    }
   ],
   "source": [
    "len(df[df['y_true'] != df['y_pred1']])"
   ]
  },
  {
   "cell_type": "code",
   "execution_count": 47,
   "id": "3d458e2d",
   "metadata": {},
   "outputs": [
    {
     "data": {
      "text/plain": [
       "0.95"
      ]
     },
     "execution_count": 47,
     "metadata": {},
     "output_type": "execute_result"
    }
   ],
   "source": [
    "# Accuracy for test1\n",
    "(df['y_true'] == df['y_pred1']).mean()"
   ]
  },
  {
   "cell_type": "code",
   "execution_count": 51,
   "id": "e3402df4",
   "metadata": {},
   "outputs": [
    {
     "data": {
      "text/plain": [
       "0.95"
      ]
     },
     "execution_count": 51,
     "metadata": {},
     "output_type": "execute_result"
    }
   ],
   "source": [
    "# Accuracy for test2\n",
    "(df['y_true'] == df['y_pred2']).mean()"
   ]
  },
  {
   "cell_type": "code",
   "execution_count": 52,
   "id": "70aae87e",
   "metadata": {},
   "outputs": [],
   "source": [
    "tn, fp, fn, tp = confusion_matrix(df['y_true'], df['y_pred1']).ravel()"
   ]
  },
  {
   "cell_type": "code",
   "execution_count": 54,
   "id": "173aee86",
   "metadata": {},
   "outputs": [
    {
     "data": {
      "text/plain": [
       "0.9901671583087512"
      ]
     },
     "execution_count": 54,
     "metadata": {},
     "output_type": "execute_result"
    }
   ],
   "source": [
    "recall_score(df['y_true'],df['y_pred1'])"
   ]
  },
  {
   "cell_type": "code",
   "execution_count": 55,
   "id": "51e653d8",
   "metadata": {},
   "outputs": [
    {
     "data": {
      "text/plain": [
       "0.9084435401831129"
      ]
     },
     "execution_count": 55,
     "metadata": {},
     "output_type": "execute_result"
    }
   ],
   "source": [
    "recall_score(df['y_true'],df['y_pred1'],pos_label=0)"
   ]
  },
  {
   "cell_type": "code",
   "execution_count": 53,
   "id": "e79b65c2",
   "metadata": {},
   "outputs": [
    {
     "data": {
      "text/plain": [
       "0.9901671583087512"
      ]
     },
     "execution_count": 53,
     "metadata": {},
     "output_type": "execute_result"
    }
   ],
   "source": [
    "# Sensitivity\n",
    "tp / (tp + fn)"
   ]
  },
  {
   "cell_type": "code",
   "execution_count": 57,
   "id": "e53e26f1",
   "metadata": {},
   "outputs": [
    {
     "data": {
      "text/plain": [
       "0.9084435401831129"
      ]
     },
     "execution_count": 57,
     "metadata": {},
     "output_type": "execute_result"
    }
   ],
   "source": [
    "# Specificity\n",
    "tn / (tn + fp)"
   ]
  },
  {
   "cell_type": "code",
   "execution_count": 58,
   "id": "f3925a0b",
   "metadata": {},
   "outputs": [],
   "source": [
    "tn, fp, fn, tp = confusion_matrix(df['y_true'], df['y_pred2']).ravel()"
   ]
  },
  {
   "cell_type": "code",
   "execution_count": 59,
   "id": "27af69c1",
   "metadata": {},
   "outputs": [
    {
     "data": {
      "text/plain": [
       "0.9508357915437562"
      ]
     },
     "execution_count": 59,
     "metadata": {},
     "output_type": "execute_result"
    }
   ],
   "source": [
    "# Sensitivity\n",
    "tp / (tp + fn)"
   ]
  },
  {
   "cell_type": "code",
   "execution_count": 60,
   "id": "2a51185a",
   "metadata": {},
   "outputs": [
    {
     "data": {
      "text/plain": [
       "0.9491353001017294"
      ]
     },
     "execution_count": 60,
     "metadata": {},
     "output_type": "execute_result"
    }
   ],
   "source": [
    "# Specificity\n",
    "tn / (tn + fp)"
   ]
  },
  {
   "cell_type": "code",
   "execution_count": 62,
   "id": "050fe359",
   "metadata": {},
   "outputs": [],
   "source": [
    "df['accuracy1'] = df['y_true'] == df['y_pred1']\n",
    "df['accuracy2'] = df['y_true'] == df['y_pred2']"
   ]
  },
  {
   "cell_type": "code",
   "execution_count": 65,
   "id": "382246c9",
   "metadata": {},
   "outputs": [
    {
     "name": "stderr",
     "output_type": "stream",
     "text": [
      "C:\\Users\\Анна\\AppData\\Local\\Temp\\ipykernel_42352\\1358933137.py:1: FutureWarning: Indexing with multiple keys (implicitly converted to a tuple of keys) will be deprecated, use a list instead.\n",
      "  df.groupby('y_true')['accuracy1', 'accuracy2'].mean()\n"
     ]
    },
    {
     "data": {
      "text/html": [
       "<div>\n",
       "<style scoped>\n",
       "    .dataframe tbody tr th:only-of-type {\n",
       "        vertical-align: middle;\n",
       "    }\n",
       "\n",
       "    .dataframe tbody tr th {\n",
       "        vertical-align: top;\n",
       "    }\n",
       "\n",
       "    .dataframe thead th {\n",
       "        text-align: right;\n",
       "    }\n",
       "</style>\n",
       "<table border=\"1\" class=\"dataframe\">\n",
       "  <thead>\n",
       "    <tr style=\"text-align: right;\">\n",
       "      <th></th>\n",
       "      <th>accuracy1</th>\n",
       "      <th>accuracy2</th>\n",
       "    </tr>\n",
       "    <tr>\n",
       "      <th>y_true</th>\n",
       "      <th></th>\n",
       "      <th></th>\n",
       "    </tr>\n",
       "  </thead>\n",
       "  <tbody>\n",
       "    <tr>\n",
       "      <th>0</th>\n",
       "      <td>0.908444</td>\n",
       "      <td>0.949135</td>\n",
       "    </tr>\n",
       "    <tr>\n",
       "      <th>1</th>\n",
       "      <td>0.990167</td>\n",
       "      <td>0.950836</td>\n",
       "    </tr>\n",
       "  </tbody>\n",
       "</table>\n",
       "</div>"
      ],
      "text/plain": [
       "        accuracy1  accuracy2\n",
       "y_true                      \n",
       "0        0.908444   0.949135\n",
       "1        0.990167   0.950836"
      ]
     },
     "execution_count": 65,
     "metadata": {},
     "output_type": "execute_result"
    }
   ],
   "source": [
    "df.groupby('y_true')['accuracy1', 'accuracy2'].mean()"
   ]
  },
  {
   "cell_type": "markdown",
   "id": "5bd514d7",
   "metadata": {},
   "source": [
    "## Случайные числа"
   ]
  },
  {
   "cell_type": "code",
   "execution_count": 30,
   "id": "498d5b06",
   "metadata": {},
   "outputs": [
    {
     "data": {
      "text/plain": [
       "0.0"
      ]
     },
     "execution_count": 30,
     "metadata": {},
     "output_type": "execute_result"
    }
   ],
   "source": [
    "np.mean(np.random.binomial(1, 0.03, size=10))"
   ]
  },
  {
   "cell_type": "code",
   "execution_count": 34,
   "id": "426ab280",
   "metadata": {},
   "outputs": [],
   "source": [
    "a = np.random.binomial(1, 0.03, size=1000).mean()\n",
    "b = np.random.binomial(1, 0.05, size=1000).mean()"
   ]
  },
  {
   "cell_type": "code",
   "execution_count": 35,
   "id": "69731997",
   "metadata": {},
   "outputs": [
    {
     "data": {
      "text/plain": [
       "(0.028, 0.046)"
      ]
     },
     "execution_count": 35,
     "metadata": {},
     "output_type": "execute_result"
    }
   ],
   "source": [
    "a, b"
   ]
  },
  {
   "cell_type": "code",
   "execution_count": 36,
   "id": "895df9f5",
   "metadata": {},
   "outputs": [],
   "source": [
    "n = 1000\n",
    "res = []\n",
    "for i in range(n):\n",
    "    a = np.random.binomial(1, 0.03, size=1000).mean()\n",
    "    b = np.random.binomial(1, 0.05, size=1000).mean()\n",
    "    res.append((a, b))"
   ]
  },
  {
   "cell_type": "code",
   "execution_count": 38,
   "id": "f52fd27d",
   "metadata": {},
   "outputs": [],
   "source": [
    "df = pd.DataFrame(res)\n",
    "df.columns = ['a', 'b']"
   ]
  },
  {
   "cell_type": "code",
   "execution_count": 41,
   "id": "e17adbc4",
   "metadata": {},
   "outputs": [
    {
     "data": {
      "text/html": [
       "<div>\n",
       "<style scoped>\n",
       "    .dataframe tbody tr th:only-of-type {\n",
       "        vertical-align: middle;\n",
       "    }\n",
       "\n",
       "    .dataframe tbody tr th {\n",
       "        vertical-align: top;\n",
       "    }\n",
       "\n",
       "    .dataframe thead th {\n",
       "        text-align: right;\n",
       "    }\n",
       "</style>\n",
       "<table border=\"1\" class=\"dataframe\">\n",
       "  <thead>\n",
       "    <tr style=\"text-align: right;\">\n",
       "      <th></th>\n",
       "      <th>a</th>\n",
       "      <th>b</th>\n",
       "    </tr>\n",
       "  </thead>\n",
       "  <tbody>\n",
       "    <tr>\n",
       "      <th>132</th>\n",
       "      <td>0.037</td>\n",
       "      <td>0.035</td>\n",
       "    </tr>\n",
       "    <tr>\n",
       "      <th>567</th>\n",
       "      <td>0.045</td>\n",
       "      <td>0.035</td>\n",
       "    </tr>\n",
       "    <tr>\n",
       "      <th>678</th>\n",
       "      <td>0.044</td>\n",
       "      <td>0.040</td>\n",
       "    </tr>\n",
       "    <tr>\n",
       "      <th>699</th>\n",
       "      <td>0.037</td>\n",
       "      <td>0.034</td>\n",
       "    </tr>\n",
       "    <tr>\n",
       "      <th>847</th>\n",
       "      <td>0.039</td>\n",
       "      <td>0.037</td>\n",
       "    </tr>\n",
       "    <tr>\n",
       "      <th>881</th>\n",
       "      <td>0.038</td>\n",
       "      <td>0.036</td>\n",
       "    </tr>\n",
       "    <tr>\n",
       "      <th>955</th>\n",
       "      <td>0.046</td>\n",
       "      <td>0.044</td>\n",
       "    </tr>\n",
       "    <tr>\n",
       "      <th>982</th>\n",
       "      <td>0.039</td>\n",
       "      <td>0.037</td>\n",
       "    </tr>\n",
       "  </tbody>\n",
       "</table>\n",
       "</div>"
      ],
      "text/plain": [
       "         a      b\n",
       "132  0.037  0.035\n",
       "567  0.045  0.035\n",
       "678  0.044  0.040\n",
       "699  0.037  0.034\n",
       "847  0.039  0.037\n",
       "881  0.038  0.036\n",
       "955  0.046  0.044\n",
       "982  0.039  0.037"
      ]
     },
     "execution_count": 41,
     "metadata": {},
     "output_type": "execute_result"
    }
   ],
   "source": [
    "df.query('a > b')"
   ]
  },
  {
   "cell_type": "code",
   "execution_count": 42,
   "id": "8785acd9",
   "metadata": {},
   "outputs": [],
   "source": [
    "a = np.random.binomial(1, 0.03, size=1484).mean()\n",
    "b = np.random.binomial(1, 0.05, size=1484).mean()"
   ]
  },
  {
   "cell_type": "code",
   "execution_count": 43,
   "id": "ad6f729f",
   "metadata": {},
   "outputs": [
    {
     "data": {
      "text/plain": [
       "(0.03706199460916442, 0.04986522911051213)"
      ]
     },
     "execution_count": 43,
     "metadata": {},
     "output_type": "execute_result"
    }
   ],
   "source": [
    "a, b"
   ]
  },
  {
   "cell_type": "code",
   "execution_count": 44,
   "id": "8b16dd61",
   "metadata": {},
   "outputs": [
    {
     "data": {
      "text/plain": [
       "(55.0, 74.0)"
      ]
     },
     "execution_count": 44,
     "metadata": {},
     "output_type": "execute_result"
    }
   ],
   "source": [
    "a*1484, b*1484"
   ]
  },
  {
   "cell_type": "code",
   "execution_count": 47,
   "id": "4a9d6d79",
   "metadata": {},
   "outputs": [],
   "source": [
    "a = np.random.binomial(1484, 0.03)\n",
    "b = np.random.binomial(1484, 0.05)"
   ]
  },
  {
   "cell_type": "code",
   "execution_count": 48,
   "id": "7777a9b6",
   "metadata": {},
   "outputs": [
    {
     "data": {
      "text/plain": [
       "(50, 56)"
      ]
     },
     "execution_count": 48,
     "metadata": {},
     "output_type": "execute_result"
    }
   ],
   "source": [
    "a, b"
   ]
  },
  {
   "cell_type": "code",
   "execution_count": 49,
   "id": "04cc45a6",
   "metadata": {},
   "outputs": [
    {
     "data": {
      "text/plain": [
       "(46, 70)"
      ]
     },
     "execution_count": 49,
     "metadata": {},
     "output_type": "execute_result"
    }
   ],
   "source": [
    "a = np.random.binomial(1484, 0.03)\n",
    "b = np.random.binomial(1484, 0.05)\n",
    "a, b"
   ]
  },
  {
   "cell_type": "code",
   "execution_count": 50,
   "id": "605b1e6d",
   "metadata": {},
   "outputs": [],
   "source": [
    "from statsmodels.stats.proportion import proportions_ztest"
   ]
  },
  {
   "cell_type": "code",
   "execution_count": 51,
   "id": "82e4e6cf",
   "metadata": {},
   "outputs": [],
   "source": [
    "def test(conv_a,conv_b,size_a,size_b,significance=0.05):\n",
    "  _, p_value = proportions_ztest([conv_a, conv_b],\n",
    "                                 [size_a, size_b],\n",
    "                                 alternative='two-sided')\n",
    "  return p_value < significance"
   ]
  },
  {
   "cell_type": "code",
   "execution_count": 52,
   "id": "aea1d39b",
   "metadata": {},
   "outputs": [
    {
     "data": {
      "text/plain": [
       "False"
      ]
     },
     "execution_count": 52,
     "metadata": {},
     "output_type": "execute_result"
    }
   ],
   "source": [
    "test(49,52,1484,1484)"
   ]
  },
  {
   "cell_type": "code",
   "execution_count": 53,
   "id": "4479209c",
   "metadata": {},
   "outputs": [
    {
     "data": {
      "text/plain": [
       "True"
      ]
     },
     "execution_count": 53,
     "metadata": {},
     "output_type": "execute_result"
    }
   ],
   "source": [
    "test(44,78,1484,1484)"
   ]
  },
  {
   "cell_type": "markdown",
   "id": "4f98ca08",
   "metadata": {},
   "source": [
    "## TPR"
   ]
  },
  {
   "cell_type": "code",
   "execution_count": 69,
   "id": "f32e13dc",
   "metadata": {},
   "outputs": [],
   "source": [
    "n = 10000\n",
    "res = []\n",
    "for _ in range(n):\n",
    "    a = np.random.binomial(1484, 0.03)\n",
    "    b = np.random.binomial(1484, 0.05)\n",
    "    res.append((a, b))"
   ]
  },
  {
   "cell_type": "code",
   "execution_count": 70,
   "id": "25247012",
   "metadata": {},
   "outputs": [],
   "source": [
    "df = pd.DataFrame(res, columns = ['a', 'b'])"
   ]
  },
  {
   "cell_type": "code",
   "execution_count": 71,
   "id": "a7c48f6d",
   "metadata": {},
   "outputs": [],
   "source": [
    "df['test'] = df.apply(lambda x: test(x['a'], x['b'], 1484, 1484), axis=1)"
   ]
  },
  {
   "cell_type": "code",
   "execution_count": 72,
   "id": "66785505",
   "metadata": {},
   "outputs": [
    {
     "data": {
      "text/plain": [
       "0.8001"
      ]
     },
     "execution_count": 72,
     "metadata": {},
     "output_type": "execute_result"
    }
   ],
   "source": [
    "df['test'].mean()"
   ]
  },
  {
   "cell_type": "markdown",
   "id": "c35671fe",
   "metadata": {},
   "source": [
    "## FPR"
   ]
  },
  {
   "cell_type": "code",
   "execution_count": 73,
   "id": "7cc7d511",
   "metadata": {},
   "outputs": [],
   "source": [
    "from tqdm.notebook import tqdm"
   ]
  },
  {
   "cell_type": "code",
   "execution_count": 76,
   "id": "b666b9d3",
   "metadata": {},
   "outputs": [],
   "source": [
    "from tqdm import tqdm"
   ]
  },
  {
   "cell_type": "code",
   "execution_count": 77,
   "id": "f6990712",
   "metadata": {},
   "outputs": [],
   "source": [
    "tqdm.pandas()"
   ]
  },
  {
   "cell_type": "code",
   "execution_count": 83,
   "id": "09066b30",
   "metadata": {},
   "outputs": [
    {
     "name": "stderr",
     "output_type": "stream",
     "text": [
      "100%|██████████████████████████████████████████████████████████████████████| 100000/100000 [00:00<00:00, 228790.24it/s]\n"
     ]
    }
   ],
   "source": [
    "n = 100000\n",
    "res = []\n",
    "for _ in tqdm(range(n)):\n",
    "    a = np.random.binomial(1484, 0.03)\n",
    "    b = np.random.binomial(1484, 0.03)\n",
    "    res.append((a, b))"
   ]
  },
  {
   "cell_type": "code",
   "execution_count": 84,
   "id": "a001eb27",
   "metadata": {},
   "outputs": [],
   "source": [
    "df = pd.DataFrame(res, columns = ['a', 'b'])"
   ]
  },
  {
   "cell_type": "code",
   "execution_count": 85,
   "id": "cd0ade32",
   "metadata": {},
   "outputs": [
    {
     "name": "stderr",
     "output_type": "stream",
     "text": [
      "100%|███████████████████████████████████████████████████████████████████████| 100000/100000 [00:09<00:00, 10022.99it/s]\n"
     ]
    }
   ],
   "source": [
    "df['test'] = df.progress_apply(lambda row: test(row['a'],row['b'],1484,1484),axis=1)"
   ]
  },
  {
   "cell_type": "code",
   "execution_count": 86,
   "id": "2591f822",
   "metadata": {},
   "outputs": [
    {
     "data": {
      "text/plain": [
       "0.05139"
      ]
     },
     "execution_count": 86,
     "metadata": {},
     "output_type": "execute_result"
    }
   ],
   "source": [
    "df['test'].mean()"
   ]
  },
  {
   "cell_type": "markdown",
   "id": "e7c39bf5",
   "metadata": {},
   "source": [
    "## MDE"
   ]
  },
  {
   "cell_type": "code",
   "execution_count": 99,
   "id": "5f9763e9",
   "metadata": {},
   "outputs": [
    {
     "name": "stderr",
     "output_type": "stream",
     "text": [
      "100%|████████████████████████████████████████████████████████████████████████| 10000/10000 [00:00<00:00, 227695.15it/s]\n"
     ]
    }
   ],
   "source": [
    "n = 10000\n",
    "res = []\n",
    "for _ in tqdm(range(n)):\n",
    "    a = np.random.binomial(1484, 0.03)\n",
    "    b = np.random.binomial(1484, 0.048)\n",
    "    res.append((a, b))"
   ]
  },
  {
   "cell_type": "code",
   "execution_count": 100,
   "id": "b85ae558",
   "metadata": {},
   "outputs": [],
   "source": [
    "df = pd.DataFrame(res, columns = ['a', 'b'])"
   ]
  },
  {
   "cell_type": "code",
   "execution_count": 101,
   "id": "5a26ccd4",
   "metadata": {},
   "outputs": [
    {
     "name": "stderr",
     "output_type": "stream",
     "text": [
      "100%|█████████████████████████████████████████████████████████████████████████| 10000/10000 [00:00<00:00, 10081.74it/s]\n"
     ]
    }
   ],
   "source": [
    "df['test'] = df.progress_apply(lambda row: test(row['a'],row['b'],1484,1484),axis=1)"
   ]
  },
  {
   "cell_type": "code",
   "execution_count": 102,
   "id": "7e663301",
   "metadata": {},
   "outputs": [
    {
     "data": {
      "text/plain": [
       "0.7282"
      ]
     },
     "execution_count": 102,
     "metadata": {},
     "output_type": "execute_result"
    }
   ],
   "source": [
    "df['test'].mean()"
   ]
  },
  {
   "cell_type": "markdown",
   "id": "9b610cf4",
   "metadata": {},
   "source": [
    "## Проверяем калькулятор Evan Miller"
   ]
  },
  {
   "cell_type": "markdown",
   "id": "fc6d35ba",
   "metadata": {},
   "source": [
    "### TPR"
   ]
  },
  {
   "cell_type": "code",
   "execution_count": 103,
   "id": "975812d6",
   "metadata": {},
   "outputs": [
    {
     "name": "stderr",
     "output_type": "stream",
     "text": [
      "100%|██████████████████████████████████████████████████████████████████████| 100000/100000 [00:00<00:00, 232011.89it/s]\n"
     ]
    }
   ],
   "source": [
    "n = 100000\n",
    "res = []\n",
    "for _ in tqdm(range(n)):\n",
    "    a = np.random.binomial(1609, 0.04)\n",
    "    b = np.random.binomial(1609, 0.06)\n",
    "    res.append((a, b))"
   ]
  },
  {
   "cell_type": "code",
   "execution_count": 104,
   "id": "0799bac1",
   "metadata": {},
   "outputs": [],
   "source": [
    "df = pd.DataFrame(res, columns = ['a', 'b'])"
   ]
  },
  {
   "cell_type": "code",
   "execution_count": 105,
   "id": "1324eae3",
   "metadata": {},
   "outputs": [
    {
     "name": "stderr",
     "output_type": "stream",
     "text": [
      "100%|███████████████████████████████████████████████████████████████████████| 100000/100000 [00:09<00:00, 10179.42it/s]\n"
     ]
    }
   ],
   "source": [
    "df['test'] = df.progress_apply(lambda row: test(row['a'],row['b'],1609,1609),axis=1)"
   ]
  },
  {
   "cell_type": "code",
   "execution_count": 106,
   "id": "04d4954c",
   "metadata": {},
   "outputs": [
    {
     "data": {
      "text/plain": [
       "0.74387"
      ]
     },
     "execution_count": 106,
     "metadata": {},
     "output_type": "execute_result"
    }
   ],
   "source": [
    "df['test'].mean()"
   ]
  },
  {
   "cell_type": "markdown",
   "id": "242ed662",
   "metadata": {},
   "source": [
    "### FPR"
   ]
  },
  {
   "cell_type": "code",
   "execution_count": 107,
   "id": "5fbf9d55",
   "metadata": {},
   "outputs": [
    {
     "name": "stderr",
     "output_type": "stream",
     "text": [
      "100%|██████████████████████████████████████████████████████████████████████| 100000/100000 [00:00<00:00, 227009.95it/s]\n"
     ]
    }
   ],
   "source": [
    "n = 100000\n",
    "res = []\n",
    "for _ in tqdm(range(n)):\n",
    "    a = np.random.binomial(1609, 0.04)\n",
    "    b = np.random.binomial(1609, 0.04)\n",
    "    res.append((a, b))"
   ]
  },
  {
   "cell_type": "code",
   "execution_count": 108,
   "id": "febb8383",
   "metadata": {},
   "outputs": [],
   "source": [
    "df = pd.DataFrame(res, columns = ['a', 'b'])"
   ]
  },
  {
   "cell_type": "code",
   "execution_count": 109,
   "id": "08761ec6",
   "metadata": {},
   "outputs": [
    {
     "name": "stderr",
     "output_type": "stream",
     "text": [
      "100%|███████████████████████████████████████████████████████████████████████| 100000/100000 [00:09<00:00, 10032.43it/s]\n"
     ]
    }
   ],
   "source": [
    "df['test'] = df.progress_apply(lambda row: test(row['a'],row['b'],1609,1609),axis=1)"
   ]
  },
  {
   "cell_type": "code",
   "execution_count": 110,
   "id": "d33a9162",
   "metadata": {},
   "outputs": [
    {
     "data": {
      "text/plain": [
       "0.04955"
      ]
     },
     "execution_count": 110,
     "metadata": {},
     "output_type": "execute_result"
    }
   ],
   "source": [
    "df['test'].mean()"
   ]
  },
  {
   "cell_type": "markdown",
   "id": "05edc77e",
   "metadata": {},
   "source": [
    "### MDE"
   ]
  },
  {
   "cell_type": "code",
   "execution_count": 147,
   "id": "6ede439c",
   "metadata": {},
   "outputs": [
    {
     "name": "stderr",
     "output_type": "stream",
     "text": [
      "100%|██████████████████████████████████████████████████████████████████████| 100000/100000 [00:00<00:00, 231270.67it/s]\n"
     ]
    }
   ],
   "source": [
    "n = 100000\n",
    "res = []\n",
    "for _ in tqdm(range(n)):\n",
    "    a = np.random.binomial(1830, 0.04)\n",
    "    b = np.random.binomial(1830, 0.06)\n",
    "    res.append((a, b))"
   ]
  },
  {
   "cell_type": "code",
   "execution_count": 148,
   "id": "2e469c2a",
   "metadata": {},
   "outputs": [],
   "source": [
    "df = pd.DataFrame(res, columns = ['a', 'b'])"
   ]
  },
  {
   "cell_type": "code",
   "execution_count": 149,
   "id": "a08a247c",
   "metadata": {},
   "outputs": [
    {
     "name": "stderr",
     "output_type": "stream",
     "text": [
      "100%|███████████████████████████████████████████████████████████████████████| 100000/100000 [00:09<00:00, 10145.20it/s]\n"
     ]
    }
   ],
   "source": [
    "df['test'] = df.progress_apply(lambda row: test(row['a'],row['b'],1609,1609),axis=1)"
   ]
  },
  {
   "cell_type": "code",
   "execution_count": 150,
   "id": "a89ddca1",
   "metadata": {},
   "outputs": [
    {
     "data": {
      "text/plain": [
       "0.79643"
      ]
     },
     "execution_count": 150,
     "metadata": {},
     "output_type": "execute_result"
    }
   ],
   "source": [
    "df['test'].mean()"
   ]
  },
  {
   "cell_type": "markdown",
   "id": "cc8b9bac",
   "metadata": {},
   "source": [
    "## Sample sizes in Python"
   ]
  },
  {
   "cell_type": "code",
   "execution_count": 151,
   "id": "784b04d0",
   "metadata": {},
   "outputs": [
    {
     "data": {
      "text/plain": [
       "(1484, 1484)"
      ]
     },
     "execution_count": 151,
     "metadata": {},
     "output_type": "execute_result"
    }
   ],
   "source": [
    "from statsmodels.stats.power import NormalIndPower\n",
    "import statsmodels.api as sm\n",
    "\n",
    "baseline = 0.03\n",
    "mde = 0.02\n",
    "ratio = 1\n",
    "power = 0.8\n",
    "alpha = 0.05\n",
    "\n",
    "analysis = NormalIndPower()\n",
    "\n",
    "effect_size = sm.stats.proportion_effectsize(baseline, baseline + mde)\n",
    "\n",
    "result = analysis.solve_power(effect_size=effect_size, power=power, alpha=alpha, ratio=ratio, alternative='two-sided')\n",
    "sample_size = int(np.ceil(result))\n",
    "\n",
    "sample_size, sample_size*ratio"
   ]
  },
  {
   "cell_type": "code",
   "execution_count": null,
   "id": "c09831bd",
   "metadata": {},
   "outputs": [],
   "source": []
  }
 ],
 "metadata": {
  "kernelspec": {
   "display_name": "Python 3 (ipykernel)",
   "language": "python",
   "name": "python3"
  },
  "language_info": {
   "codemirror_mode": {
    "name": "ipython",
    "version": 3
   },
   "file_extension": ".py",
   "mimetype": "text/x-python",
   "name": "python",
   "nbconvert_exporter": "python",
   "pygments_lexer": "ipython3",
   "version": "3.9.12"
  }
 },
 "nbformat": 4,
 "nbformat_minor": 5
}
